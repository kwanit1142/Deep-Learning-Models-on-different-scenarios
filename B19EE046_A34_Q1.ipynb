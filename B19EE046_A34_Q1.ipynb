{
  "nbformat": 4,
  "nbformat_minor": 0,
  "metadata": {
    "colab": {
      "name": "B19EE046_A34_Q1.ipynb",
      "provenance": [],
      "collapsed_sections": [],
      "machine_shape": "hm"
    },
    "kernelspec": {
      "name": "python3",
      "display_name": "Python 3"
    },
    "language_info": {
      "name": "python"
    },
    "widgets": {
      "application/vnd.jupyter.widget-state+json": {
        "b76ca9a50b05464ab644872e1dc0c901": {
          "model_module": "@jupyter-widgets/controls",
          "model_name": "HBoxModel",
          "model_module_version": "1.5.0",
          "state": {
            "_dom_classes": [],
            "_model_module": "@jupyter-widgets/controls",
            "_model_module_version": "1.5.0",
            "_model_name": "HBoxModel",
            "_view_count": null,
            "_view_module": "@jupyter-widgets/controls",
            "_view_module_version": "1.5.0",
            "_view_name": "HBoxView",
            "box_style": "",
            "children": [
              "IPY_MODEL_52c4e35bec894f8a94047d948ea4120b",
              "IPY_MODEL_703d54254d1a460bb1af4d52af654c53",
              "IPY_MODEL_e85f304a0d344362bc6334ca68bac406"
            ],
            "layout": "IPY_MODEL_956f7b3eea90414ba7e19ce962a78828"
          }
        },
        "52c4e35bec894f8a94047d948ea4120b": {
          "model_module": "@jupyter-widgets/controls",
          "model_name": "HTMLModel",
          "model_module_version": "1.5.0",
          "state": {
            "_dom_classes": [],
            "_model_module": "@jupyter-widgets/controls",
            "_model_module_version": "1.5.0",
            "_model_name": "HTMLModel",
            "_view_count": null,
            "_view_module": "@jupyter-widgets/controls",
            "_view_module_version": "1.5.0",
            "_view_name": "HTMLView",
            "description": "",
            "description_tooltip": null,
            "layout": "IPY_MODEL_4ee956c458cb4799988c6c264afefc04",
            "placeholder": "​",
            "style": "IPY_MODEL_4c6942d5473c4926aa3824e2349e459f",
            "value": ""
          }
        },
        "703d54254d1a460bb1af4d52af654c53": {
          "model_module": "@jupyter-widgets/controls",
          "model_name": "FloatProgressModel",
          "model_module_version": "1.5.0",
          "state": {
            "_dom_classes": [],
            "_model_module": "@jupyter-widgets/controls",
            "_model_module_version": "1.5.0",
            "_model_name": "FloatProgressModel",
            "_view_count": null,
            "_view_module": "@jupyter-widgets/controls",
            "_view_module_version": "1.5.0",
            "_view_name": "ProgressView",
            "bar_style": "success",
            "description": "",
            "description_tooltip": null,
            "layout": "IPY_MODEL_5fd3e5bbd929478184466ebb0dab831b",
            "max": 9912422,
            "min": 0,
            "orientation": "horizontal",
            "style": "IPY_MODEL_5bca6dc0d7f74798a5ca6affb03b2b49",
            "value": 9912422
          }
        },
        "e85f304a0d344362bc6334ca68bac406": {
          "model_module": "@jupyter-widgets/controls",
          "model_name": "HTMLModel",
          "model_module_version": "1.5.0",
          "state": {
            "_dom_classes": [],
            "_model_module": "@jupyter-widgets/controls",
            "_model_module_version": "1.5.0",
            "_model_name": "HTMLModel",
            "_view_count": null,
            "_view_module": "@jupyter-widgets/controls",
            "_view_module_version": "1.5.0",
            "_view_name": "HTMLView",
            "description": "",
            "description_tooltip": null,
            "layout": "IPY_MODEL_aa5a6e1aa9184542aa016850a079686e",
            "placeholder": "​",
            "style": "IPY_MODEL_ce2b43cf29994ecb89766688ec6de898",
            "value": " 9913344/? [00:00&lt;00:00, 23142091.02it/s]"
          }
        },
        "956f7b3eea90414ba7e19ce962a78828": {
          "model_module": "@jupyter-widgets/base",
          "model_name": "LayoutModel",
          "model_module_version": "1.2.0",
          "state": {
            "_model_module": "@jupyter-widgets/base",
            "_model_module_version": "1.2.0",
            "_model_name": "LayoutModel",
            "_view_count": null,
            "_view_module": "@jupyter-widgets/base",
            "_view_module_version": "1.2.0",
            "_view_name": "LayoutView",
            "align_content": null,
            "align_items": null,
            "align_self": null,
            "border": null,
            "bottom": null,
            "display": null,
            "flex": null,
            "flex_flow": null,
            "grid_area": null,
            "grid_auto_columns": null,
            "grid_auto_flow": null,
            "grid_auto_rows": null,
            "grid_column": null,
            "grid_gap": null,
            "grid_row": null,
            "grid_template_areas": null,
            "grid_template_columns": null,
            "grid_template_rows": null,
            "height": null,
            "justify_content": null,
            "justify_items": null,
            "left": null,
            "margin": null,
            "max_height": null,
            "max_width": null,
            "min_height": null,
            "min_width": null,
            "object_fit": null,
            "object_position": null,
            "order": null,
            "overflow": null,
            "overflow_x": null,
            "overflow_y": null,
            "padding": null,
            "right": null,
            "top": null,
            "visibility": null,
            "width": null
          }
        },
        "4ee956c458cb4799988c6c264afefc04": {
          "model_module": "@jupyter-widgets/base",
          "model_name": "LayoutModel",
          "model_module_version": "1.2.0",
          "state": {
            "_model_module": "@jupyter-widgets/base",
            "_model_module_version": "1.2.0",
            "_model_name": "LayoutModel",
            "_view_count": null,
            "_view_module": "@jupyter-widgets/base",
            "_view_module_version": "1.2.0",
            "_view_name": "LayoutView",
            "align_content": null,
            "align_items": null,
            "align_self": null,
            "border": null,
            "bottom": null,
            "display": null,
            "flex": null,
            "flex_flow": null,
            "grid_area": null,
            "grid_auto_columns": null,
            "grid_auto_flow": null,
            "grid_auto_rows": null,
            "grid_column": null,
            "grid_gap": null,
            "grid_row": null,
            "grid_template_areas": null,
            "grid_template_columns": null,
            "grid_template_rows": null,
            "height": null,
            "justify_content": null,
            "justify_items": null,
            "left": null,
            "margin": null,
            "max_height": null,
            "max_width": null,
            "min_height": null,
            "min_width": null,
            "object_fit": null,
            "object_position": null,
            "order": null,
            "overflow": null,
            "overflow_x": null,
            "overflow_y": null,
            "padding": null,
            "right": null,
            "top": null,
            "visibility": null,
            "width": null
          }
        },
        "4c6942d5473c4926aa3824e2349e459f": {
          "model_module": "@jupyter-widgets/controls",
          "model_name": "DescriptionStyleModel",
          "model_module_version": "1.5.0",
          "state": {
            "_model_module": "@jupyter-widgets/controls",
            "_model_module_version": "1.5.0",
            "_model_name": "DescriptionStyleModel",
            "_view_count": null,
            "_view_module": "@jupyter-widgets/base",
            "_view_module_version": "1.2.0",
            "_view_name": "StyleView",
            "description_width": ""
          }
        },
        "5fd3e5bbd929478184466ebb0dab831b": {
          "model_module": "@jupyter-widgets/base",
          "model_name": "LayoutModel",
          "model_module_version": "1.2.0",
          "state": {
            "_model_module": "@jupyter-widgets/base",
            "_model_module_version": "1.2.0",
            "_model_name": "LayoutModel",
            "_view_count": null,
            "_view_module": "@jupyter-widgets/base",
            "_view_module_version": "1.2.0",
            "_view_name": "LayoutView",
            "align_content": null,
            "align_items": null,
            "align_self": null,
            "border": null,
            "bottom": null,
            "display": null,
            "flex": null,
            "flex_flow": null,
            "grid_area": null,
            "grid_auto_columns": null,
            "grid_auto_flow": null,
            "grid_auto_rows": null,
            "grid_column": null,
            "grid_gap": null,
            "grid_row": null,
            "grid_template_areas": null,
            "grid_template_columns": null,
            "grid_template_rows": null,
            "height": null,
            "justify_content": null,
            "justify_items": null,
            "left": null,
            "margin": null,
            "max_height": null,
            "max_width": null,
            "min_height": null,
            "min_width": null,
            "object_fit": null,
            "object_position": null,
            "order": null,
            "overflow": null,
            "overflow_x": null,
            "overflow_y": null,
            "padding": null,
            "right": null,
            "top": null,
            "visibility": null,
            "width": null
          }
        },
        "5bca6dc0d7f74798a5ca6affb03b2b49": {
          "model_module": "@jupyter-widgets/controls",
          "model_name": "ProgressStyleModel",
          "model_module_version": "1.5.0",
          "state": {
            "_model_module": "@jupyter-widgets/controls",
            "_model_module_version": "1.5.0",
            "_model_name": "ProgressStyleModel",
            "_view_count": null,
            "_view_module": "@jupyter-widgets/base",
            "_view_module_version": "1.2.0",
            "_view_name": "StyleView",
            "bar_color": null,
            "description_width": ""
          }
        },
        "aa5a6e1aa9184542aa016850a079686e": {
          "model_module": "@jupyter-widgets/base",
          "model_name": "LayoutModel",
          "model_module_version": "1.2.0",
          "state": {
            "_model_module": "@jupyter-widgets/base",
            "_model_module_version": "1.2.0",
            "_model_name": "LayoutModel",
            "_view_count": null,
            "_view_module": "@jupyter-widgets/base",
            "_view_module_version": "1.2.0",
            "_view_name": "LayoutView",
            "align_content": null,
            "align_items": null,
            "align_self": null,
            "border": null,
            "bottom": null,
            "display": null,
            "flex": null,
            "flex_flow": null,
            "grid_area": null,
            "grid_auto_columns": null,
            "grid_auto_flow": null,
            "grid_auto_rows": null,
            "grid_column": null,
            "grid_gap": null,
            "grid_row": null,
            "grid_template_areas": null,
            "grid_template_columns": null,
            "grid_template_rows": null,
            "height": null,
            "justify_content": null,
            "justify_items": null,
            "left": null,
            "margin": null,
            "max_height": null,
            "max_width": null,
            "min_height": null,
            "min_width": null,
            "object_fit": null,
            "object_position": null,
            "order": null,
            "overflow": null,
            "overflow_x": null,
            "overflow_y": null,
            "padding": null,
            "right": null,
            "top": null,
            "visibility": null,
            "width": null
          }
        },
        "ce2b43cf29994ecb89766688ec6de898": {
          "model_module": "@jupyter-widgets/controls",
          "model_name": "DescriptionStyleModel",
          "model_module_version": "1.5.0",
          "state": {
            "_model_module": "@jupyter-widgets/controls",
            "_model_module_version": "1.5.0",
            "_model_name": "DescriptionStyleModel",
            "_view_count": null,
            "_view_module": "@jupyter-widgets/base",
            "_view_module_version": "1.2.0",
            "_view_name": "StyleView",
            "description_width": ""
          }
        },
        "2ce2d45b6f4744d099b4778bbd4f4f58": {
          "model_module": "@jupyter-widgets/controls",
          "model_name": "HBoxModel",
          "model_module_version": "1.5.0",
          "state": {
            "_dom_classes": [],
            "_model_module": "@jupyter-widgets/controls",
            "_model_module_version": "1.5.0",
            "_model_name": "HBoxModel",
            "_view_count": null,
            "_view_module": "@jupyter-widgets/controls",
            "_view_module_version": "1.5.0",
            "_view_name": "HBoxView",
            "box_style": "",
            "children": [
              "IPY_MODEL_2ac788f5af9a44008be7baa7f3aef81b",
              "IPY_MODEL_fe3eb150052645fba954ec4b23541555",
              "IPY_MODEL_a1efb48ab68c425f907dd32dd5070420"
            ],
            "layout": "IPY_MODEL_60dcdf6d3f0a43ef9b29767a04ceb70e"
          }
        },
        "2ac788f5af9a44008be7baa7f3aef81b": {
          "model_module": "@jupyter-widgets/controls",
          "model_name": "HTMLModel",
          "model_module_version": "1.5.0",
          "state": {
            "_dom_classes": [],
            "_model_module": "@jupyter-widgets/controls",
            "_model_module_version": "1.5.0",
            "_model_name": "HTMLModel",
            "_view_count": null,
            "_view_module": "@jupyter-widgets/controls",
            "_view_module_version": "1.5.0",
            "_view_name": "HTMLView",
            "description": "",
            "description_tooltip": null,
            "layout": "IPY_MODEL_c031d866370b4c39a66aa7aa7d6635e3",
            "placeholder": "​",
            "style": "IPY_MODEL_4455b312af864337bb9ff9aaf9353bf6",
            "value": ""
          }
        },
        "fe3eb150052645fba954ec4b23541555": {
          "model_module": "@jupyter-widgets/controls",
          "model_name": "FloatProgressModel",
          "model_module_version": "1.5.0",
          "state": {
            "_dom_classes": [],
            "_model_module": "@jupyter-widgets/controls",
            "_model_module_version": "1.5.0",
            "_model_name": "FloatProgressModel",
            "_view_count": null,
            "_view_module": "@jupyter-widgets/controls",
            "_view_module_version": "1.5.0",
            "_view_name": "ProgressView",
            "bar_style": "success",
            "description": "",
            "description_tooltip": null,
            "layout": "IPY_MODEL_a30c3972ee3b4bb88c11ce3383b61878",
            "max": 28881,
            "min": 0,
            "orientation": "horizontal",
            "style": "IPY_MODEL_83f01463aa45406381d8e7e966470e3e",
            "value": 28881
          }
        },
        "a1efb48ab68c425f907dd32dd5070420": {
          "model_module": "@jupyter-widgets/controls",
          "model_name": "HTMLModel",
          "model_module_version": "1.5.0",
          "state": {
            "_dom_classes": [],
            "_model_module": "@jupyter-widgets/controls",
            "_model_module_version": "1.5.0",
            "_model_name": "HTMLModel",
            "_view_count": null,
            "_view_module": "@jupyter-widgets/controls",
            "_view_module_version": "1.5.0",
            "_view_name": "HTMLView",
            "description": "",
            "description_tooltip": null,
            "layout": "IPY_MODEL_a7c59d7bcc554aa3ba694ad5c7b88e48",
            "placeholder": "​",
            "style": "IPY_MODEL_de6a7357e238437981a18712e6f4510c",
            "value": " 29696/? [00:00&lt;00:00, 666217.64it/s]"
          }
        },
        "60dcdf6d3f0a43ef9b29767a04ceb70e": {
          "model_module": "@jupyter-widgets/base",
          "model_name": "LayoutModel",
          "model_module_version": "1.2.0",
          "state": {
            "_model_module": "@jupyter-widgets/base",
            "_model_module_version": "1.2.0",
            "_model_name": "LayoutModel",
            "_view_count": null,
            "_view_module": "@jupyter-widgets/base",
            "_view_module_version": "1.2.0",
            "_view_name": "LayoutView",
            "align_content": null,
            "align_items": null,
            "align_self": null,
            "border": null,
            "bottom": null,
            "display": null,
            "flex": null,
            "flex_flow": null,
            "grid_area": null,
            "grid_auto_columns": null,
            "grid_auto_flow": null,
            "grid_auto_rows": null,
            "grid_column": null,
            "grid_gap": null,
            "grid_row": null,
            "grid_template_areas": null,
            "grid_template_columns": null,
            "grid_template_rows": null,
            "height": null,
            "justify_content": null,
            "justify_items": null,
            "left": null,
            "margin": null,
            "max_height": null,
            "max_width": null,
            "min_height": null,
            "min_width": null,
            "object_fit": null,
            "object_position": null,
            "order": null,
            "overflow": null,
            "overflow_x": null,
            "overflow_y": null,
            "padding": null,
            "right": null,
            "top": null,
            "visibility": null,
            "width": null
          }
        },
        "c031d866370b4c39a66aa7aa7d6635e3": {
          "model_module": "@jupyter-widgets/base",
          "model_name": "LayoutModel",
          "model_module_version": "1.2.0",
          "state": {
            "_model_module": "@jupyter-widgets/base",
            "_model_module_version": "1.2.0",
            "_model_name": "LayoutModel",
            "_view_count": null,
            "_view_module": "@jupyter-widgets/base",
            "_view_module_version": "1.2.0",
            "_view_name": "LayoutView",
            "align_content": null,
            "align_items": null,
            "align_self": null,
            "border": null,
            "bottom": null,
            "display": null,
            "flex": null,
            "flex_flow": null,
            "grid_area": null,
            "grid_auto_columns": null,
            "grid_auto_flow": null,
            "grid_auto_rows": null,
            "grid_column": null,
            "grid_gap": null,
            "grid_row": null,
            "grid_template_areas": null,
            "grid_template_columns": null,
            "grid_template_rows": null,
            "height": null,
            "justify_content": null,
            "justify_items": null,
            "left": null,
            "margin": null,
            "max_height": null,
            "max_width": null,
            "min_height": null,
            "min_width": null,
            "object_fit": null,
            "object_position": null,
            "order": null,
            "overflow": null,
            "overflow_x": null,
            "overflow_y": null,
            "padding": null,
            "right": null,
            "top": null,
            "visibility": null,
            "width": null
          }
        },
        "4455b312af864337bb9ff9aaf9353bf6": {
          "model_module": "@jupyter-widgets/controls",
          "model_name": "DescriptionStyleModel",
          "model_module_version": "1.5.0",
          "state": {
            "_model_module": "@jupyter-widgets/controls",
            "_model_module_version": "1.5.0",
            "_model_name": "DescriptionStyleModel",
            "_view_count": null,
            "_view_module": "@jupyter-widgets/base",
            "_view_module_version": "1.2.0",
            "_view_name": "StyleView",
            "description_width": ""
          }
        },
        "a30c3972ee3b4bb88c11ce3383b61878": {
          "model_module": "@jupyter-widgets/base",
          "model_name": "LayoutModel",
          "model_module_version": "1.2.0",
          "state": {
            "_model_module": "@jupyter-widgets/base",
            "_model_module_version": "1.2.0",
            "_model_name": "LayoutModel",
            "_view_count": null,
            "_view_module": "@jupyter-widgets/base",
            "_view_module_version": "1.2.0",
            "_view_name": "LayoutView",
            "align_content": null,
            "align_items": null,
            "align_self": null,
            "border": null,
            "bottom": null,
            "display": null,
            "flex": null,
            "flex_flow": null,
            "grid_area": null,
            "grid_auto_columns": null,
            "grid_auto_flow": null,
            "grid_auto_rows": null,
            "grid_column": null,
            "grid_gap": null,
            "grid_row": null,
            "grid_template_areas": null,
            "grid_template_columns": null,
            "grid_template_rows": null,
            "height": null,
            "justify_content": null,
            "justify_items": null,
            "left": null,
            "margin": null,
            "max_height": null,
            "max_width": null,
            "min_height": null,
            "min_width": null,
            "object_fit": null,
            "object_position": null,
            "order": null,
            "overflow": null,
            "overflow_x": null,
            "overflow_y": null,
            "padding": null,
            "right": null,
            "top": null,
            "visibility": null,
            "width": null
          }
        },
        "83f01463aa45406381d8e7e966470e3e": {
          "model_module": "@jupyter-widgets/controls",
          "model_name": "ProgressStyleModel",
          "model_module_version": "1.5.0",
          "state": {
            "_model_module": "@jupyter-widgets/controls",
            "_model_module_version": "1.5.0",
            "_model_name": "ProgressStyleModel",
            "_view_count": null,
            "_view_module": "@jupyter-widgets/base",
            "_view_module_version": "1.2.0",
            "_view_name": "StyleView",
            "bar_color": null,
            "description_width": ""
          }
        },
        "a7c59d7bcc554aa3ba694ad5c7b88e48": {
          "model_module": "@jupyter-widgets/base",
          "model_name": "LayoutModel",
          "model_module_version": "1.2.0",
          "state": {
            "_model_module": "@jupyter-widgets/base",
            "_model_module_version": "1.2.0",
            "_model_name": "LayoutModel",
            "_view_count": null,
            "_view_module": "@jupyter-widgets/base",
            "_view_module_version": "1.2.0",
            "_view_name": "LayoutView",
            "align_content": null,
            "align_items": null,
            "align_self": null,
            "border": null,
            "bottom": null,
            "display": null,
            "flex": null,
            "flex_flow": null,
            "grid_area": null,
            "grid_auto_columns": null,
            "grid_auto_flow": null,
            "grid_auto_rows": null,
            "grid_column": null,
            "grid_gap": null,
            "grid_row": null,
            "grid_template_areas": null,
            "grid_template_columns": null,
            "grid_template_rows": null,
            "height": null,
            "justify_content": null,
            "justify_items": null,
            "left": null,
            "margin": null,
            "max_height": null,
            "max_width": null,
            "min_height": null,
            "min_width": null,
            "object_fit": null,
            "object_position": null,
            "order": null,
            "overflow": null,
            "overflow_x": null,
            "overflow_y": null,
            "padding": null,
            "right": null,
            "top": null,
            "visibility": null,
            "width": null
          }
        },
        "de6a7357e238437981a18712e6f4510c": {
          "model_module": "@jupyter-widgets/controls",
          "model_name": "DescriptionStyleModel",
          "model_module_version": "1.5.0",
          "state": {
            "_model_module": "@jupyter-widgets/controls",
            "_model_module_version": "1.5.0",
            "_model_name": "DescriptionStyleModel",
            "_view_count": null,
            "_view_module": "@jupyter-widgets/base",
            "_view_module_version": "1.2.0",
            "_view_name": "StyleView",
            "description_width": ""
          }
        },
        "27c71ff7d1b047dd96cb22be10be9096": {
          "model_module": "@jupyter-widgets/controls",
          "model_name": "HBoxModel",
          "model_module_version": "1.5.0",
          "state": {
            "_dom_classes": [],
            "_model_module": "@jupyter-widgets/controls",
            "_model_module_version": "1.5.0",
            "_model_name": "HBoxModel",
            "_view_count": null,
            "_view_module": "@jupyter-widgets/controls",
            "_view_module_version": "1.5.0",
            "_view_name": "HBoxView",
            "box_style": "",
            "children": [
              "IPY_MODEL_33d431d44ab84369aa3df544c9076d8e",
              "IPY_MODEL_35c115df9e224ff495b4652166f3c050",
              "IPY_MODEL_96e116c671814038be681679832aecb9"
            ],
            "layout": "IPY_MODEL_b951896efab0498490c6d7a990fab8c7"
          }
        },
        "33d431d44ab84369aa3df544c9076d8e": {
          "model_module": "@jupyter-widgets/controls",
          "model_name": "HTMLModel",
          "model_module_version": "1.5.0",
          "state": {
            "_dom_classes": [],
            "_model_module": "@jupyter-widgets/controls",
            "_model_module_version": "1.5.0",
            "_model_name": "HTMLModel",
            "_view_count": null,
            "_view_module": "@jupyter-widgets/controls",
            "_view_module_version": "1.5.0",
            "_view_name": "HTMLView",
            "description": "",
            "description_tooltip": null,
            "layout": "IPY_MODEL_50e44415000147e7a1baad7426d29abd",
            "placeholder": "​",
            "style": "IPY_MODEL_2e5472c3c82049a0980da8a9582b078d",
            "value": ""
          }
        },
        "35c115df9e224ff495b4652166f3c050": {
          "model_module": "@jupyter-widgets/controls",
          "model_name": "FloatProgressModel",
          "model_module_version": "1.5.0",
          "state": {
            "_dom_classes": [],
            "_model_module": "@jupyter-widgets/controls",
            "_model_module_version": "1.5.0",
            "_model_name": "FloatProgressModel",
            "_view_count": null,
            "_view_module": "@jupyter-widgets/controls",
            "_view_module_version": "1.5.0",
            "_view_name": "ProgressView",
            "bar_style": "success",
            "description": "",
            "description_tooltip": null,
            "layout": "IPY_MODEL_cb93d0e7e6a24e218fac4ee0579165d6",
            "max": 1648877,
            "min": 0,
            "orientation": "horizontal",
            "style": "IPY_MODEL_fd9bdcb0cd9141d68a5cb07019b93572",
            "value": 1648877
          }
        },
        "96e116c671814038be681679832aecb9": {
          "model_module": "@jupyter-widgets/controls",
          "model_name": "HTMLModel",
          "model_module_version": "1.5.0",
          "state": {
            "_dom_classes": [],
            "_model_module": "@jupyter-widgets/controls",
            "_model_module_version": "1.5.0",
            "_model_name": "HTMLModel",
            "_view_count": null,
            "_view_module": "@jupyter-widgets/controls",
            "_view_module_version": "1.5.0",
            "_view_name": "HTMLView",
            "description": "",
            "description_tooltip": null,
            "layout": "IPY_MODEL_b4f10f8e77d349898abe66973319e0fd",
            "placeholder": "​",
            "style": "IPY_MODEL_121bb3fd45a940f09679f3f1d1bb4ad0",
            "value": " 1649664/? [00:00&lt;00:00, 17600757.82it/s]"
          }
        },
        "b951896efab0498490c6d7a990fab8c7": {
          "model_module": "@jupyter-widgets/base",
          "model_name": "LayoutModel",
          "model_module_version": "1.2.0",
          "state": {
            "_model_module": "@jupyter-widgets/base",
            "_model_module_version": "1.2.0",
            "_model_name": "LayoutModel",
            "_view_count": null,
            "_view_module": "@jupyter-widgets/base",
            "_view_module_version": "1.2.0",
            "_view_name": "LayoutView",
            "align_content": null,
            "align_items": null,
            "align_self": null,
            "border": null,
            "bottom": null,
            "display": null,
            "flex": null,
            "flex_flow": null,
            "grid_area": null,
            "grid_auto_columns": null,
            "grid_auto_flow": null,
            "grid_auto_rows": null,
            "grid_column": null,
            "grid_gap": null,
            "grid_row": null,
            "grid_template_areas": null,
            "grid_template_columns": null,
            "grid_template_rows": null,
            "height": null,
            "justify_content": null,
            "justify_items": null,
            "left": null,
            "margin": null,
            "max_height": null,
            "max_width": null,
            "min_height": null,
            "min_width": null,
            "object_fit": null,
            "object_position": null,
            "order": null,
            "overflow": null,
            "overflow_x": null,
            "overflow_y": null,
            "padding": null,
            "right": null,
            "top": null,
            "visibility": null,
            "width": null
          }
        },
        "50e44415000147e7a1baad7426d29abd": {
          "model_module": "@jupyter-widgets/base",
          "model_name": "LayoutModel",
          "model_module_version": "1.2.0",
          "state": {
            "_model_module": "@jupyter-widgets/base",
            "_model_module_version": "1.2.0",
            "_model_name": "LayoutModel",
            "_view_count": null,
            "_view_module": "@jupyter-widgets/base",
            "_view_module_version": "1.2.0",
            "_view_name": "LayoutView",
            "align_content": null,
            "align_items": null,
            "align_self": null,
            "border": null,
            "bottom": null,
            "display": null,
            "flex": null,
            "flex_flow": null,
            "grid_area": null,
            "grid_auto_columns": null,
            "grid_auto_flow": null,
            "grid_auto_rows": null,
            "grid_column": null,
            "grid_gap": null,
            "grid_row": null,
            "grid_template_areas": null,
            "grid_template_columns": null,
            "grid_template_rows": null,
            "height": null,
            "justify_content": null,
            "justify_items": null,
            "left": null,
            "margin": null,
            "max_height": null,
            "max_width": null,
            "min_height": null,
            "min_width": null,
            "object_fit": null,
            "object_position": null,
            "order": null,
            "overflow": null,
            "overflow_x": null,
            "overflow_y": null,
            "padding": null,
            "right": null,
            "top": null,
            "visibility": null,
            "width": null
          }
        },
        "2e5472c3c82049a0980da8a9582b078d": {
          "model_module": "@jupyter-widgets/controls",
          "model_name": "DescriptionStyleModel",
          "model_module_version": "1.5.0",
          "state": {
            "_model_module": "@jupyter-widgets/controls",
            "_model_module_version": "1.5.0",
            "_model_name": "DescriptionStyleModel",
            "_view_count": null,
            "_view_module": "@jupyter-widgets/base",
            "_view_module_version": "1.2.0",
            "_view_name": "StyleView",
            "description_width": ""
          }
        },
        "cb93d0e7e6a24e218fac4ee0579165d6": {
          "model_module": "@jupyter-widgets/base",
          "model_name": "LayoutModel",
          "model_module_version": "1.2.0",
          "state": {
            "_model_module": "@jupyter-widgets/base",
            "_model_module_version": "1.2.0",
            "_model_name": "LayoutModel",
            "_view_count": null,
            "_view_module": "@jupyter-widgets/base",
            "_view_module_version": "1.2.0",
            "_view_name": "LayoutView",
            "align_content": null,
            "align_items": null,
            "align_self": null,
            "border": null,
            "bottom": null,
            "display": null,
            "flex": null,
            "flex_flow": null,
            "grid_area": null,
            "grid_auto_columns": null,
            "grid_auto_flow": null,
            "grid_auto_rows": null,
            "grid_column": null,
            "grid_gap": null,
            "grid_row": null,
            "grid_template_areas": null,
            "grid_template_columns": null,
            "grid_template_rows": null,
            "height": null,
            "justify_content": null,
            "justify_items": null,
            "left": null,
            "margin": null,
            "max_height": null,
            "max_width": null,
            "min_height": null,
            "min_width": null,
            "object_fit": null,
            "object_position": null,
            "order": null,
            "overflow": null,
            "overflow_x": null,
            "overflow_y": null,
            "padding": null,
            "right": null,
            "top": null,
            "visibility": null,
            "width": null
          }
        },
        "fd9bdcb0cd9141d68a5cb07019b93572": {
          "model_module": "@jupyter-widgets/controls",
          "model_name": "ProgressStyleModel",
          "model_module_version": "1.5.0",
          "state": {
            "_model_module": "@jupyter-widgets/controls",
            "_model_module_version": "1.5.0",
            "_model_name": "ProgressStyleModel",
            "_view_count": null,
            "_view_module": "@jupyter-widgets/base",
            "_view_module_version": "1.2.0",
            "_view_name": "StyleView",
            "bar_color": null,
            "description_width": ""
          }
        },
        "b4f10f8e77d349898abe66973319e0fd": {
          "model_module": "@jupyter-widgets/base",
          "model_name": "LayoutModel",
          "model_module_version": "1.2.0",
          "state": {
            "_model_module": "@jupyter-widgets/base",
            "_model_module_version": "1.2.0",
            "_model_name": "LayoutModel",
            "_view_count": null,
            "_view_module": "@jupyter-widgets/base",
            "_view_module_version": "1.2.0",
            "_view_name": "LayoutView",
            "align_content": null,
            "align_items": null,
            "align_self": null,
            "border": null,
            "bottom": null,
            "display": null,
            "flex": null,
            "flex_flow": null,
            "grid_area": null,
            "grid_auto_columns": null,
            "grid_auto_flow": null,
            "grid_auto_rows": null,
            "grid_column": null,
            "grid_gap": null,
            "grid_row": null,
            "grid_template_areas": null,
            "grid_template_columns": null,
            "grid_template_rows": null,
            "height": null,
            "justify_content": null,
            "justify_items": null,
            "left": null,
            "margin": null,
            "max_height": null,
            "max_width": null,
            "min_height": null,
            "min_width": null,
            "object_fit": null,
            "object_position": null,
            "order": null,
            "overflow": null,
            "overflow_x": null,
            "overflow_y": null,
            "padding": null,
            "right": null,
            "top": null,
            "visibility": null,
            "width": null
          }
        },
        "121bb3fd45a940f09679f3f1d1bb4ad0": {
          "model_module": "@jupyter-widgets/controls",
          "model_name": "DescriptionStyleModel",
          "model_module_version": "1.5.0",
          "state": {
            "_model_module": "@jupyter-widgets/controls",
            "_model_module_version": "1.5.0",
            "_model_name": "DescriptionStyleModel",
            "_view_count": null,
            "_view_module": "@jupyter-widgets/base",
            "_view_module_version": "1.2.0",
            "_view_name": "StyleView",
            "description_width": ""
          }
        },
        "72f40784e0fa4a75bf33406bea2328a2": {
          "model_module": "@jupyter-widgets/controls",
          "model_name": "HBoxModel",
          "model_module_version": "1.5.0",
          "state": {
            "_dom_classes": [],
            "_model_module": "@jupyter-widgets/controls",
            "_model_module_version": "1.5.0",
            "_model_name": "HBoxModel",
            "_view_count": null,
            "_view_module": "@jupyter-widgets/controls",
            "_view_module_version": "1.5.0",
            "_view_name": "HBoxView",
            "box_style": "",
            "children": [
              "IPY_MODEL_1b5f4581ae0a400ebd759257c275e45e",
              "IPY_MODEL_2aa942cda71d45c5ac81c9b861aecaf9",
              "IPY_MODEL_42d3f2e261554ce693ff3e7e3681de8e"
            ],
            "layout": "IPY_MODEL_75c39bbb1c02479dbcd8c9c45c96c684"
          }
        },
        "1b5f4581ae0a400ebd759257c275e45e": {
          "model_module": "@jupyter-widgets/controls",
          "model_name": "HTMLModel",
          "model_module_version": "1.5.0",
          "state": {
            "_dom_classes": [],
            "_model_module": "@jupyter-widgets/controls",
            "_model_module_version": "1.5.0",
            "_model_name": "HTMLModel",
            "_view_count": null,
            "_view_module": "@jupyter-widgets/controls",
            "_view_module_version": "1.5.0",
            "_view_name": "HTMLView",
            "description": "",
            "description_tooltip": null,
            "layout": "IPY_MODEL_15630b807fc14c2ea1c1a0064f11ae09",
            "placeholder": "​",
            "style": "IPY_MODEL_d7c567fb87b343b0b9c3f67c805b061e",
            "value": ""
          }
        },
        "2aa942cda71d45c5ac81c9b861aecaf9": {
          "model_module": "@jupyter-widgets/controls",
          "model_name": "FloatProgressModel",
          "model_module_version": "1.5.0",
          "state": {
            "_dom_classes": [],
            "_model_module": "@jupyter-widgets/controls",
            "_model_module_version": "1.5.0",
            "_model_name": "FloatProgressModel",
            "_view_count": null,
            "_view_module": "@jupyter-widgets/controls",
            "_view_module_version": "1.5.0",
            "_view_name": "ProgressView",
            "bar_style": "success",
            "description": "",
            "description_tooltip": null,
            "layout": "IPY_MODEL_06d1fc93a5294407a11237e44d7d4f98",
            "max": 4542,
            "min": 0,
            "orientation": "horizontal",
            "style": "IPY_MODEL_9ba23042c7f84751bea175fede3598f8",
            "value": 4542
          }
        },
        "42d3f2e261554ce693ff3e7e3681de8e": {
          "model_module": "@jupyter-widgets/controls",
          "model_name": "HTMLModel",
          "model_module_version": "1.5.0",
          "state": {
            "_dom_classes": [],
            "_model_module": "@jupyter-widgets/controls",
            "_model_module_version": "1.5.0",
            "_model_name": "HTMLModel",
            "_view_count": null,
            "_view_module": "@jupyter-widgets/controls",
            "_view_module_version": "1.5.0",
            "_view_name": "HTMLView",
            "description": "",
            "description_tooltip": null,
            "layout": "IPY_MODEL_f30451c6f19d4506b70a1dfe88af943e",
            "placeholder": "​",
            "style": "IPY_MODEL_287eb4f26e634c7e9b42a34a481808c2",
            "value": " 5120/? [00:00&lt;00:00, 131603.75it/s]"
          }
        },
        "75c39bbb1c02479dbcd8c9c45c96c684": {
          "model_module": "@jupyter-widgets/base",
          "model_name": "LayoutModel",
          "model_module_version": "1.2.0",
          "state": {
            "_model_module": "@jupyter-widgets/base",
            "_model_module_version": "1.2.0",
            "_model_name": "LayoutModel",
            "_view_count": null,
            "_view_module": "@jupyter-widgets/base",
            "_view_module_version": "1.2.0",
            "_view_name": "LayoutView",
            "align_content": null,
            "align_items": null,
            "align_self": null,
            "border": null,
            "bottom": null,
            "display": null,
            "flex": null,
            "flex_flow": null,
            "grid_area": null,
            "grid_auto_columns": null,
            "grid_auto_flow": null,
            "grid_auto_rows": null,
            "grid_column": null,
            "grid_gap": null,
            "grid_row": null,
            "grid_template_areas": null,
            "grid_template_columns": null,
            "grid_template_rows": null,
            "height": null,
            "justify_content": null,
            "justify_items": null,
            "left": null,
            "margin": null,
            "max_height": null,
            "max_width": null,
            "min_height": null,
            "min_width": null,
            "object_fit": null,
            "object_position": null,
            "order": null,
            "overflow": null,
            "overflow_x": null,
            "overflow_y": null,
            "padding": null,
            "right": null,
            "top": null,
            "visibility": null,
            "width": null
          }
        },
        "15630b807fc14c2ea1c1a0064f11ae09": {
          "model_module": "@jupyter-widgets/base",
          "model_name": "LayoutModel",
          "model_module_version": "1.2.0",
          "state": {
            "_model_module": "@jupyter-widgets/base",
            "_model_module_version": "1.2.0",
            "_model_name": "LayoutModel",
            "_view_count": null,
            "_view_module": "@jupyter-widgets/base",
            "_view_module_version": "1.2.0",
            "_view_name": "LayoutView",
            "align_content": null,
            "align_items": null,
            "align_self": null,
            "border": null,
            "bottom": null,
            "display": null,
            "flex": null,
            "flex_flow": null,
            "grid_area": null,
            "grid_auto_columns": null,
            "grid_auto_flow": null,
            "grid_auto_rows": null,
            "grid_column": null,
            "grid_gap": null,
            "grid_row": null,
            "grid_template_areas": null,
            "grid_template_columns": null,
            "grid_template_rows": null,
            "height": null,
            "justify_content": null,
            "justify_items": null,
            "left": null,
            "margin": null,
            "max_height": null,
            "max_width": null,
            "min_height": null,
            "min_width": null,
            "object_fit": null,
            "object_position": null,
            "order": null,
            "overflow": null,
            "overflow_x": null,
            "overflow_y": null,
            "padding": null,
            "right": null,
            "top": null,
            "visibility": null,
            "width": null
          }
        },
        "d7c567fb87b343b0b9c3f67c805b061e": {
          "model_module": "@jupyter-widgets/controls",
          "model_name": "DescriptionStyleModel",
          "model_module_version": "1.5.0",
          "state": {
            "_model_module": "@jupyter-widgets/controls",
            "_model_module_version": "1.5.0",
            "_model_name": "DescriptionStyleModel",
            "_view_count": null,
            "_view_module": "@jupyter-widgets/base",
            "_view_module_version": "1.2.0",
            "_view_name": "StyleView",
            "description_width": ""
          }
        },
        "06d1fc93a5294407a11237e44d7d4f98": {
          "model_module": "@jupyter-widgets/base",
          "model_name": "LayoutModel",
          "model_module_version": "1.2.0",
          "state": {
            "_model_module": "@jupyter-widgets/base",
            "_model_module_version": "1.2.0",
            "_model_name": "LayoutModel",
            "_view_count": null,
            "_view_module": "@jupyter-widgets/base",
            "_view_module_version": "1.2.0",
            "_view_name": "LayoutView",
            "align_content": null,
            "align_items": null,
            "align_self": null,
            "border": null,
            "bottom": null,
            "display": null,
            "flex": null,
            "flex_flow": null,
            "grid_area": null,
            "grid_auto_columns": null,
            "grid_auto_flow": null,
            "grid_auto_rows": null,
            "grid_column": null,
            "grid_gap": null,
            "grid_row": null,
            "grid_template_areas": null,
            "grid_template_columns": null,
            "grid_template_rows": null,
            "height": null,
            "justify_content": null,
            "justify_items": null,
            "left": null,
            "margin": null,
            "max_height": null,
            "max_width": null,
            "min_height": null,
            "min_width": null,
            "object_fit": null,
            "object_position": null,
            "order": null,
            "overflow": null,
            "overflow_x": null,
            "overflow_y": null,
            "padding": null,
            "right": null,
            "top": null,
            "visibility": null,
            "width": null
          }
        },
        "9ba23042c7f84751bea175fede3598f8": {
          "model_module": "@jupyter-widgets/controls",
          "model_name": "ProgressStyleModel",
          "model_module_version": "1.5.0",
          "state": {
            "_model_module": "@jupyter-widgets/controls",
            "_model_module_version": "1.5.0",
            "_model_name": "ProgressStyleModel",
            "_view_count": null,
            "_view_module": "@jupyter-widgets/base",
            "_view_module_version": "1.2.0",
            "_view_name": "StyleView",
            "bar_color": null,
            "description_width": ""
          }
        },
        "f30451c6f19d4506b70a1dfe88af943e": {
          "model_module": "@jupyter-widgets/base",
          "model_name": "LayoutModel",
          "model_module_version": "1.2.0",
          "state": {
            "_model_module": "@jupyter-widgets/base",
            "_model_module_version": "1.2.0",
            "_model_name": "LayoutModel",
            "_view_count": null,
            "_view_module": "@jupyter-widgets/base",
            "_view_module_version": "1.2.0",
            "_view_name": "LayoutView",
            "align_content": null,
            "align_items": null,
            "align_self": null,
            "border": null,
            "bottom": null,
            "display": null,
            "flex": null,
            "flex_flow": null,
            "grid_area": null,
            "grid_auto_columns": null,
            "grid_auto_flow": null,
            "grid_auto_rows": null,
            "grid_column": null,
            "grid_gap": null,
            "grid_row": null,
            "grid_template_areas": null,
            "grid_template_columns": null,
            "grid_template_rows": null,
            "height": null,
            "justify_content": null,
            "justify_items": null,
            "left": null,
            "margin": null,
            "max_height": null,
            "max_width": null,
            "min_height": null,
            "min_width": null,
            "object_fit": null,
            "object_position": null,
            "order": null,
            "overflow": null,
            "overflow_x": null,
            "overflow_y": null,
            "padding": null,
            "right": null,
            "top": null,
            "visibility": null,
            "width": null
          }
        },
        "287eb4f26e634c7e9b42a34a481808c2": {
          "model_module": "@jupyter-widgets/controls",
          "model_name": "DescriptionStyleModel",
          "model_module_version": "1.5.0",
          "state": {
            "_model_module": "@jupyter-widgets/controls",
            "_model_module_version": "1.5.0",
            "_model_name": "DescriptionStyleModel",
            "_view_count": null,
            "_view_module": "@jupyter-widgets/base",
            "_view_module_version": "1.2.0",
            "_view_name": "StyleView",
            "description_width": ""
          }
        },
        "1375c7ea3a774ed2a4cb65b75f22af77": {
          "model_module": "@jupyter-widgets/controls",
          "model_name": "HBoxModel",
          "model_module_version": "1.5.0",
          "state": {
            "_dom_classes": [],
            "_model_module": "@jupyter-widgets/controls",
            "_model_module_version": "1.5.0",
            "_model_name": "HBoxModel",
            "_view_count": null,
            "_view_module": "@jupyter-widgets/controls",
            "_view_module_version": "1.5.0",
            "_view_name": "HBoxView",
            "box_style": "",
            "children": [
              "IPY_MODEL_8088ba4e241749a4a826070610c5dddb",
              "IPY_MODEL_b9bb1378d5e948be9783ca8a6a5d2dc7",
              "IPY_MODEL_8f39466678964373899d9392c4d88508"
            ],
            "layout": "IPY_MODEL_a44a16da6a024efca4cfb7b0c0ff498e"
          }
        },
        "8088ba4e241749a4a826070610c5dddb": {
          "model_module": "@jupyter-widgets/controls",
          "model_name": "HTMLModel",
          "model_module_version": "1.5.0",
          "state": {
            "_dom_classes": [],
            "_model_module": "@jupyter-widgets/controls",
            "_model_module_version": "1.5.0",
            "_model_name": "HTMLModel",
            "_view_count": null,
            "_view_module": "@jupyter-widgets/controls",
            "_view_module_version": "1.5.0",
            "_view_name": "HTMLView",
            "description": "",
            "description_tooltip": null,
            "layout": "IPY_MODEL_6dfd6833672c46a0b11898cb790e6247",
            "placeholder": "​",
            "style": "IPY_MODEL_66fa90882f764eef9aa4c732962d5ef2",
            "value": "100%"
          }
        },
        "b9bb1378d5e948be9783ca8a6a5d2dc7": {
          "model_module": "@jupyter-widgets/controls",
          "model_name": "FloatProgressModel",
          "model_module_version": "1.5.0",
          "state": {
            "_dom_classes": [],
            "_model_module": "@jupyter-widgets/controls",
            "_model_module_version": "1.5.0",
            "_model_name": "FloatProgressModel",
            "_view_count": null,
            "_view_module": "@jupyter-widgets/controls",
            "_view_module_version": "1.5.0",
            "_view_name": "ProgressView",
            "bar_style": "success",
            "description": "",
            "description_tooltip": null,
            "layout": "IPY_MODEL_3b382139ca9447d6893e7fc12bd3de9f",
            "max": 553433881,
            "min": 0,
            "orientation": "horizontal",
            "style": "IPY_MODEL_7ac21a73e9dc47138bbf609b9a92372a",
            "value": 553433881
          }
        },
        "8f39466678964373899d9392c4d88508": {
          "model_module": "@jupyter-widgets/controls",
          "model_name": "HTMLModel",
          "model_module_version": "1.5.0",
          "state": {
            "_dom_classes": [],
            "_model_module": "@jupyter-widgets/controls",
            "_model_module_version": "1.5.0",
            "_model_name": "HTMLModel",
            "_view_count": null,
            "_view_module": "@jupyter-widgets/controls",
            "_view_module_version": "1.5.0",
            "_view_name": "HTMLView",
            "description": "",
            "description_tooltip": null,
            "layout": "IPY_MODEL_4accc6a167f544f99cd92dcb18ecec5c",
            "placeholder": "​",
            "style": "IPY_MODEL_006cb18137684f39971c67af5f835494",
            "value": " 528M/528M [00:01&lt;00:00, 299MB/s]"
          }
        },
        "a44a16da6a024efca4cfb7b0c0ff498e": {
          "model_module": "@jupyter-widgets/base",
          "model_name": "LayoutModel",
          "model_module_version": "1.2.0",
          "state": {
            "_model_module": "@jupyter-widgets/base",
            "_model_module_version": "1.2.0",
            "_model_name": "LayoutModel",
            "_view_count": null,
            "_view_module": "@jupyter-widgets/base",
            "_view_module_version": "1.2.0",
            "_view_name": "LayoutView",
            "align_content": null,
            "align_items": null,
            "align_self": null,
            "border": null,
            "bottom": null,
            "display": null,
            "flex": null,
            "flex_flow": null,
            "grid_area": null,
            "grid_auto_columns": null,
            "grid_auto_flow": null,
            "grid_auto_rows": null,
            "grid_column": null,
            "grid_gap": null,
            "grid_row": null,
            "grid_template_areas": null,
            "grid_template_columns": null,
            "grid_template_rows": null,
            "height": null,
            "justify_content": null,
            "justify_items": null,
            "left": null,
            "margin": null,
            "max_height": null,
            "max_width": null,
            "min_height": null,
            "min_width": null,
            "object_fit": null,
            "object_position": null,
            "order": null,
            "overflow": null,
            "overflow_x": null,
            "overflow_y": null,
            "padding": null,
            "right": null,
            "top": null,
            "visibility": null,
            "width": null
          }
        },
        "6dfd6833672c46a0b11898cb790e6247": {
          "model_module": "@jupyter-widgets/base",
          "model_name": "LayoutModel",
          "model_module_version": "1.2.0",
          "state": {
            "_model_module": "@jupyter-widgets/base",
            "_model_module_version": "1.2.0",
            "_model_name": "LayoutModel",
            "_view_count": null,
            "_view_module": "@jupyter-widgets/base",
            "_view_module_version": "1.2.0",
            "_view_name": "LayoutView",
            "align_content": null,
            "align_items": null,
            "align_self": null,
            "border": null,
            "bottom": null,
            "display": null,
            "flex": null,
            "flex_flow": null,
            "grid_area": null,
            "grid_auto_columns": null,
            "grid_auto_flow": null,
            "grid_auto_rows": null,
            "grid_column": null,
            "grid_gap": null,
            "grid_row": null,
            "grid_template_areas": null,
            "grid_template_columns": null,
            "grid_template_rows": null,
            "height": null,
            "justify_content": null,
            "justify_items": null,
            "left": null,
            "margin": null,
            "max_height": null,
            "max_width": null,
            "min_height": null,
            "min_width": null,
            "object_fit": null,
            "object_position": null,
            "order": null,
            "overflow": null,
            "overflow_x": null,
            "overflow_y": null,
            "padding": null,
            "right": null,
            "top": null,
            "visibility": null,
            "width": null
          }
        },
        "66fa90882f764eef9aa4c732962d5ef2": {
          "model_module": "@jupyter-widgets/controls",
          "model_name": "DescriptionStyleModel",
          "model_module_version": "1.5.0",
          "state": {
            "_model_module": "@jupyter-widgets/controls",
            "_model_module_version": "1.5.0",
            "_model_name": "DescriptionStyleModel",
            "_view_count": null,
            "_view_module": "@jupyter-widgets/base",
            "_view_module_version": "1.2.0",
            "_view_name": "StyleView",
            "description_width": ""
          }
        },
        "3b382139ca9447d6893e7fc12bd3de9f": {
          "model_module": "@jupyter-widgets/base",
          "model_name": "LayoutModel",
          "model_module_version": "1.2.0",
          "state": {
            "_model_module": "@jupyter-widgets/base",
            "_model_module_version": "1.2.0",
            "_model_name": "LayoutModel",
            "_view_count": null,
            "_view_module": "@jupyter-widgets/base",
            "_view_module_version": "1.2.0",
            "_view_name": "LayoutView",
            "align_content": null,
            "align_items": null,
            "align_self": null,
            "border": null,
            "bottom": null,
            "display": null,
            "flex": null,
            "flex_flow": null,
            "grid_area": null,
            "grid_auto_columns": null,
            "grid_auto_flow": null,
            "grid_auto_rows": null,
            "grid_column": null,
            "grid_gap": null,
            "grid_row": null,
            "grid_template_areas": null,
            "grid_template_columns": null,
            "grid_template_rows": null,
            "height": null,
            "justify_content": null,
            "justify_items": null,
            "left": null,
            "margin": null,
            "max_height": null,
            "max_width": null,
            "min_height": null,
            "min_width": null,
            "object_fit": null,
            "object_position": null,
            "order": null,
            "overflow": null,
            "overflow_x": null,
            "overflow_y": null,
            "padding": null,
            "right": null,
            "top": null,
            "visibility": null,
            "width": null
          }
        },
        "7ac21a73e9dc47138bbf609b9a92372a": {
          "model_module": "@jupyter-widgets/controls",
          "model_name": "ProgressStyleModel",
          "model_module_version": "1.5.0",
          "state": {
            "_model_module": "@jupyter-widgets/controls",
            "_model_module_version": "1.5.0",
            "_model_name": "ProgressStyleModel",
            "_view_count": null,
            "_view_module": "@jupyter-widgets/base",
            "_view_module_version": "1.2.0",
            "_view_name": "StyleView",
            "bar_color": null,
            "description_width": ""
          }
        },
        "4accc6a167f544f99cd92dcb18ecec5c": {
          "model_module": "@jupyter-widgets/base",
          "model_name": "LayoutModel",
          "model_module_version": "1.2.0",
          "state": {
            "_model_module": "@jupyter-widgets/base",
            "_model_module_version": "1.2.0",
            "_model_name": "LayoutModel",
            "_view_count": null,
            "_view_module": "@jupyter-widgets/base",
            "_view_module_version": "1.2.0",
            "_view_name": "LayoutView",
            "align_content": null,
            "align_items": null,
            "align_self": null,
            "border": null,
            "bottom": null,
            "display": null,
            "flex": null,
            "flex_flow": null,
            "grid_area": null,
            "grid_auto_columns": null,
            "grid_auto_flow": null,
            "grid_auto_rows": null,
            "grid_column": null,
            "grid_gap": null,
            "grid_row": null,
            "grid_template_areas": null,
            "grid_template_columns": null,
            "grid_template_rows": null,
            "height": null,
            "justify_content": null,
            "justify_items": null,
            "left": null,
            "margin": null,
            "max_height": null,
            "max_width": null,
            "min_height": null,
            "min_width": null,
            "object_fit": null,
            "object_position": null,
            "order": null,
            "overflow": null,
            "overflow_x": null,
            "overflow_y": null,
            "padding": null,
            "right": null,
            "top": null,
            "visibility": null,
            "width": null
          }
        },
        "006cb18137684f39971c67af5f835494": {
          "model_module": "@jupyter-widgets/controls",
          "model_name": "DescriptionStyleModel",
          "model_module_version": "1.5.0",
          "state": {
            "_model_module": "@jupyter-widgets/controls",
            "_model_module_version": "1.5.0",
            "_model_name": "DescriptionStyleModel",
            "_view_count": null,
            "_view_module": "@jupyter-widgets/base",
            "_view_module_version": "1.2.0",
            "_view_name": "StyleView",
            "description_width": ""
          }
        }
      }
    },
    "accelerator": "GPU"
  },
  "cells": [
    {
      "cell_type": "code",
      "execution_count": null,
      "metadata": {
        "id": "wwhUP5VLY-dn",
        "colab": {
          "base_uri": "https://localhost:8080/"
        },
        "outputId": "ca23c637-5e40-450a-9e6a-0c65d24c1ba0"
      },
      "outputs": [
        {
          "output_type": "execute_result",
          "data": {
            "text/plain": [
              "device(type='cuda')"
            ]
          },
          "metadata": {},
          "execution_count": 1
        }
      ],
      "source": [
        "import numpy as np\n",
        "import os\n",
        "import torch\n",
        "from torchvision import datasets, transforms, models\n",
        "from tqdm import tqdm\n",
        "import matplotlib.pyplot as plt\n",
        "import cv2\n",
        "import pandas as pd\n",
        "import zipfile\n",
        "from torch.utils.data import DataLoader\n",
        "device = torch.device('cuda' if torch.cuda.is_available() else 'cpu')\n",
        "device"
      ]
    },
    {
      "cell_type": "code",
      "source": [
        "cd '/content/drive/MyDrive/B19EE046_Q1'"
      ],
      "metadata": {
        "colab": {
          "base_uri": "https://localhost:8080/"
        },
        "id": "ce6aK_EbY3Cd",
        "outputId": "3acb1afb-1faa-44bf-e8d9-4611cf4ad4e9"
      },
      "execution_count": null,
      "outputs": [
        {
          "output_type": "stream",
          "name": "stdout",
          "text": [
            "/content/drive/MyDrive/B19EE046_Q1\n"
          ]
        }
      ]
    },
    {
      "cell_type": "code",
      "source": [
        "train_dataset = datasets.MNIST('/content/drive/MyDrive/B19EE046_Q1', train=True, download=True)\n",
        "test_dataset  = datasets.MNIST('/content/drive/MyDrive/B19EE046_Q1', train=False, download=True)\n",
        "train_transform = transforms.Compose([transforms.ToTensor(),])\n",
        "test_transform = transforms.Compose([transforms.ToTensor(),])"
      ],
      "metadata": {
        "colab": {
          "base_uri": "https://localhost:8080/",
          "height": 440,
          "referenced_widgets": [
            "b76ca9a50b05464ab644872e1dc0c901",
            "52c4e35bec894f8a94047d948ea4120b",
            "703d54254d1a460bb1af4d52af654c53",
            "e85f304a0d344362bc6334ca68bac406",
            "956f7b3eea90414ba7e19ce962a78828",
            "4ee956c458cb4799988c6c264afefc04",
            "4c6942d5473c4926aa3824e2349e459f",
            "5fd3e5bbd929478184466ebb0dab831b",
            "5bca6dc0d7f74798a5ca6affb03b2b49",
            "aa5a6e1aa9184542aa016850a079686e",
            "ce2b43cf29994ecb89766688ec6de898",
            "2ce2d45b6f4744d099b4778bbd4f4f58",
            "2ac788f5af9a44008be7baa7f3aef81b",
            "fe3eb150052645fba954ec4b23541555",
            "a1efb48ab68c425f907dd32dd5070420",
            "60dcdf6d3f0a43ef9b29767a04ceb70e",
            "c031d866370b4c39a66aa7aa7d6635e3",
            "4455b312af864337bb9ff9aaf9353bf6",
            "a30c3972ee3b4bb88c11ce3383b61878",
            "83f01463aa45406381d8e7e966470e3e",
            "a7c59d7bcc554aa3ba694ad5c7b88e48",
            "de6a7357e238437981a18712e6f4510c",
            "27c71ff7d1b047dd96cb22be10be9096",
            "33d431d44ab84369aa3df544c9076d8e",
            "35c115df9e224ff495b4652166f3c050",
            "96e116c671814038be681679832aecb9",
            "b951896efab0498490c6d7a990fab8c7",
            "50e44415000147e7a1baad7426d29abd",
            "2e5472c3c82049a0980da8a9582b078d",
            "cb93d0e7e6a24e218fac4ee0579165d6",
            "fd9bdcb0cd9141d68a5cb07019b93572",
            "b4f10f8e77d349898abe66973319e0fd",
            "121bb3fd45a940f09679f3f1d1bb4ad0",
            "72f40784e0fa4a75bf33406bea2328a2",
            "1b5f4581ae0a400ebd759257c275e45e",
            "2aa942cda71d45c5ac81c9b861aecaf9",
            "42d3f2e261554ce693ff3e7e3681de8e",
            "75c39bbb1c02479dbcd8c9c45c96c684",
            "15630b807fc14c2ea1c1a0064f11ae09",
            "d7c567fb87b343b0b9c3f67c805b061e",
            "06d1fc93a5294407a11237e44d7d4f98",
            "9ba23042c7f84751bea175fede3598f8",
            "f30451c6f19d4506b70a1dfe88af943e",
            "287eb4f26e634c7e9b42a34a481808c2"
          ]
        },
        "id": "5ZjjwSXqZ40o",
        "outputId": "a39fcfdc-7cd7-40f6-e599-47204df23a02"
      },
      "execution_count": null,
      "outputs": [
        {
          "output_type": "stream",
          "name": "stdout",
          "text": [
            "Downloading http://yann.lecun.com/exdb/mnist/train-images-idx3-ubyte.gz\n",
            "Downloading http://yann.lecun.com/exdb/mnist/train-images-idx3-ubyte.gz to /content/drive/MyDrive/B19EE046_Q1/MNIST/raw/train-images-idx3-ubyte.gz\n"
          ]
        },
        {
          "output_type": "display_data",
          "data": {
            "text/plain": [
              "  0%|          | 0/9912422 [00:00<?, ?it/s]"
            ],
            "application/vnd.jupyter.widget-view+json": {
              "version_major": 2,
              "version_minor": 0,
              "model_id": "b76ca9a50b05464ab644872e1dc0c901"
            }
          },
          "metadata": {}
        },
        {
          "output_type": "stream",
          "name": "stdout",
          "text": [
            "Extracting /content/drive/MyDrive/B19EE046_Q1/MNIST/raw/train-images-idx3-ubyte.gz to /content/drive/MyDrive/B19EE046_Q1/MNIST/raw\n",
            "\n",
            "Downloading http://yann.lecun.com/exdb/mnist/train-labels-idx1-ubyte.gz\n",
            "Downloading http://yann.lecun.com/exdb/mnist/train-labels-idx1-ubyte.gz to /content/drive/MyDrive/B19EE046_Q1/MNIST/raw/train-labels-idx1-ubyte.gz\n"
          ]
        },
        {
          "output_type": "display_data",
          "data": {
            "text/plain": [
              "  0%|          | 0/28881 [00:00<?, ?it/s]"
            ],
            "application/vnd.jupyter.widget-view+json": {
              "version_major": 2,
              "version_minor": 0,
              "model_id": "2ce2d45b6f4744d099b4778bbd4f4f58"
            }
          },
          "metadata": {}
        },
        {
          "output_type": "stream",
          "name": "stdout",
          "text": [
            "Extracting /content/drive/MyDrive/B19EE046_Q1/MNIST/raw/train-labels-idx1-ubyte.gz to /content/drive/MyDrive/B19EE046_Q1/MNIST/raw\n",
            "\n",
            "Downloading http://yann.lecun.com/exdb/mnist/t10k-images-idx3-ubyte.gz\n",
            "Downloading http://yann.lecun.com/exdb/mnist/t10k-images-idx3-ubyte.gz to /content/drive/MyDrive/B19EE046_Q1/MNIST/raw/t10k-images-idx3-ubyte.gz\n"
          ]
        },
        {
          "output_type": "display_data",
          "data": {
            "text/plain": [
              "  0%|          | 0/1648877 [00:00<?, ?it/s]"
            ],
            "application/vnd.jupyter.widget-view+json": {
              "version_major": 2,
              "version_minor": 0,
              "model_id": "27c71ff7d1b047dd96cb22be10be9096"
            }
          },
          "metadata": {}
        },
        {
          "output_type": "stream",
          "name": "stdout",
          "text": [
            "Extracting /content/drive/MyDrive/B19EE046_Q1/MNIST/raw/t10k-images-idx3-ubyte.gz to /content/drive/MyDrive/B19EE046_Q1/MNIST/raw\n",
            "\n",
            "Downloading http://yann.lecun.com/exdb/mnist/t10k-labels-idx1-ubyte.gz\n",
            "Downloading http://yann.lecun.com/exdb/mnist/t10k-labels-idx1-ubyte.gz to /content/drive/MyDrive/B19EE046_Q1/MNIST/raw/t10k-labels-idx1-ubyte.gz\n"
          ]
        },
        {
          "output_type": "display_data",
          "data": {
            "text/plain": [
              "  0%|          | 0/4542 [00:00<?, ?it/s]"
            ],
            "application/vnd.jupyter.widget-view+json": {
              "version_major": 2,
              "version_minor": 0,
              "model_id": "72f40784e0fa4a75bf33406bea2328a2"
            }
          },
          "metadata": {}
        },
        {
          "output_type": "stream",
          "name": "stdout",
          "text": [
            "Extracting /content/drive/MyDrive/B19EE046_Q1/MNIST/raw/t10k-labels-idx1-ubyte.gz to /content/drive/MyDrive/B19EE046_Q1/MNIST/raw\n",
            "\n"
          ]
        }
      ]
    },
    {
      "cell_type": "code",
      "source": [
        "with zipfile.ZipFile('/content/drive/MyDrive/B19EE046_Q1/digit-recognizer.zip', 'r') as zip_ref:\n",
        "  zip_ref.extractall('/content/drive/MyDrive/B19EE046_Q1')"
      ],
      "metadata": {
        "id": "kXzHkU4hbQPx"
      },
      "execution_count": null,
      "outputs": []
    },
    {
      "cell_type": "code",
      "source": [
        "train = pd.read_csv('/content/drive/MyDrive/B19EE046_Q1/train.csv')"
      ],
      "metadata": {
        "id": "G_H3orQ2aD52"
      },
      "execution_count": null,
      "outputs": []
    },
    {
      "cell_type": "code",
      "source": [
        "train"
      ],
      "metadata": {
        "colab": {
          "base_uri": "https://localhost:8080/",
          "height": 424
        },
        "id": "0pT63rxdc3vC",
        "outputId": "cd140861-475e-4478-d89b-b91ded7f0a8d"
      },
      "execution_count": null,
      "outputs": [
        {
          "output_type": "execute_result",
          "data": {
            "text/plain": [
              "       label  pixel0  pixel1  pixel2  pixel3  pixel4  pixel5  pixel6  pixel7  \\\n",
              "0          1       0       0       0       0       0       0       0       0   \n",
              "1          0       0       0       0       0       0       0       0       0   \n",
              "2          1       0       0       0       0       0       0       0       0   \n",
              "3          4       0       0       0       0       0       0       0       0   \n",
              "4          0       0       0       0       0       0       0       0       0   \n",
              "...      ...     ...     ...     ...     ...     ...     ...     ...     ...   \n",
              "41995      0       0       0       0       0       0       0       0       0   \n",
              "41996      1       0       0       0       0       0       0       0       0   \n",
              "41997      7       0       0       0       0       0       0       0       0   \n",
              "41998      6       0       0       0       0       0       0       0       0   \n",
              "41999      9       0       0       0       0       0       0       0       0   \n",
              "\n",
              "       pixel8  ...  pixel774  pixel775  pixel776  pixel777  pixel778  \\\n",
              "0           0  ...         0         0         0         0         0   \n",
              "1           0  ...         0         0         0         0         0   \n",
              "2           0  ...         0         0         0         0         0   \n",
              "3           0  ...         0         0         0         0         0   \n",
              "4           0  ...         0         0         0         0         0   \n",
              "...       ...  ...       ...       ...       ...       ...       ...   \n",
              "41995       0  ...         0         0         0         0         0   \n",
              "41996       0  ...         0         0         0         0         0   \n",
              "41997       0  ...         0         0         0         0         0   \n",
              "41998       0  ...         0         0         0         0         0   \n",
              "41999       0  ...         0         0         0         0         0   \n",
              "\n",
              "       pixel779  pixel780  pixel781  pixel782  pixel783  \n",
              "0             0         0         0         0         0  \n",
              "1             0         0         0         0         0  \n",
              "2             0         0         0         0         0  \n",
              "3             0         0         0         0         0  \n",
              "4             0         0         0         0         0  \n",
              "...         ...       ...       ...       ...       ...  \n",
              "41995         0         0         0         0         0  \n",
              "41996         0         0         0         0         0  \n",
              "41997         0         0         0         0         0  \n",
              "41998         0         0         0         0         0  \n",
              "41999         0         0         0         0         0  \n",
              "\n",
              "[42000 rows x 785 columns]"
            ],
            "text/html": [
              "\n",
              "  <div id=\"df-1e4dd25b-9504-4ce8-a05b-64e5c23eb729\">\n",
              "    <div class=\"colab-df-container\">\n",
              "      <div>\n",
              "<style scoped>\n",
              "    .dataframe tbody tr th:only-of-type {\n",
              "        vertical-align: middle;\n",
              "    }\n",
              "\n",
              "    .dataframe tbody tr th {\n",
              "        vertical-align: top;\n",
              "    }\n",
              "\n",
              "    .dataframe thead th {\n",
              "        text-align: right;\n",
              "    }\n",
              "</style>\n",
              "<table border=\"1\" class=\"dataframe\">\n",
              "  <thead>\n",
              "    <tr style=\"text-align: right;\">\n",
              "      <th></th>\n",
              "      <th>label</th>\n",
              "      <th>pixel0</th>\n",
              "      <th>pixel1</th>\n",
              "      <th>pixel2</th>\n",
              "      <th>pixel3</th>\n",
              "      <th>pixel4</th>\n",
              "      <th>pixel5</th>\n",
              "      <th>pixel6</th>\n",
              "      <th>pixel7</th>\n",
              "      <th>pixel8</th>\n",
              "      <th>...</th>\n",
              "      <th>pixel774</th>\n",
              "      <th>pixel775</th>\n",
              "      <th>pixel776</th>\n",
              "      <th>pixel777</th>\n",
              "      <th>pixel778</th>\n",
              "      <th>pixel779</th>\n",
              "      <th>pixel780</th>\n",
              "      <th>pixel781</th>\n",
              "      <th>pixel782</th>\n",
              "      <th>pixel783</th>\n",
              "    </tr>\n",
              "  </thead>\n",
              "  <tbody>\n",
              "    <tr>\n",
              "      <th>0</th>\n",
              "      <td>1</td>\n",
              "      <td>0</td>\n",
              "      <td>0</td>\n",
              "      <td>0</td>\n",
              "      <td>0</td>\n",
              "      <td>0</td>\n",
              "      <td>0</td>\n",
              "      <td>0</td>\n",
              "      <td>0</td>\n",
              "      <td>0</td>\n",
              "      <td>...</td>\n",
              "      <td>0</td>\n",
              "      <td>0</td>\n",
              "      <td>0</td>\n",
              "      <td>0</td>\n",
              "      <td>0</td>\n",
              "      <td>0</td>\n",
              "      <td>0</td>\n",
              "      <td>0</td>\n",
              "      <td>0</td>\n",
              "      <td>0</td>\n",
              "    </tr>\n",
              "    <tr>\n",
              "      <th>1</th>\n",
              "      <td>0</td>\n",
              "      <td>0</td>\n",
              "      <td>0</td>\n",
              "      <td>0</td>\n",
              "      <td>0</td>\n",
              "      <td>0</td>\n",
              "      <td>0</td>\n",
              "      <td>0</td>\n",
              "      <td>0</td>\n",
              "      <td>0</td>\n",
              "      <td>...</td>\n",
              "      <td>0</td>\n",
              "      <td>0</td>\n",
              "      <td>0</td>\n",
              "      <td>0</td>\n",
              "      <td>0</td>\n",
              "      <td>0</td>\n",
              "      <td>0</td>\n",
              "      <td>0</td>\n",
              "      <td>0</td>\n",
              "      <td>0</td>\n",
              "    </tr>\n",
              "    <tr>\n",
              "      <th>2</th>\n",
              "      <td>1</td>\n",
              "      <td>0</td>\n",
              "      <td>0</td>\n",
              "      <td>0</td>\n",
              "      <td>0</td>\n",
              "      <td>0</td>\n",
              "      <td>0</td>\n",
              "      <td>0</td>\n",
              "      <td>0</td>\n",
              "      <td>0</td>\n",
              "      <td>...</td>\n",
              "      <td>0</td>\n",
              "      <td>0</td>\n",
              "      <td>0</td>\n",
              "      <td>0</td>\n",
              "      <td>0</td>\n",
              "      <td>0</td>\n",
              "      <td>0</td>\n",
              "      <td>0</td>\n",
              "      <td>0</td>\n",
              "      <td>0</td>\n",
              "    </tr>\n",
              "    <tr>\n",
              "      <th>3</th>\n",
              "      <td>4</td>\n",
              "      <td>0</td>\n",
              "      <td>0</td>\n",
              "      <td>0</td>\n",
              "      <td>0</td>\n",
              "      <td>0</td>\n",
              "      <td>0</td>\n",
              "      <td>0</td>\n",
              "      <td>0</td>\n",
              "      <td>0</td>\n",
              "      <td>...</td>\n",
              "      <td>0</td>\n",
              "      <td>0</td>\n",
              "      <td>0</td>\n",
              "      <td>0</td>\n",
              "      <td>0</td>\n",
              "      <td>0</td>\n",
              "      <td>0</td>\n",
              "      <td>0</td>\n",
              "      <td>0</td>\n",
              "      <td>0</td>\n",
              "    </tr>\n",
              "    <tr>\n",
              "      <th>4</th>\n",
              "      <td>0</td>\n",
              "      <td>0</td>\n",
              "      <td>0</td>\n",
              "      <td>0</td>\n",
              "      <td>0</td>\n",
              "      <td>0</td>\n",
              "      <td>0</td>\n",
              "      <td>0</td>\n",
              "      <td>0</td>\n",
              "      <td>0</td>\n",
              "      <td>...</td>\n",
              "      <td>0</td>\n",
              "      <td>0</td>\n",
              "      <td>0</td>\n",
              "      <td>0</td>\n",
              "      <td>0</td>\n",
              "      <td>0</td>\n",
              "      <td>0</td>\n",
              "      <td>0</td>\n",
              "      <td>0</td>\n",
              "      <td>0</td>\n",
              "    </tr>\n",
              "    <tr>\n",
              "      <th>...</th>\n",
              "      <td>...</td>\n",
              "      <td>...</td>\n",
              "      <td>...</td>\n",
              "      <td>...</td>\n",
              "      <td>...</td>\n",
              "      <td>...</td>\n",
              "      <td>...</td>\n",
              "      <td>...</td>\n",
              "      <td>...</td>\n",
              "      <td>...</td>\n",
              "      <td>...</td>\n",
              "      <td>...</td>\n",
              "      <td>...</td>\n",
              "      <td>...</td>\n",
              "      <td>...</td>\n",
              "      <td>...</td>\n",
              "      <td>...</td>\n",
              "      <td>...</td>\n",
              "      <td>...</td>\n",
              "      <td>...</td>\n",
              "      <td>...</td>\n",
              "    </tr>\n",
              "    <tr>\n",
              "      <th>41995</th>\n",
              "      <td>0</td>\n",
              "      <td>0</td>\n",
              "      <td>0</td>\n",
              "      <td>0</td>\n",
              "      <td>0</td>\n",
              "      <td>0</td>\n",
              "      <td>0</td>\n",
              "      <td>0</td>\n",
              "      <td>0</td>\n",
              "      <td>0</td>\n",
              "      <td>...</td>\n",
              "      <td>0</td>\n",
              "      <td>0</td>\n",
              "      <td>0</td>\n",
              "      <td>0</td>\n",
              "      <td>0</td>\n",
              "      <td>0</td>\n",
              "      <td>0</td>\n",
              "      <td>0</td>\n",
              "      <td>0</td>\n",
              "      <td>0</td>\n",
              "    </tr>\n",
              "    <tr>\n",
              "      <th>41996</th>\n",
              "      <td>1</td>\n",
              "      <td>0</td>\n",
              "      <td>0</td>\n",
              "      <td>0</td>\n",
              "      <td>0</td>\n",
              "      <td>0</td>\n",
              "      <td>0</td>\n",
              "      <td>0</td>\n",
              "      <td>0</td>\n",
              "      <td>0</td>\n",
              "      <td>...</td>\n",
              "      <td>0</td>\n",
              "      <td>0</td>\n",
              "      <td>0</td>\n",
              "      <td>0</td>\n",
              "      <td>0</td>\n",
              "      <td>0</td>\n",
              "      <td>0</td>\n",
              "      <td>0</td>\n",
              "      <td>0</td>\n",
              "      <td>0</td>\n",
              "    </tr>\n",
              "    <tr>\n",
              "      <th>41997</th>\n",
              "      <td>7</td>\n",
              "      <td>0</td>\n",
              "      <td>0</td>\n",
              "      <td>0</td>\n",
              "      <td>0</td>\n",
              "      <td>0</td>\n",
              "      <td>0</td>\n",
              "      <td>0</td>\n",
              "      <td>0</td>\n",
              "      <td>0</td>\n",
              "      <td>...</td>\n",
              "      <td>0</td>\n",
              "      <td>0</td>\n",
              "      <td>0</td>\n",
              "      <td>0</td>\n",
              "      <td>0</td>\n",
              "      <td>0</td>\n",
              "      <td>0</td>\n",
              "      <td>0</td>\n",
              "      <td>0</td>\n",
              "      <td>0</td>\n",
              "    </tr>\n",
              "    <tr>\n",
              "      <th>41998</th>\n",
              "      <td>6</td>\n",
              "      <td>0</td>\n",
              "      <td>0</td>\n",
              "      <td>0</td>\n",
              "      <td>0</td>\n",
              "      <td>0</td>\n",
              "      <td>0</td>\n",
              "      <td>0</td>\n",
              "      <td>0</td>\n",
              "      <td>0</td>\n",
              "      <td>...</td>\n",
              "      <td>0</td>\n",
              "      <td>0</td>\n",
              "      <td>0</td>\n",
              "      <td>0</td>\n",
              "      <td>0</td>\n",
              "      <td>0</td>\n",
              "      <td>0</td>\n",
              "      <td>0</td>\n",
              "      <td>0</td>\n",
              "      <td>0</td>\n",
              "    </tr>\n",
              "    <tr>\n",
              "      <th>41999</th>\n",
              "      <td>9</td>\n",
              "      <td>0</td>\n",
              "      <td>0</td>\n",
              "      <td>0</td>\n",
              "      <td>0</td>\n",
              "      <td>0</td>\n",
              "      <td>0</td>\n",
              "      <td>0</td>\n",
              "      <td>0</td>\n",
              "      <td>0</td>\n",
              "      <td>...</td>\n",
              "      <td>0</td>\n",
              "      <td>0</td>\n",
              "      <td>0</td>\n",
              "      <td>0</td>\n",
              "      <td>0</td>\n",
              "      <td>0</td>\n",
              "      <td>0</td>\n",
              "      <td>0</td>\n",
              "      <td>0</td>\n",
              "      <td>0</td>\n",
              "    </tr>\n",
              "  </tbody>\n",
              "</table>\n",
              "<p>42000 rows × 785 columns</p>\n",
              "</div>\n",
              "      <button class=\"colab-df-convert\" onclick=\"convertToInteractive('df-1e4dd25b-9504-4ce8-a05b-64e5c23eb729')\"\n",
              "              title=\"Convert this dataframe to an interactive table.\"\n",
              "              style=\"display:none;\">\n",
              "        \n",
              "  <svg xmlns=\"http://www.w3.org/2000/svg\" height=\"24px\"viewBox=\"0 0 24 24\"\n",
              "       width=\"24px\">\n",
              "    <path d=\"M0 0h24v24H0V0z\" fill=\"none\"/>\n",
              "    <path d=\"M18.56 5.44l.94 2.06.94-2.06 2.06-.94-2.06-.94-.94-2.06-.94 2.06-2.06.94zm-11 1L8.5 8.5l.94-2.06 2.06-.94-2.06-.94L8.5 2.5l-.94 2.06-2.06.94zm10 10l.94 2.06.94-2.06 2.06-.94-2.06-.94-.94-2.06-.94 2.06-2.06.94z\"/><path d=\"M17.41 7.96l-1.37-1.37c-.4-.4-.92-.59-1.43-.59-.52 0-1.04.2-1.43.59L10.3 9.45l-7.72 7.72c-.78.78-.78 2.05 0 2.83L4 21.41c.39.39.9.59 1.41.59.51 0 1.02-.2 1.41-.59l7.78-7.78 2.81-2.81c.8-.78.8-2.07 0-2.86zM5.41 20L4 18.59l7.72-7.72 1.47 1.35L5.41 20z\"/>\n",
              "  </svg>\n",
              "      </button>\n",
              "      \n",
              "  <style>\n",
              "    .colab-df-container {\n",
              "      display:flex;\n",
              "      flex-wrap:wrap;\n",
              "      gap: 12px;\n",
              "    }\n",
              "\n",
              "    .colab-df-convert {\n",
              "      background-color: #E8F0FE;\n",
              "      border: none;\n",
              "      border-radius: 50%;\n",
              "      cursor: pointer;\n",
              "      display: none;\n",
              "      fill: #1967D2;\n",
              "      height: 32px;\n",
              "      padding: 0 0 0 0;\n",
              "      width: 32px;\n",
              "    }\n",
              "\n",
              "    .colab-df-convert:hover {\n",
              "      background-color: #E2EBFA;\n",
              "      box-shadow: 0px 1px 2px rgba(60, 64, 67, 0.3), 0px 1px 3px 1px rgba(60, 64, 67, 0.15);\n",
              "      fill: #174EA6;\n",
              "    }\n",
              "\n",
              "    [theme=dark] .colab-df-convert {\n",
              "      background-color: #3B4455;\n",
              "      fill: #D2E3FC;\n",
              "    }\n",
              "\n",
              "    [theme=dark] .colab-df-convert:hover {\n",
              "      background-color: #434B5C;\n",
              "      box-shadow: 0px 1px 3px 1px rgba(0, 0, 0, 0.15);\n",
              "      filter: drop-shadow(0px 1px 2px rgba(0, 0, 0, 0.3));\n",
              "      fill: #FFFFFF;\n",
              "    }\n",
              "  </style>\n",
              "\n",
              "      <script>\n",
              "        const buttonEl =\n",
              "          document.querySelector('#df-1e4dd25b-9504-4ce8-a05b-64e5c23eb729 button.colab-df-convert');\n",
              "        buttonEl.style.display =\n",
              "          google.colab.kernel.accessAllowed ? 'block' : 'none';\n",
              "\n",
              "        async function convertToInteractive(key) {\n",
              "          const element = document.querySelector('#df-1e4dd25b-9504-4ce8-a05b-64e5c23eb729');\n",
              "          const dataTable =\n",
              "            await google.colab.kernel.invokeFunction('convertToInteractive',\n",
              "                                                     [key], {});\n",
              "          if (!dataTable) return;\n",
              "\n",
              "          const docLinkHtml = 'Like what you see? Visit the ' +\n",
              "            '<a target=\"_blank\" href=https://colab.research.google.com/notebooks/data_table.ipynb>data table notebook</a>'\n",
              "            + ' to learn more about interactive tables.';\n",
              "          element.innerHTML = '';\n",
              "          dataTable['output_type'] = 'display_data';\n",
              "          await google.colab.output.renderOutput(dataTable, element);\n",
              "          const docLink = document.createElement('div');\n",
              "          docLink.innerHTML = docLinkHtml;\n",
              "          element.appendChild(docLink);\n",
              "        }\n",
              "      </script>\n",
              "    </div>\n",
              "  </div>\n",
              "  "
            ]
          },
          "metadata": {},
          "execution_count": 82
        }
      ]
    },
    {
      "cell_type": "code",
      "source": [
        "train_label = train['label']\n",
        "train_data = train.drop(columns=['label'])\n",
        "train_data = (train_data.values.reshape(-1,28,28))/255.0"
      ],
      "metadata": {
        "id": "smhYbYK6c_Uw"
      },
      "execution_count": null,
      "outputs": []
    },
    {
      "cell_type": "code",
      "source": [
        "test = pd.read_csv('/content/drive/MyDrive/B19EE046_Q1/test.csv')\n",
        "test"
      ],
      "metadata": {
        "id": "S3xblcTWeQ2g",
        "colab": {
          "base_uri": "https://localhost:8080/",
          "height": 424
        },
        "outputId": "3ce85769-04e9-458c-9fa1-9bae33afd992"
      },
      "execution_count": null,
      "outputs": [
        {
          "output_type": "execute_result",
          "data": {
            "text/plain": [
              "       pixel0  pixel1  pixel2  pixel3  pixel4  pixel5  pixel6  pixel7  pixel8  \\\n",
              "0           0       0       0       0       0       0       0       0       0   \n",
              "1           0       0       0       0       0       0       0       0       0   \n",
              "2           0       0       0       0       0       0       0       0       0   \n",
              "3           0       0       0       0       0       0       0       0       0   \n",
              "4           0       0       0       0       0       0       0       0       0   \n",
              "...       ...     ...     ...     ...     ...     ...     ...     ...     ...   \n",
              "27995       0       0       0       0       0       0       0       0       0   \n",
              "27996       0       0       0       0       0       0       0       0       0   \n",
              "27997       0       0       0       0       0       0       0       0       0   \n",
              "27998       0       0       0       0       0       0       0       0       0   \n",
              "27999       0       0       0       0       0       0       0       0       0   \n",
              "\n",
              "       pixel9  ...  pixel774  pixel775  pixel776  pixel777  pixel778  \\\n",
              "0           0  ...         0         0         0         0         0   \n",
              "1           0  ...         0         0         0         0         0   \n",
              "2           0  ...         0         0         0         0         0   \n",
              "3           0  ...         0         0         0         0         0   \n",
              "4           0  ...         0         0         0         0         0   \n",
              "...       ...  ...       ...       ...       ...       ...       ...   \n",
              "27995       0  ...         0         0         0         0         0   \n",
              "27996       0  ...         0         0         0         0         0   \n",
              "27997       0  ...         0         0         0         0         0   \n",
              "27998       0  ...         0         0         0         0         0   \n",
              "27999       0  ...         0         0         0         0         0   \n",
              "\n",
              "       pixel779  pixel780  pixel781  pixel782  pixel783  \n",
              "0             0         0         0         0         0  \n",
              "1             0         0         0         0         0  \n",
              "2             0         0         0         0         0  \n",
              "3             0         0         0         0         0  \n",
              "4             0         0         0         0         0  \n",
              "...         ...       ...       ...       ...       ...  \n",
              "27995         0         0         0         0         0  \n",
              "27996         0         0         0         0         0  \n",
              "27997         0         0         0         0         0  \n",
              "27998         0         0         0         0         0  \n",
              "27999         0         0         0         0         0  \n",
              "\n",
              "[28000 rows x 784 columns]"
            ],
            "text/html": [
              "\n",
              "  <div id=\"df-920a624b-df3b-4f17-a6a7-0b4d87e00ac5\">\n",
              "    <div class=\"colab-df-container\">\n",
              "      <div>\n",
              "<style scoped>\n",
              "    .dataframe tbody tr th:only-of-type {\n",
              "        vertical-align: middle;\n",
              "    }\n",
              "\n",
              "    .dataframe tbody tr th {\n",
              "        vertical-align: top;\n",
              "    }\n",
              "\n",
              "    .dataframe thead th {\n",
              "        text-align: right;\n",
              "    }\n",
              "</style>\n",
              "<table border=\"1\" class=\"dataframe\">\n",
              "  <thead>\n",
              "    <tr style=\"text-align: right;\">\n",
              "      <th></th>\n",
              "      <th>pixel0</th>\n",
              "      <th>pixel1</th>\n",
              "      <th>pixel2</th>\n",
              "      <th>pixel3</th>\n",
              "      <th>pixel4</th>\n",
              "      <th>pixel5</th>\n",
              "      <th>pixel6</th>\n",
              "      <th>pixel7</th>\n",
              "      <th>pixel8</th>\n",
              "      <th>pixel9</th>\n",
              "      <th>...</th>\n",
              "      <th>pixel774</th>\n",
              "      <th>pixel775</th>\n",
              "      <th>pixel776</th>\n",
              "      <th>pixel777</th>\n",
              "      <th>pixel778</th>\n",
              "      <th>pixel779</th>\n",
              "      <th>pixel780</th>\n",
              "      <th>pixel781</th>\n",
              "      <th>pixel782</th>\n",
              "      <th>pixel783</th>\n",
              "    </tr>\n",
              "  </thead>\n",
              "  <tbody>\n",
              "    <tr>\n",
              "      <th>0</th>\n",
              "      <td>0</td>\n",
              "      <td>0</td>\n",
              "      <td>0</td>\n",
              "      <td>0</td>\n",
              "      <td>0</td>\n",
              "      <td>0</td>\n",
              "      <td>0</td>\n",
              "      <td>0</td>\n",
              "      <td>0</td>\n",
              "      <td>0</td>\n",
              "      <td>...</td>\n",
              "      <td>0</td>\n",
              "      <td>0</td>\n",
              "      <td>0</td>\n",
              "      <td>0</td>\n",
              "      <td>0</td>\n",
              "      <td>0</td>\n",
              "      <td>0</td>\n",
              "      <td>0</td>\n",
              "      <td>0</td>\n",
              "      <td>0</td>\n",
              "    </tr>\n",
              "    <tr>\n",
              "      <th>1</th>\n",
              "      <td>0</td>\n",
              "      <td>0</td>\n",
              "      <td>0</td>\n",
              "      <td>0</td>\n",
              "      <td>0</td>\n",
              "      <td>0</td>\n",
              "      <td>0</td>\n",
              "      <td>0</td>\n",
              "      <td>0</td>\n",
              "      <td>0</td>\n",
              "      <td>...</td>\n",
              "      <td>0</td>\n",
              "      <td>0</td>\n",
              "      <td>0</td>\n",
              "      <td>0</td>\n",
              "      <td>0</td>\n",
              "      <td>0</td>\n",
              "      <td>0</td>\n",
              "      <td>0</td>\n",
              "      <td>0</td>\n",
              "      <td>0</td>\n",
              "    </tr>\n",
              "    <tr>\n",
              "      <th>2</th>\n",
              "      <td>0</td>\n",
              "      <td>0</td>\n",
              "      <td>0</td>\n",
              "      <td>0</td>\n",
              "      <td>0</td>\n",
              "      <td>0</td>\n",
              "      <td>0</td>\n",
              "      <td>0</td>\n",
              "      <td>0</td>\n",
              "      <td>0</td>\n",
              "      <td>...</td>\n",
              "      <td>0</td>\n",
              "      <td>0</td>\n",
              "      <td>0</td>\n",
              "      <td>0</td>\n",
              "      <td>0</td>\n",
              "      <td>0</td>\n",
              "      <td>0</td>\n",
              "      <td>0</td>\n",
              "      <td>0</td>\n",
              "      <td>0</td>\n",
              "    </tr>\n",
              "    <tr>\n",
              "      <th>3</th>\n",
              "      <td>0</td>\n",
              "      <td>0</td>\n",
              "      <td>0</td>\n",
              "      <td>0</td>\n",
              "      <td>0</td>\n",
              "      <td>0</td>\n",
              "      <td>0</td>\n",
              "      <td>0</td>\n",
              "      <td>0</td>\n",
              "      <td>0</td>\n",
              "      <td>...</td>\n",
              "      <td>0</td>\n",
              "      <td>0</td>\n",
              "      <td>0</td>\n",
              "      <td>0</td>\n",
              "      <td>0</td>\n",
              "      <td>0</td>\n",
              "      <td>0</td>\n",
              "      <td>0</td>\n",
              "      <td>0</td>\n",
              "      <td>0</td>\n",
              "    </tr>\n",
              "    <tr>\n",
              "      <th>4</th>\n",
              "      <td>0</td>\n",
              "      <td>0</td>\n",
              "      <td>0</td>\n",
              "      <td>0</td>\n",
              "      <td>0</td>\n",
              "      <td>0</td>\n",
              "      <td>0</td>\n",
              "      <td>0</td>\n",
              "      <td>0</td>\n",
              "      <td>0</td>\n",
              "      <td>...</td>\n",
              "      <td>0</td>\n",
              "      <td>0</td>\n",
              "      <td>0</td>\n",
              "      <td>0</td>\n",
              "      <td>0</td>\n",
              "      <td>0</td>\n",
              "      <td>0</td>\n",
              "      <td>0</td>\n",
              "      <td>0</td>\n",
              "      <td>0</td>\n",
              "    </tr>\n",
              "    <tr>\n",
              "      <th>...</th>\n",
              "      <td>...</td>\n",
              "      <td>...</td>\n",
              "      <td>...</td>\n",
              "      <td>...</td>\n",
              "      <td>...</td>\n",
              "      <td>...</td>\n",
              "      <td>...</td>\n",
              "      <td>...</td>\n",
              "      <td>...</td>\n",
              "      <td>...</td>\n",
              "      <td>...</td>\n",
              "      <td>...</td>\n",
              "      <td>...</td>\n",
              "      <td>...</td>\n",
              "      <td>...</td>\n",
              "      <td>...</td>\n",
              "      <td>...</td>\n",
              "      <td>...</td>\n",
              "      <td>...</td>\n",
              "      <td>...</td>\n",
              "      <td>...</td>\n",
              "    </tr>\n",
              "    <tr>\n",
              "      <th>27995</th>\n",
              "      <td>0</td>\n",
              "      <td>0</td>\n",
              "      <td>0</td>\n",
              "      <td>0</td>\n",
              "      <td>0</td>\n",
              "      <td>0</td>\n",
              "      <td>0</td>\n",
              "      <td>0</td>\n",
              "      <td>0</td>\n",
              "      <td>0</td>\n",
              "      <td>...</td>\n",
              "      <td>0</td>\n",
              "      <td>0</td>\n",
              "      <td>0</td>\n",
              "      <td>0</td>\n",
              "      <td>0</td>\n",
              "      <td>0</td>\n",
              "      <td>0</td>\n",
              "      <td>0</td>\n",
              "      <td>0</td>\n",
              "      <td>0</td>\n",
              "    </tr>\n",
              "    <tr>\n",
              "      <th>27996</th>\n",
              "      <td>0</td>\n",
              "      <td>0</td>\n",
              "      <td>0</td>\n",
              "      <td>0</td>\n",
              "      <td>0</td>\n",
              "      <td>0</td>\n",
              "      <td>0</td>\n",
              "      <td>0</td>\n",
              "      <td>0</td>\n",
              "      <td>0</td>\n",
              "      <td>...</td>\n",
              "      <td>0</td>\n",
              "      <td>0</td>\n",
              "      <td>0</td>\n",
              "      <td>0</td>\n",
              "      <td>0</td>\n",
              "      <td>0</td>\n",
              "      <td>0</td>\n",
              "      <td>0</td>\n",
              "      <td>0</td>\n",
              "      <td>0</td>\n",
              "    </tr>\n",
              "    <tr>\n",
              "      <th>27997</th>\n",
              "      <td>0</td>\n",
              "      <td>0</td>\n",
              "      <td>0</td>\n",
              "      <td>0</td>\n",
              "      <td>0</td>\n",
              "      <td>0</td>\n",
              "      <td>0</td>\n",
              "      <td>0</td>\n",
              "      <td>0</td>\n",
              "      <td>0</td>\n",
              "      <td>...</td>\n",
              "      <td>0</td>\n",
              "      <td>0</td>\n",
              "      <td>0</td>\n",
              "      <td>0</td>\n",
              "      <td>0</td>\n",
              "      <td>0</td>\n",
              "      <td>0</td>\n",
              "      <td>0</td>\n",
              "      <td>0</td>\n",
              "      <td>0</td>\n",
              "    </tr>\n",
              "    <tr>\n",
              "      <th>27998</th>\n",
              "      <td>0</td>\n",
              "      <td>0</td>\n",
              "      <td>0</td>\n",
              "      <td>0</td>\n",
              "      <td>0</td>\n",
              "      <td>0</td>\n",
              "      <td>0</td>\n",
              "      <td>0</td>\n",
              "      <td>0</td>\n",
              "      <td>0</td>\n",
              "      <td>...</td>\n",
              "      <td>0</td>\n",
              "      <td>0</td>\n",
              "      <td>0</td>\n",
              "      <td>0</td>\n",
              "      <td>0</td>\n",
              "      <td>0</td>\n",
              "      <td>0</td>\n",
              "      <td>0</td>\n",
              "      <td>0</td>\n",
              "      <td>0</td>\n",
              "    </tr>\n",
              "    <tr>\n",
              "      <th>27999</th>\n",
              "      <td>0</td>\n",
              "      <td>0</td>\n",
              "      <td>0</td>\n",
              "      <td>0</td>\n",
              "      <td>0</td>\n",
              "      <td>0</td>\n",
              "      <td>0</td>\n",
              "      <td>0</td>\n",
              "      <td>0</td>\n",
              "      <td>0</td>\n",
              "      <td>...</td>\n",
              "      <td>0</td>\n",
              "      <td>0</td>\n",
              "      <td>0</td>\n",
              "      <td>0</td>\n",
              "      <td>0</td>\n",
              "      <td>0</td>\n",
              "      <td>0</td>\n",
              "      <td>0</td>\n",
              "      <td>0</td>\n",
              "      <td>0</td>\n",
              "    </tr>\n",
              "  </tbody>\n",
              "</table>\n",
              "<p>28000 rows × 784 columns</p>\n",
              "</div>\n",
              "      <button class=\"colab-df-convert\" onclick=\"convertToInteractive('df-920a624b-df3b-4f17-a6a7-0b4d87e00ac5')\"\n",
              "              title=\"Convert this dataframe to an interactive table.\"\n",
              "              style=\"display:none;\">\n",
              "        \n",
              "  <svg xmlns=\"http://www.w3.org/2000/svg\" height=\"24px\"viewBox=\"0 0 24 24\"\n",
              "       width=\"24px\">\n",
              "    <path d=\"M0 0h24v24H0V0z\" fill=\"none\"/>\n",
              "    <path d=\"M18.56 5.44l.94 2.06.94-2.06 2.06-.94-2.06-.94-.94-2.06-.94 2.06-2.06.94zm-11 1L8.5 8.5l.94-2.06 2.06-.94-2.06-.94L8.5 2.5l-.94 2.06-2.06.94zm10 10l.94 2.06.94-2.06 2.06-.94-2.06-.94-.94-2.06-.94 2.06-2.06.94z\"/><path d=\"M17.41 7.96l-1.37-1.37c-.4-.4-.92-.59-1.43-.59-.52 0-1.04.2-1.43.59L10.3 9.45l-7.72 7.72c-.78.78-.78 2.05 0 2.83L4 21.41c.39.39.9.59 1.41.59.51 0 1.02-.2 1.41-.59l7.78-7.78 2.81-2.81c.8-.78.8-2.07 0-2.86zM5.41 20L4 18.59l7.72-7.72 1.47 1.35L5.41 20z\"/>\n",
              "  </svg>\n",
              "      </button>\n",
              "      \n",
              "  <style>\n",
              "    .colab-df-container {\n",
              "      display:flex;\n",
              "      flex-wrap:wrap;\n",
              "      gap: 12px;\n",
              "    }\n",
              "\n",
              "    .colab-df-convert {\n",
              "      background-color: #E8F0FE;\n",
              "      border: none;\n",
              "      border-radius: 50%;\n",
              "      cursor: pointer;\n",
              "      display: none;\n",
              "      fill: #1967D2;\n",
              "      height: 32px;\n",
              "      padding: 0 0 0 0;\n",
              "      width: 32px;\n",
              "    }\n",
              "\n",
              "    .colab-df-convert:hover {\n",
              "      background-color: #E2EBFA;\n",
              "      box-shadow: 0px 1px 2px rgba(60, 64, 67, 0.3), 0px 1px 3px 1px rgba(60, 64, 67, 0.15);\n",
              "      fill: #174EA6;\n",
              "    }\n",
              "\n",
              "    [theme=dark] .colab-df-convert {\n",
              "      background-color: #3B4455;\n",
              "      fill: #D2E3FC;\n",
              "    }\n",
              "\n",
              "    [theme=dark] .colab-df-convert:hover {\n",
              "      background-color: #434B5C;\n",
              "      box-shadow: 0px 1px 3px 1px rgba(0, 0, 0, 0.15);\n",
              "      filter: drop-shadow(0px 1px 2px rgba(0, 0, 0, 0.3));\n",
              "      fill: #FFFFFF;\n",
              "    }\n",
              "  </style>\n",
              "\n",
              "      <script>\n",
              "        const buttonEl =\n",
              "          document.querySelector('#df-920a624b-df3b-4f17-a6a7-0b4d87e00ac5 button.colab-df-convert');\n",
              "        buttonEl.style.display =\n",
              "          google.colab.kernel.accessAllowed ? 'block' : 'none';\n",
              "\n",
              "        async function convertToInteractive(key) {\n",
              "          const element = document.querySelector('#df-920a624b-df3b-4f17-a6a7-0b4d87e00ac5');\n",
              "          const dataTable =\n",
              "            await google.colab.kernel.invokeFunction('convertToInteractive',\n",
              "                                                     [key], {});\n",
              "          if (!dataTable) return;\n",
              "\n",
              "          const docLinkHtml = 'Like what you see? Visit the ' +\n",
              "            '<a target=\"_blank\" href=https://colab.research.google.com/notebooks/data_table.ipynb>data table notebook</a>'\n",
              "            + ' to learn more about interactive tables.';\n",
              "          element.innerHTML = '';\n",
              "          dataTable['output_type'] = 'display_data';\n",
              "          await google.colab.output.renderOutput(dataTable, element);\n",
              "          const docLink = document.createElement('div');\n",
              "          docLink.innerHTML = docLinkHtml;\n",
              "          element.appendChild(docLink);\n",
              "        }\n",
              "      </script>\n",
              "    </div>\n",
              "  </div>\n",
              "  "
            ]
          },
          "metadata": {},
          "execution_count": 5
        }
      ]
    },
    {
      "cell_type": "code",
      "source": [
        "test_data = (test.values.reshape(-1,28,28))/255.0"
      ],
      "metadata": {
        "id": "6xyDWn1lhBNF"
      },
      "execution_count": null,
      "outputs": []
    },
    {
      "cell_type": "code",
      "source": [
        "train_data = torch.Tensor(train_data)\n",
        "test_data = torch.Tensor(test_data)"
      ],
      "metadata": {
        "id": "vdwtwxqrkhBp"
      },
      "execution_count": null,
      "outputs": []
    },
    {
      "cell_type": "code",
      "source": [
        "batch_size = 16\n",
        "train_dl = DataLoader(train_data, batch_size, shuffle = True)"
      ],
      "metadata": {
        "id": "NIrQ-u7nkoAm"
      },
      "execution_count": null,
      "outputs": []
    },
    {
      "cell_type": "code",
      "source": [
        "test_dl = DataLoader(test_data, batch_size, shuffle = False)"
      ],
      "metadata": {
        "id": "sBcgIuL9k2y4"
      },
      "execution_count": null,
      "outputs": []
    },
    {
      "cell_type": "code",
      "source": [
        "def noise_gen(batch_size, dim, choice='gaussian'):\n",
        "  if choice=='gaussian':\n",
        "    return torch.randn(batch_size, dim)\n",
        "  if choice=='random':\n",
        "    return torch.rand(batch_size, dim)\n",
        "  else:\n",
        "    pass"
      ],
      "metadata": {
        "id": "gSgvVxs1lsGx"
      },
      "execution_count": null,
      "outputs": []
    },
    {
      "cell_type": "code",
      "source": [
        "a1 = noise_gen(64, 100, 'random')\n",
        "b1 = a1[2]\n",
        "b1 = b1.reshape(10, 10)\n",
        "b1 = b1.numpy()\n",
        "plt.imshow(b1, cmap = 'gray')"
      ],
      "metadata": {
        "colab": {
          "base_uri": "https://localhost:8080/",
          "height": 282
        },
        "id": "ASljrNIfnh8Z",
        "outputId": "bfa13e73-3b06-476d-9449-c336decd0276"
      },
      "execution_count": null,
      "outputs": [
        {
          "output_type": "execute_result",
          "data": {
            "text/plain": [
              "<matplotlib.image.AxesImage at 0x7f149bff2390>"
            ]
          },
          "metadata": {},
          "execution_count": 11
        },
        {
          "output_type": "display_data",
          "data": {
            "text/plain": [
              "<Figure size 432x288 with 1 Axes>"
            ],
            "image/png": "[encoded data removed]"
          },
          "metadata": {
            "needs_background": "light"
          }
        }
      ]
    },
    {
      "cell_type": "code",
      "source": [
        "a2 = noise_gen(64, 100, 'gaussian')\n",
        "b2 = a2[2]\n",
        "b2 = b2.reshape(10, 10)\n",
        "b2 = b2.numpy()\n",
        "plt.imshow(b2, cmap = 'gray')"
      ],
      "metadata": {
        "colab": {
          "base_uri": "https://localhost:8080/",
          "height": 282
        },
        "id": "6YaiHUUEnm_w",
        "outputId": "f87b2c40-261c-4233-c413-3b3f5403551c"
      },
      "execution_count": null,
      "outputs": [
        {
          "output_type": "execute_result",
          "data": {
            "text/plain": [
              "<matplotlib.image.AxesImage at 0x7f149c250490>"
            ]
          },
          "metadata": {},
          "execution_count": 12
        },
        {
          "output_type": "display_data",
          "data": {
            "text/plain": [
              "<Figure size 432x288 with 1 Axes>"
            ],
            "image/png": "[encoded data removed]"
          },
          "metadata": {
            "needs_background": "light"
          }
        }
      ]
    },
    {
      "cell_type": "code",
      "source": [
        "vgg_model = models.vgg16(pretrained=True).cuda()"
      ],
      "metadata": {
        "colab": {
          "base_uri": "https://localhost:8080/",
          "height": 66,
          "referenced_widgets": [
            "1375c7ea3a774ed2a4cb65b75f22af77",
            "8088ba4e241749a4a826070610c5dddb",
            "b9bb1378d5e948be9783ca8a6a5d2dc7",
            "8f39466678964373899d9392c4d88508",
            "a44a16da6a024efca4cfb7b0c0ff498e",
            "6dfd6833672c46a0b11898cb790e6247",
            "66fa90882f764eef9aa4c732962d5ef2",
            "3b382139ca9447d6893e7fc12bd3de9f",
            "7ac21a73e9dc47138bbf609b9a92372a",
            "4accc6a167f544f99cd92dcb18ecec5c",
            "006cb18137684f39971c67af5f835494"
          ]
        },
        "id": "BZzrIY4En9O_",
        "outputId": "36b9dbd2-a526-444d-d157-59c606b40787"
      },
      "execution_count": null,
      "outputs": [
        {
          "output_type": "stream",
          "name": "stderr",
          "text": [
            "Downloading: \"https://download.pytorch.org/models/vgg16-397923af.pth\" to /root/.cache/torch/hub/checkpoints/vgg16-397923af.pth\n"
          ]
        },
        {
          "output_type": "display_data",
          "data": {
            "text/plain": [
              "  0%|          | 0.00/528M [00:00<?, ?B/s]"
            ],
            "application/vnd.jupyter.widget-view+json": {
              "version_major": 2,
              "version_minor": 0,
              "model_id": "1375c7ea3a774ed2a4cb65b75f22af77"
            }
          },
          "metadata": {}
        }
      ]
    },
    {
      "cell_type": "code",
      "source": [
        "import torch.nn.functional as F\n",
        "\n",
        "class Discriminator(torch.nn.Module):\n",
        "    \n",
        "    def __init__(self, vgg_model):\n",
        "        super().__init__()\n",
        "        self.vgg_layers = vgg_model.features\n",
        "        self.conv0 = torch.nn.Conv2d(1, 32, kernel_size = 3, stride = 2, padding = 1)\n",
        "        self.conv0_drop = torch.nn.Dropout2d(0.25)\n",
        "        self.conv1 = torch.nn.Conv2d(32, 64, kernel_size = 3, stride = 1, padding = 1)\n",
        "        self.conv1_drop = torch.nn.Dropout2d(0.25)\n",
        "        self.conv2 = torch.nn.Conv2d(64, 128, kernel_size = 3, stride = 1, padding = 1)\n",
        "        self.conv2_drop = torch.nn.Dropout2d(0.25)\n",
        "        self.conv3 = torch.nn.Conv2d(128, 256, kernel_size = 3, stride = 2, padding = 1)\n",
        "        self.conv3_drop = torch.nn.Dropout2d(0.25)\n",
        "        self.fc = torch.nn.Linear(12544, 1)\n",
        "    \n",
        "    def forward(self, x):\n",
        "        x = x.view(-1, 1, 28, 28)\n",
        "        x = F.leaky_relu(self.conv0(x), 0.1)\n",
        "        x = self.conv0_drop(x)\n",
        "        x = F.leaky_relu(self.conv1(x), 0.2)\n",
        "        x = self.conv1_drop(x)\n",
        "        x = F.leaky_relu(self.conv2(x), 0.3)\n",
        "        x = self.conv2_drop(x)\n",
        "        x = F.leaky_relu(self.conv3(x), 0.4)\n",
        "        x = self.conv3_drop(x)\n",
        "        x = x.view(-1, self.num_flat_features(x))\n",
        "        x = self.fc(x)\n",
        "        \n",
        "        return x\n",
        "    \n",
        "    def num_flat_features(self, x):\n",
        "        size = x.size()[1:]\n",
        "        num_features = 1\n",
        "        for s in size:\n",
        "            num_features *= s\n",
        "        return num_features"
      ],
      "metadata": {
        "id": "AlVFkgO1p7-X"
      },
      "execution_count": null,
      "outputs": []
    },
    {
      "cell_type": "code",
      "source": [
        "class Generator(torch.nn.Module):\n",
        "    \n",
        "    def __init__(self):\n",
        "        super().__init__()\n",
        "        self.fc = torch.nn.Linear(100, 256*7*7)\n",
        "        self.trans_conv1 = torch.nn.ConvTranspose2d(256, 128, kernel_size = 3, stride = 2, padding = 1, output_padding = 1)\n",
        "        self.trans_conv2 = torch.nn.ConvTranspose2d(128, 64, kernel_size = 3, stride = 1, padding = 1)\n",
        "        self.trans_conv3 = torch.nn.ConvTranspose2d(64, 32, kernel_size = 3, stride = 1, padding = 1)\n",
        "        self.trans_conv4 = torch.nn.ConvTranspose2d(32, 1, kernel_size = 3, stride = 2, padding = 1, output_padding = 1)\n",
        "    \n",
        "    def forward(self, x):\n",
        "        x = self.fc(x)\n",
        "        x = x.view(-1, 256, 7, 7)\n",
        "        x = F.leaky_relu(self.trans_conv1(x),0.15)\n",
        "        x = F.leaky_relu(self.trans_conv2(x),0.2)\n",
        "        x = F.leaky_relu(self.trans_conv3(x),0.25)\n",
        "        x = self.trans_conv4(x)\n",
        "        x = torch.tanh(x)\n",
        "        return x        "
      ],
      "metadata": {
        "id": "ri5lj5WrqjFz"
      },
      "execution_count": null,
      "outputs": []
    },
    {
      "cell_type": "code",
      "source": [
        "D = Discriminator(vgg_model).float().cuda()\n",
        "G = Generator().float().cuda()"
      ],
      "metadata": {
        "id": "TZaMp_6iq2ot"
      },
      "execution_count": null,
      "outputs": []
    },
    {
      "cell_type": "code",
      "source": [
        "Loss = torch.nn.BCEWithLogitsLoss().cuda()\n",
        "optimizerD = torch.optim.Adam(D.parameters())\n",
        "optimizerG = torch.optim.Adam(G.parameters())"
      ],
      "metadata": {
        "id": "y6b-Wlh8rBmi"
      },
      "execution_count": null,
      "outputs": []
    },
    {
      "cell_type": "code",
      "source": [
        "G_losses_g1 = []\n",
        "D_losses_g1 = []\n",
        "\n",
        "for epoch in range(25):\n",
        "  for inp_img in tqdm(train_dl):\n",
        "    inp_img = inp_img.cuda()\n",
        "    fak_img = noise_gen(16,100,'gaussian').cuda().float()\n",
        "    fak_lab = torch.zeros(16,1).cuda()\n",
        "    inp_lab = torch.ones(16,1).cuda()\n",
        "    D.zero_grad()\n",
        "    out_real = D(inp_img)\n",
        "    error_real = Loss(out_real.type(torch.float32), inp_lab.type(torch.float32))\n",
        "    error_real.backward()\n",
        "    D_x = out_real.mean().item()\n",
        "    out_inp = D(G(fak_img))\n",
        "    error_inp = Loss(out_inp.type(torch.float32), fak_lab.type(torch.float32))\n",
        "    error_inp.backward()\n",
        "    D_G_z1 = out_inp.mean().item()\n",
        "    error = error_real + error_inp\n",
        "    optimizerD.step()\n",
        "    output = D(inp_img)\n",
        "    errG = Loss(output.type(torch.float32), inp_lab.type(torch.float32))\n",
        "    errG.backward()\n",
        "    D_G_z2 = output.mean().item()\n",
        "    optimizerG.step()\n",
        "    G_losses_g1.append(errG.item())\n",
        "    D_losses_g1.append(error.item())"
      ],
      "metadata": {
        "colab": {
          "base_uri": "https://localhost:8080/"
        },
        "id": "64zyPlJhrOYL",
        "outputId": "8dc646fe-da0e-493f-8cb4-d2afc90b6234"
      },
      "execution_count": null,
      "outputs": [
        {
          "output_type": "stream",
          "name": "stderr",
          "text": [
            "100%|██████████| 2625/2625 [00:32<00:00, 80.94it/s]\n",
            "100%|██████████| 2625/2625 [00:31<00:00, 84.52it/s]\n",
            "100%|██████████| 2625/2625 [00:30<00:00, 86.52it/s]\n",
            "100%|██████████| 2625/2625 [00:30<00:00, 86.25it/s]\n",
            "100%|██████████| 2625/2625 [00:32<00:00, 81.41it/s]\n",
            "100%|██████████| 2625/2625 [00:31<00:00, 84.63it/s]\n",
            "100%|██████████| 2625/2625 [00:31<00:00, 82.30it/s]\n",
            "100%|██████████| 2625/2625 [00:30<00:00, 85.02it/s]\n",
            "100%|██████████| 2625/2625 [00:30<00:00, 85.39it/s]\n",
            "100%|██████████| 2625/2625 [00:31<00:00, 83.00it/s]\n",
            "100%|██████████| 2625/2625 [00:30<00:00, 85.01it/s]\n",
            "100%|██████████| 2625/2625 [00:30<00:00, 87.13it/s]\n",
            "100%|██████████| 2625/2625 [00:30<00:00, 86.83it/s]\n",
            "100%|██████████| 2625/2625 [00:30<00:00, 86.01it/s]\n",
            "100%|██████████| 2625/2625 [00:30<00:00, 86.81it/s]\n",
            "100%|██████████| 2625/2625 [00:30<00:00, 87.13it/s]\n",
            "100%|██████████| 2625/2625 [00:30<00:00, 86.56it/s]\n",
            "100%|██████████| 2625/2625 [00:30<00:00, 86.86it/s]\n",
            "100%|██████████| 2625/2625 [00:30<00:00, 86.95it/s]\n",
            "100%|██████████| 2625/2625 [00:30<00:00, 86.93it/s]\n",
            "100%|██████████| 2625/2625 [00:30<00:00, 87.02it/s]\n",
            "100%|██████████| 2625/2625 [00:30<00:00, 86.68it/s]\n",
            "100%|██████████| 2625/2625 [00:30<00:00, 86.86it/s]\n",
            "100%|██████████| 2625/2625 [00:30<00:00, 87.08it/s]\n",
            "100%|██████████| 2625/2625 [00:30<00:00, 86.61it/s]\n"
          ]
        }
      ]
    },
    {
      "cell_type": "code",
      "source": [
        "D1 = Discriminator(vgg_model).float().cuda()\n",
        "G1 = Generator().float().cuda()\n",
        "optimizerD1 = torch.optim.Adam(D1.parameters())\n",
        "optimizerG1 = torch.optim.Adam(G1.parameters())\n",
        "\n",
        "G_losses_r1 = []\n",
        "D_losses_r1 = []\n",
        "\n",
        "for epoch in range(25):\n",
        "  for inp_img in tqdm(train_dl):\n",
        "    inp_img = inp_img.cuda()\n",
        "    fak_img = noise_gen(16,100,'random').cuda().float()\n",
        "    fak_lab = torch.zeros(16,1).cuda()\n",
        "    inp_lab = torch.ones(16,1).cuda()\n",
        "    D1.zero_grad()\n",
        "    out_real = D1(inp_img)\n",
        "    error_real = Loss(out_real.type(torch.float32), inp_lab.type(torch.float32))\n",
        "    error_real.backward()\n",
        "    D_x = out_real.mean().item()\n",
        "    out_inp = D1(G1(fak_img))\n",
        "    error_inp = Loss(out_inp.type(torch.float32), fak_lab.type(torch.float32))\n",
        "    error_inp.backward()\n",
        "    D_G_z1 = out_inp.mean().item()\n",
        "    error = error_real + error_inp\n",
        "    optimizerD1.step()\n",
        "    output = D1(inp_img)\n",
        "    errG = Loss(output.type(torch.float32), inp_lab.type(torch.float32))\n",
        "    errG.backward()\n",
        "    D_G_z2 = output.mean().item()\n",
        "    optimizerG1.step()\n",
        "    G_losses_r1.append(errG.item())\n",
        "    D_losses_r1.append(error.item())"
      ],
      "metadata": {
        "colab": {
          "base_uri": "https://localhost:8080/"
        },
        "id": "NHZ-eV3-tDU5",
        "outputId": "f24eaa6d-527e-4bb1-b82e-b1d9e186598e"
      },
      "execution_count": null,
      "outputs": [
        {
          "output_type": "stream",
          "name": "stderr",
          "text": [
            "100%|██████████| 2625/2625 [00:30<00:00, 86.62it/s]\n",
            "100%|██████████| 2625/2625 [00:30<00:00, 87.24it/s]\n",
            "100%|██████████| 2625/2625 [00:31<00:00, 82.80it/s]\n",
            "100%|██████████| 2625/2625 [00:31<00:00, 82.88it/s]\n",
            "100%|██████████| 2625/2625 [00:31<00:00, 84.48it/s]\n",
            "100%|██████████| 2625/2625 [00:30<00:00, 86.93it/s]\n",
            "100%|██████████| 2625/2625 [00:30<00:00, 86.90it/s]\n",
            "100%|██████████| 2625/2625 [00:30<00:00, 86.83it/s]\n",
            "100%|██████████| 2625/2625 [00:30<00:00, 87.17it/s]\n",
            "100%|██████████| 2625/2625 [00:30<00:00, 87.25it/s]\n",
            "100%|██████████| 2625/2625 [00:30<00:00, 87.27it/s]\n",
            "100%|██████████| 2625/2625 [00:30<00:00, 87.23it/s]\n",
            "100%|██████████| 2625/2625 [00:30<00:00, 85.35it/s]\n",
            "100%|██████████| 2625/2625 [00:30<00:00, 87.12it/s]\n",
            "100%|██████████| 2625/2625 [00:30<00:00, 87.01it/s]\n",
            "100%|██████████| 2625/2625 [00:30<00:00, 87.06it/s]\n",
            "100%|██████████| 2625/2625 [00:30<00:00, 87.01it/s]\n",
            "100%|██████████| 2625/2625 [00:30<00:00, 86.98it/s]\n",
            "100%|██████████| 2625/2625 [00:30<00:00, 87.20it/s]\n",
            "100%|██████████| 2625/2625 [00:30<00:00, 87.29it/s]\n",
            "100%|██████████| 2625/2625 [00:29<00:00, 87.64it/s]\n",
            "100%|██████████| 2625/2625 [00:30<00:00, 87.35it/s]\n",
            "100%|██████████| 2625/2625 [00:30<00:00, 86.07it/s]\n",
            "100%|██████████| 2625/2625 [00:29<00:00, 87.57it/s]\n",
            "100%|██████████| 2625/2625 [00:30<00:00, 87.18it/s]\n"
          ]
        }
      ]
    },
    {
      "cell_type": "code",
      "source": [
        "D2 = Discriminator(vgg_model).float().cuda()\n",
        "G2 = Generator().float().cuda()\n",
        "optimizerD2 = torch.optim.Adam(D2.parameters())\n",
        "optimizerG2 = torch.optim.Adam(G2.parameters())\n",
        "\n",
        "G_losses_g2 = []\n",
        "D_losses_g2 = []\n",
        "\n",
        "for epoch in range(50):\n",
        "  for inp_img in tqdm(train_dl):\n",
        "    inp_img = inp_img.cuda()\n",
        "    fak_img = noise_gen(16,100,'gaussian').cuda().float()\n",
        "    fak_lab = torch.zeros(16,1).cuda()\n",
        "    inp_lab = torch.ones(16,1).cuda()\n",
        "    D2.zero_grad()\n",
        "    out_real = D2(inp_img)\n",
        "    error_real = Loss(out_real.type(torch.float32), inp_lab.type(torch.float32))\n",
        "    error_real.backward()\n",
        "    D_x = out_real.mean().item()\n",
        "    out_inp = D2(G2(fak_img))\n",
        "    error_inp = Loss(out_inp.type(torch.float32), fak_lab.type(torch.float32))\n",
        "    error_inp.backward()\n",
        "    D_G_z1 = out_inp.mean().item()\n",
        "    error = error_real + error_inp\n",
        "    optimizerD2.step()\n",
        "    output = D2(inp_img)\n",
        "    errG = Loss(output.type(torch.float32), inp_lab.type(torch.float32))\n",
        "    errG.backward()\n",
        "    D_G_z2 = output.mean().item()\n",
        "    optimizerG2.step()\n",
        "    G_losses_g2.append(errG.item())\n",
        "    D_losses_g2.append(error.item())"
      ],
      "metadata": {
        "colab": {
          "base_uri": "https://localhost:8080/"
        },
        "id": "u814qd9PtSym",
        "outputId": "6cb1246a-31cc-4779-bb58-0a6216f1713e"
      },
      "execution_count": null,
      "outputs": [
        {
          "output_type": "stream",
          "name": "stderr",
          "text": [
            "100%|██████████| 2625/2625 [00:32<00:00, 81.81it/s]\n",
            "100%|██████████| 2625/2625 [00:32<00:00, 81.19it/s]\n",
            "100%|██████████| 2625/2625 [00:30<00:00, 84.98it/s]\n",
            "100%|██████████| 2625/2625 [00:31<00:00, 84.39it/s]\n",
            "100%|██████████| 2625/2625 [00:30<00:00, 87.08it/s]\n",
            "100%|██████████| 2625/2625 [00:30<00:00, 86.67it/s]\n",
            "100%|██████████| 2625/2625 [00:30<00:00, 85.79it/s]\n",
            "100%|██████████| 2625/2625 [00:30<00:00, 86.93it/s]\n",
            "100%|██████████| 2625/2625 [00:30<00:00, 86.85it/s]\n",
            "100%|██████████| 2625/2625 [00:30<00:00, 86.85it/s]\n",
            "100%|██████████| 2625/2625 [00:30<00:00, 87.13it/s]\n",
            "100%|██████████| 2625/2625 [00:30<00:00, 87.02it/s]\n",
            "100%|██████████| 2625/2625 [00:30<00:00, 86.78it/s]\n",
            "100%|██████████| 2625/2625 [00:30<00:00, 86.88it/s]\n",
            "100%|██████████| 2625/2625 [00:30<00:00, 86.92it/s]\n",
            "100%|██████████| 2625/2625 [00:30<00:00, 87.05it/s]\n",
            "100%|██████████| 2625/2625 [00:30<00:00, 87.28it/s]\n",
            "100%|██████████| 2625/2625 [00:30<00:00, 86.90it/s]\n",
            "100%|██████████| 2625/2625 [00:30<00:00, 86.71it/s]\n",
            "100%|██████████| 2625/2625 [00:30<00:00, 86.68it/s]\n",
            "100%|██████████| 2625/2625 [00:30<00:00, 86.64it/s]\n",
            "100%|██████████| 2625/2625 [00:30<00:00, 86.59it/s]\n",
            "100%|██████████| 2625/2625 [00:30<00:00, 86.74it/s]\n",
            "100%|██████████| 2625/2625 [00:30<00:00, 86.66it/s]\n",
            "100%|██████████| 2625/2625 [00:30<00:00, 86.40it/s]\n",
            "100%|██████████| 2625/2625 [00:31<00:00, 84.63it/s]\n",
            "100%|██████████| 2625/2625 [00:30<00:00, 84.95it/s]\n",
            "100%|██████████| 2625/2625 [00:30<00:00, 85.66it/s]\n",
            "100%|██████████| 2625/2625 [00:30<00:00, 86.24it/s]\n",
            "100%|██████████| 2625/2625 [00:30<00:00, 86.48it/s]\n",
            "100%|██████████| 2625/2625 [00:30<00:00, 87.41it/s]\n",
            "100%|██████████| 2625/2625 [00:29<00:00, 88.80it/s]\n",
            "100%|██████████| 2625/2625 [00:29<00:00, 88.56it/s]\n",
            "100%|██████████| 2625/2625 [00:29<00:00, 88.45it/s]\n",
            "100%|██████████| 2625/2625 [00:29<00:00, 88.73it/s]\n",
            "100%|██████████| 2625/2625 [00:29<00:00, 88.50it/s]\n",
            "100%|██████████| 2625/2625 [00:29<00:00, 88.13it/s]\n",
            "100%|██████████| 2625/2625 [00:29<00:00, 88.23it/s]\n",
            "100%|██████████| 2625/2625 [00:29<00:00, 88.42it/s]\n",
            "100%|██████████| 2625/2625 [00:29<00:00, 88.04it/s]\n",
            "100%|██████████| 2625/2625 [00:29<00:00, 87.87it/s]\n",
            "100%|██████████| 2625/2625 [00:29<00:00, 88.43it/s]\n",
            "100%|██████████| 2625/2625 [00:29<00:00, 88.14it/s]\n",
            "100%|██████████| 2625/2625 [00:29<00:00, 87.81it/s]\n",
            "100%|██████████| 2625/2625 [00:29<00:00, 88.13it/s]\n",
            "100%|██████████| 2625/2625 [00:29<00:00, 88.46it/s]\n",
            "100%|██████████| 2625/2625 [00:29<00:00, 88.19it/s]\n",
            "100%|██████████| 2625/2625 [00:29<00:00, 88.21it/s]\n",
            "100%|██████████| 2625/2625 [00:29<00:00, 88.18it/s]\n",
            "100%|██████████| 2625/2625 [00:29<00:00, 87.98it/s]\n"
          ]
        }
      ]
    },
    {
      "cell_type": "code",
      "source": [
        "D3 = Discriminator(vgg_model).float().cuda()\n",
        "G3 = Generator().float().cuda()\n",
        "optimizerD3 = torch.optim.Adam(D3.parameters())\n",
        "optimizerG3 = torch.optim.Adam(G3.parameters())\n",
        "\n",
        "G_losses_r2 = []\n",
        "D_losses_r2 = []\n",
        "\n",
        "for epoch in range(50):\n",
        "  for inp_img in tqdm(train_dl):\n",
        "    inp_img = inp_img.cuda()\n",
        "    fak_img = noise_gen(16,100,'random').cuda().float()\n",
        "    fak_lab = torch.zeros(16,1).cuda()\n",
        "    inp_lab = torch.ones(16,1).cuda()\n",
        "    D3.zero_grad()\n",
        "    out_real = D3(inp_img)\n",
        "    error_real = Loss(out_real.type(torch.float32), inp_lab.type(torch.float32))\n",
        "    error_real.backward()\n",
        "    D_x = out_real.mean().item()\n",
        "    out_inp = D3(G3(fak_img))\n",
        "    error_inp = Loss(out_inp.type(torch.float32), fak_lab.type(torch.float32))\n",
        "    error_inp.backward()\n",
        "    D_G_z1 = out_inp.mean().item()\n",
        "    error = error_real + error_inp\n",
        "    optimizerD3.step()\n",
        "    output = D3(inp_img)\n",
        "    errG = Loss(output.type(torch.float32), inp_lab.type(torch.float32))\n",
        "    errG.backward()\n",
        "    D_G_z2 = output.mean().item()\n",
        "    optimizerG3.step()\n",
        "    G_losses_r2.append(errG.item())\n",
        "    D_losses_r2.append(error.item())"
      ],
      "metadata": {
        "colab": {
          "base_uri": "https://localhost:8080/"
        },
        "id": "LtlODbPItSyn",
        "outputId": "736c9fa8-9a2d-4b14-a9f6-77c9fe360230"
      },
      "execution_count": null,
      "outputs": [
        {
          "output_type": "stream",
          "name": "stderr",
          "text": [
            "100%|██████████| 2625/2625 [00:30<00:00, 87.01it/s]\n",
            "100%|██████████| 2625/2625 [00:31<00:00, 83.25it/s]\n",
            "100%|██████████| 2625/2625 [00:32<00:00, 80.90it/s]\n",
            "100%|██████████| 2625/2625 [00:31<00:00, 83.67it/s]\n",
            "100%|██████████| 2625/2625 [00:30<00:00, 85.45it/s]\n",
            "100%|██████████| 2625/2625 [00:30<00:00, 87.32it/s]\n",
            "100%|██████████| 2625/2625 [00:30<00:00, 87.15it/s]\n",
            "100%|██████████| 2625/2625 [00:30<00:00, 86.93it/s]\n",
            "100%|██████████| 2625/2625 [00:30<00:00, 84.97it/s]\n",
            "100%|██████████| 2625/2625 [00:30<00:00, 86.60it/s]\n",
            "100%|██████████| 2625/2625 [00:30<00:00, 87.01it/s]\n",
            "100%|██████████| 2625/2625 [00:30<00:00, 87.24it/s]\n",
            "100%|██████████| 2625/2625 [00:30<00:00, 86.87it/s]\n",
            "100%|██████████| 2625/2625 [00:30<00:00, 87.12it/s]\n",
            "100%|██████████| 2625/2625 [00:30<00:00, 87.27it/s]\n",
            "100%|██████████| 2625/2625 [00:30<00:00, 87.12it/s]\n",
            "100%|██████████| 2625/2625 [00:29<00:00, 87.56it/s]\n",
            "100%|██████████| 2625/2625 [00:30<00:00, 87.15it/s]\n",
            "100%|██████████| 2625/2625 [00:30<00:00, 86.75it/s]\n",
            "100%|██████████| 2625/2625 [00:30<00:00, 87.02it/s]\n",
            "100%|██████████| 2625/2625 [00:30<00:00, 86.82it/s]\n",
            "100%|██████████| 2625/2625 [00:30<00:00, 87.14it/s]\n",
            "100%|██████████| 2625/2625 [00:30<00:00, 86.97it/s]\n",
            "100%|██████████| 2625/2625 [00:30<00:00, 87.35it/s]\n",
            "100%|██████████| 2625/2625 [00:30<00:00, 87.18it/s]\n",
            "100%|██████████| 2625/2625 [00:30<00:00, 86.89it/s]\n",
            "100%|██████████| 2625/2625 [00:30<00:00, 87.29it/s]\n",
            "100%|██████████| 2625/2625 [00:30<00:00, 86.14it/s]\n",
            "100%|██████████| 2625/2625 [00:30<00:00, 86.45it/s]\n",
            "100%|██████████| 2625/2625 [00:30<00:00, 86.59it/s]\n",
            "100%|██████████| 2625/2625 [00:30<00:00, 86.36it/s]\n",
            "100%|██████████| 2625/2625 [00:30<00:00, 85.91it/s]\n",
            "100%|██████████| 2625/2625 [00:30<00:00, 85.96it/s]\n",
            "100%|██████████| 2625/2625 [00:30<00:00, 85.69it/s]\n",
            "100%|██████████| 2625/2625 [00:30<00:00, 86.34it/s]\n",
            "100%|██████████| 2625/2625 [00:30<00:00, 85.49it/s]\n",
            "100%|██████████| 2625/2625 [00:30<00:00, 85.97it/s]\n",
            "100%|██████████| 2625/2625 [00:30<00:00, 86.28it/s]\n",
            "100%|██████████| 2625/2625 [00:30<00:00, 86.02it/s]\n",
            "100%|██████████| 2625/2625 [00:30<00:00, 85.90it/s]\n",
            "100%|██████████| 2625/2625 [00:30<00:00, 86.13it/s]\n",
            "100%|██████████| 2625/2625 [00:30<00:00, 86.57it/s]\n",
            "100%|██████████| 2625/2625 [00:30<00:00, 86.14it/s]\n",
            "100%|██████████| 2625/2625 [00:30<00:00, 86.01it/s]\n",
            "100%|██████████| 2625/2625 [00:30<00:00, 86.30it/s]\n",
            "100%|██████████| 2625/2625 [00:30<00:00, 86.12it/s]\n",
            "100%|██████████| 2625/2625 [00:30<00:00, 86.43it/s]\n",
            "100%|██████████| 2625/2625 [00:30<00:00, 86.27it/s]\n",
            "100%|██████████| 2625/2625 [00:30<00:00, 85.49it/s]\n",
            "100%|██████████| 2625/2625 [00:30<00:00, 85.80it/s]\n"
          ]
        }
      ]
    },
    {
      "cell_type": "code",
      "source": [
        "D4 = Discriminator(vgg_model).float().cuda()\n",
        "G4 = Generator().float().cuda()\n",
        "optimizerD4 = torch.optim.Adam(D4.parameters())\n",
        "optimizerG4 = torch.optim.Adam(G4.parameters())\n",
        "\n",
        "G_losses_g3 = []\n",
        "D_losses_g3 = []\n",
        "\n",
        "for epoch in range(100):\n",
        "  for inp_img in tqdm(train_dl):\n",
        "    inp_img = inp_img.cuda()\n",
        "    fak_img = noise_gen(16,100,'gaussian').cuda().float()\n",
        "    fak_lab = torch.zeros(16,1).cuda()\n",
        "    inp_lab = torch.ones(16,1).cuda()\n",
        "    D4.zero_grad()\n",
        "    out_real = D4(inp_img)\n",
        "    error_real = Loss(out_real.type(torch.float32), inp_lab.type(torch.float32))\n",
        "    error_real.backward()\n",
        "    D_x = out_real.mean().item()\n",
        "    out_inp = D4(G4(fak_img))\n",
        "    error_inp = Loss(out_inp.type(torch.float32), fak_lab.type(torch.float32))\n",
        "    error_inp.backward()\n",
        "    D_G_z1 = out_inp.mean().item()\n",
        "    error = error_real + error_inp\n",
        "    optimizerD4.step()\n",
        "    output = D4(inp_img)\n",
        "    errG = Loss(output.type(torch.float32), inp_lab.type(torch.float32))\n",
        "    errG.backward()\n",
        "    D_G_z2 = output.mean().item()\n",
        "    optimizerG4.step()\n",
        "    G_losses_g3.append(errG.item())\n",
        "    D_losses_g3.append(error.item())"
      ],
      "metadata": {
        "colab": {
          "base_uri": "https://localhost:8080/"
        },
        "id": "S2th2sXQDWPU",
        "outputId": "7d5b404b-1cdf-4816-dc01-018278ff362f"
      },
      "execution_count": null,
      "outputs": [
        {
          "output_type": "stream",
          "name": "stderr",
          "text": [
            "100%|██████████| 2625/2625 [00:30<00:00, 85.47it/s]\n",
            "100%|██████████| 2625/2625 [00:30<00:00, 85.40it/s]\n",
            "100%|██████████| 2625/2625 [00:30<00:00, 85.69it/s]\n",
            "100%|██████████| 2625/2625 [00:30<00:00, 85.60it/s]\n",
            "100%|██████████| 2625/2625 [00:30<00:00, 85.70it/s]\n",
            "100%|██████████| 2625/2625 [00:30<00:00, 85.77it/s]\n",
            "100%|██████████| 2625/2625 [00:30<00:00, 85.76it/s]\n",
            "100%|██████████| 2625/2625 [00:30<00:00, 86.15it/s]\n",
            "100%|██████████| 2625/2625 [00:30<00:00, 86.20it/s]\n",
            "100%|██████████| 2625/2625 [00:30<00:00, 85.58it/s]\n",
            "100%|██████████| 2625/2625 [00:30<00:00, 86.17it/s]\n",
            "100%|██████████| 2625/2625 [00:30<00:00, 85.85it/s]\n",
            "100%|██████████| 2625/2625 [00:30<00:00, 85.96it/s]\n",
            "100%|██████████| 2625/2625 [00:30<00:00, 86.11it/s]\n",
            "100%|██████████| 2625/2625 [00:30<00:00, 86.12it/s]\n",
            "100%|██████████| 2625/2625 [00:30<00:00, 86.52it/s]\n",
            "100%|██████████| 2625/2625 [00:30<00:00, 86.41it/s]\n",
            "100%|██████████| 2625/2625 [00:30<00:00, 86.43it/s]\n",
            "100%|██████████| 2625/2625 [00:30<00:00, 86.48it/s]\n",
            "100%|██████████| 2625/2625 [00:30<00:00, 86.10it/s]\n",
            "100%|██████████| 2625/2625 [00:30<00:00, 86.43it/s]\n",
            "100%|██████████| 2625/2625 [00:30<00:00, 86.02it/s]\n",
            "100%|██████████| 2625/2625 [00:30<00:00, 85.81it/s]\n",
            "100%|██████████| 2625/2625 [00:30<00:00, 85.81it/s]\n",
            "100%|██████████| 2625/2625 [00:30<00:00, 85.40it/s]\n",
            "100%|██████████| 2625/2625 [00:30<00:00, 85.72it/s]\n",
            "100%|██████████| 2625/2625 [00:30<00:00, 85.65it/s]\n",
            "100%|██████████| 2625/2625 [00:30<00:00, 85.88it/s]\n",
            "100%|██████████| 2625/2625 [00:30<00:00, 85.45it/s]\n",
            "100%|██████████| 2625/2625 [00:30<00:00, 85.67it/s]\n",
            "100%|██████████| 2625/2625 [00:30<00:00, 85.54it/s]\n",
            "100%|██████████| 2625/2625 [00:30<00:00, 85.60it/s]\n",
            "100%|██████████| 2625/2625 [00:30<00:00, 85.49it/s]\n",
            "100%|██████████| 2625/2625 [00:30<00:00, 85.77it/s]\n",
            "100%|██████████| 2625/2625 [00:30<00:00, 85.74it/s]\n",
            "100%|██████████| 2625/2625 [00:30<00:00, 85.87it/s]\n",
            "100%|██████████| 2625/2625 [00:30<00:00, 85.83it/s]\n",
            "100%|██████████| 2625/2625 [00:30<00:00, 85.74it/s]\n",
            "100%|██████████| 2625/2625 [00:30<00:00, 85.66it/s]\n",
            "100%|██████████| 2625/2625 [00:30<00:00, 85.63it/s]\n",
            "100%|██████████| 2625/2625 [00:30<00:00, 85.34it/s]\n",
            "100%|██████████| 2625/2625 [00:30<00:00, 85.42it/s]\n",
            "100%|██████████| 2625/2625 [00:30<00:00, 85.67it/s]\n",
            "100%|██████████| 2625/2625 [00:30<00:00, 85.77it/s]\n",
            "100%|██████████| 2625/2625 [00:30<00:00, 85.60it/s]\n",
            "100%|██████████| 2625/2625 [00:30<00:00, 85.51it/s]\n",
            "100%|██████████| 2625/2625 [00:30<00:00, 85.66it/s]\n",
            "100%|██████████| 2625/2625 [00:30<00:00, 85.57it/s]\n",
            "100%|██████████| 2625/2625 [00:30<00:00, 85.18it/s]\n",
            "100%|██████████| 2625/2625 [00:30<00:00, 85.61it/s]\n",
            "100%|██████████| 2625/2625 [00:30<00:00, 85.77it/s]\n",
            "100%|██████████| 2625/2625 [00:30<00:00, 85.47it/s]\n",
            "100%|██████████| 2625/2625 [00:30<00:00, 85.84it/s]\n",
            "100%|██████████| 2625/2625 [00:30<00:00, 85.58it/s]\n",
            "100%|██████████| 2625/2625 [00:30<00:00, 85.45it/s]\n",
            "100%|██████████| 2625/2625 [00:30<00:00, 85.86it/s]\n",
            "100%|██████████| 2625/2625 [00:30<00:00, 85.44it/s]\n",
            "100%|██████████| 2625/2625 [00:30<00:00, 85.82it/s]\n",
            "100%|██████████| 2625/2625 [00:30<00:00, 85.99it/s]\n",
            "100%|██████████| 2625/2625 [00:30<00:00, 85.66it/s]\n",
            "100%|██████████| 2625/2625 [00:30<00:00, 85.58it/s]\n",
            "100%|██████████| 2625/2625 [00:30<00:00, 85.80it/s]\n",
            "100%|██████████| 2625/2625 [00:30<00:00, 85.30it/s]\n",
            "100%|██████████| 2625/2625 [00:30<00:00, 85.81it/s]\n",
            "100%|██████████| 2625/2625 [00:30<00:00, 85.98it/s]\n",
            "100%|██████████| 2625/2625 [00:30<00:00, 85.48it/s]\n",
            "100%|██████████| 2625/2625 [00:30<00:00, 85.89it/s]\n",
            "100%|██████████| 2625/2625 [00:30<00:00, 85.15it/s]\n",
            "100%|██████████| 2625/2625 [00:30<00:00, 85.61it/s]\n",
            "100%|██████████| 2625/2625 [00:30<00:00, 85.74it/s]\n",
            "100%|██████████| 2625/2625 [00:30<00:00, 85.52it/s]\n",
            "100%|██████████| 2625/2625 [00:30<00:00, 85.65it/s]\n",
            "100%|██████████| 2625/2625 [00:30<00:00, 85.67it/s]\n",
            "100%|██████████| 2625/2625 [00:30<00:00, 85.65it/s]\n",
            "100%|██████████| 2625/2625 [00:30<00:00, 85.62it/s]\n",
            "100%|██████████| 2625/2625 [00:30<00:00, 85.68it/s]\n",
            "100%|██████████| 2625/2625 [00:30<00:00, 86.09it/s]\n",
            "100%|██████████| 2625/2625 [00:30<00:00, 85.70it/s]\n",
            "100%|██████████| 2625/2625 [00:30<00:00, 85.26it/s]\n",
            "100%|██████████| 2625/2625 [00:30<00:00, 86.06it/s]\n",
            "100%|██████████| 2625/2625 [00:30<00:00, 85.30it/s]\n",
            "100%|██████████| 2625/2625 [00:30<00:00, 85.75it/s]\n",
            "100%|██████████| 2625/2625 [00:30<00:00, 86.04it/s]\n",
            "100%|██████████| 2625/2625 [00:30<00:00, 85.65it/s]\n",
            "100%|██████████| 2625/2625 [00:30<00:00, 85.65it/s]\n",
            "100%|██████████| 2625/2625 [00:30<00:00, 85.61it/s]\n",
            "100%|██████████| 2625/2625 [00:30<00:00, 85.67it/s]\n",
            "100%|██████████| 2625/2625 [00:30<00:00, 86.00it/s]\n",
            "100%|██████████| 2625/2625 [00:30<00:00, 85.66it/s]\n",
            "100%|██████████| 2625/2625 [00:30<00:00, 86.07it/s]\n",
            "100%|██████████| 2625/2625 [00:30<00:00, 85.55it/s]\n",
            "100%|██████████| 2625/2625 [00:30<00:00, 85.60it/s]\n",
            "100%|██████████| 2625/2625 [00:30<00:00, 85.80it/s]\n",
            "100%|██████████| 2625/2625 [00:30<00:00, 85.18it/s]\n",
            "100%|██████████| 2625/2625 [00:30<00:00, 85.57it/s]\n",
            "100%|██████████| 2625/2625 [00:30<00:00, 85.54it/s]\n",
            "100%|██████████| 2625/2625 [00:30<00:00, 85.52it/s]\n",
            "100%|██████████| 2625/2625 [00:30<00:00, 85.83it/s]\n",
            "100%|██████████| 2625/2625 [00:30<00:00, 85.31it/s]\n",
            "100%|██████████| 2625/2625 [00:31<00:00, 84.59it/s]\n"
          ]
        }
      ]
    },
    {
      "cell_type": "code",
      "source": [
        "D5 = Discriminator(vgg_model).float().cuda()\n",
        "G5 = Generator().float().cuda()\n",
        "optimizerD5 = torch.optim.Adam(D5.parameters())\n",
        "optimizerG5 = torch.optim.Adam(G5.parameters())\n",
        "\n",
        "G_losses_r3 = []\n",
        "D_losses_r3 = []\n",
        "\n",
        "for epoch in range(100):\n",
        "  for inp_img in tqdm(train_dl):\n",
        "    inp_img = inp_img.cuda()\n",
        "    fak_img = noise_gen(16,100,'random').cuda().float()\n",
        "    fak_lab = torch.zeros(16,1).cuda()\n",
        "    inp_lab = torch.ones(16,1).cuda()\n",
        "    D5.zero_grad()\n",
        "    out_real = D5(inp_img)\n",
        "    error_real = Loss(out_real.type(torch.float32), inp_lab.type(torch.float32))\n",
        "    error_real.backward()\n",
        "    D_x = out_real.mean().item()\n",
        "    out_inp = D5(G5(fak_img))\n",
        "    error_inp = Loss(out_inp.type(torch.float32), fak_lab.type(torch.float32))\n",
        "    error_inp.backward()\n",
        "    D_G_z1 = out_inp.mean().item()\n",
        "    error = error_real + error_inp\n",
        "    optimizerD5.step()\n",
        "    output = D5(inp_img)\n",
        "    errG = Loss(output.type(torch.float32), inp_lab.type(torch.float32))\n",
        "    errG.backward()\n",
        "    D_G_z2 = output.mean().item()\n",
        "    optimizerG5.step()\n",
        "    G_losses_r3.append(errG.item())\n",
        "    D_losses_r3.append(error.item())"
      ],
      "metadata": {
        "colab": {
          "base_uri": "https://localhost:8080/"
        },
        "id": "sLwEEyK3DvNX",
        "outputId": "550c260a-3eef-4207-a5a6-c55c2a499809"
      },
      "execution_count": null,
      "outputs": [
        {
          "output_type": "stream",
          "name": "stderr",
          "text": [
            "100%|██████████| 2625/2625 [00:30<00:00, 85.87it/s]\n",
            "100%|██████████| 2625/2625 [00:30<00:00, 85.79it/s]\n",
            "100%|██████████| 2625/2625 [00:30<00:00, 85.77it/s]\n",
            "100%|██████████| 2625/2625 [00:30<00:00, 85.41it/s]\n",
            "100%|██████████| 2625/2625 [00:30<00:00, 85.94it/s]\n",
            "100%|██████████| 2625/2625 [00:32<00:00, 80.20it/s]\n",
            "100%|██████████| 2625/2625 [00:31<00:00, 84.63it/s]\n",
            "100%|██████████| 2625/2625 [00:30<00:00, 84.86it/s]\n",
            "100%|██████████| 2625/2625 [00:30<00:00, 85.45it/s]\n",
            "100%|██████████| 2625/2625 [00:31<00:00, 83.41it/s]\n",
            "100%|██████████| 2625/2625 [00:30<00:00, 85.74it/s]\n",
            "100%|██████████| 2625/2625 [00:30<00:00, 85.93it/s]\n",
            "100%|██████████| 2625/2625 [00:31<00:00, 84.51it/s]\n",
            "100%|██████████| 2625/2625 [00:30<00:00, 85.48it/s]\n",
            "100%|██████████| 2625/2625 [00:30<00:00, 85.83it/s]\n",
            "100%|██████████| 2625/2625 [00:30<00:00, 85.85it/s]\n",
            "100%|██████████| 2625/2625 [00:30<00:00, 85.37it/s]\n",
            "100%|██████████| 2625/2625 [00:30<00:00, 85.29it/s]\n",
            "100%|██████████| 2625/2625 [00:30<00:00, 85.65it/s]\n",
            "100%|██████████| 2625/2625 [00:30<00:00, 85.76it/s]\n",
            "100%|██████████| 2625/2625 [00:30<00:00, 86.15it/s]\n",
            "100%|██████████| 2625/2625 [00:30<00:00, 85.45it/s]\n",
            "100%|██████████| 2625/2625 [00:30<00:00, 85.62it/s]\n",
            "100%|██████████| 2625/2625 [00:30<00:00, 85.84it/s]\n",
            "100%|██████████| 2625/2625 [00:30<00:00, 85.54it/s]\n",
            "100%|██████████| 2625/2625 [00:30<00:00, 85.56it/s]\n",
            "100%|██████████| 2625/2625 [00:30<00:00, 85.72it/s]\n",
            "100%|██████████| 2625/2625 [00:30<00:00, 84.87it/s]\n",
            "100%|██████████| 2625/2625 [00:30<00:00, 85.69it/s]\n",
            "100%|██████████| 2625/2625 [00:30<00:00, 85.41it/s]\n",
            "100%|██████████| 2625/2625 [00:30<00:00, 85.84it/s]\n",
            "100%|██████████| 2625/2625 [00:30<00:00, 85.65it/s]\n",
            "100%|██████████| 2625/2625 [00:30<00:00, 85.63it/s]\n",
            "100%|██████████| 2625/2625 [00:30<00:00, 85.59it/s]\n",
            "100%|██████████| 2625/2625 [00:30<00:00, 85.79it/s]\n",
            "100%|██████████| 2625/2625 [00:30<00:00, 86.10it/s]\n",
            "100%|██████████| 2625/2625 [00:30<00:00, 85.91it/s]\n",
            "100%|██████████| 2625/2625 [00:30<00:00, 85.87it/s]\n",
            "100%|██████████| 2625/2625 [00:30<00:00, 87.26it/s]\n",
            "100%|██████████| 2625/2625 [00:30<00:00, 87.12it/s]\n",
            "100%|██████████| 2625/2625 [00:30<00:00, 87.38it/s]\n",
            "100%|██████████| 2625/2625 [00:30<00:00, 86.78it/s]\n",
            "100%|██████████| 2625/2625 [00:30<00:00, 85.98it/s]\n",
            "100%|██████████| 2625/2625 [00:30<00:00, 86.50it/s]\n",
            "100%|██████████| 2625/2625 [00:30<00:00, 86.80it/s]\n",
            "100%|██████████| 2625/2625 [00:30<00:00, 86.86it/s]\n",
            "100%|██████████| 2625/2625 [00:30<00:00, 87.07it/s]\n",
            "100%|██████████| 2625/2625 [00:30<00:00, 86.77it/s]\n",
            "100%|██████████| 2625/2625 [00:30<00:00, 86.87it/s]\n",
            "100%|██████████| 2625/2625 [00:30<00:00, 86.98it/s]\n",
            "100%|██████████| 2625/2625 [00:30<00:00, 86.82it/s]\n",
            "100%|██████████| 2625/2625 [00:30<00:00, 86.96it/s]\n",
            "100%|██████████| 2625/2625 [00:30<00:00, 86.80it/s]\n",
            "100%|██████████| 2625/2625 [00:30<00:00, 86.78it/s]\n",
            "100%|██████████| 2625/2625 [00:30<00:00, 86.89it/s]\n",
            "100%|██████████| 2625/2625 [00:30<00:00, 86.78it/s]\n",
            "100%|██████████| 2625/2625 [00:30<00:00, 87.08it/s]\n",
            "100%|██████████| 2625/2625 [00:30<00:00, 86.30it/s]\n",
            "100%|██████████| 2625/2625 [00:30<00:00, 86.86it/s]\n",
            "100%|██████████| 2625/2625 [00:30<00:00, 87.01it/s]\n",
            "100%|██████████| 2625/2625 [00:30<00:00, 86.86it/s]\n",
            "100%|██████████| 2625/2625 [00:30<00:00, 87.30it/s]\n",
            "100%|██████████| 2625/2625 [00:30<00:00, 87.09it/s]\n",
            "100%|██████████| 2625/2625 [00:30<00:00, 87.08it/s]\n",
            "100%|██████████| 2625/2625 [00:30<00:00, 86.96it/s]\n",
            "100%|██████████| 2625/2625 [00:30<00:00, 86.98it/s]\n",
            "100%|██████████| 2625/2625 [00:30<00:00, 87.24it/s]\n",
            "100%|██████████| 2625/2625 [00:30<00:00, 87.05it/s]\n",
            "100%|██████████| 2625/2625 [00:30<00:00, 86.93it/s]\n",
            "100%|██████████| 2625/2625 [00:30<00:00, 86.77it/s]\n",
            "100%|██████████| 2625/2625 [00:30<00:00, 87.06it/s]\n",
            "100%|██████████| 2625/2625 [00:30<00:00, 86.83it/s]\n",
            "100%|██████████| 2625/2625 [00:30<00:00, 86.90it/s]\n",
            "100%|██████████| 2625/2625 [00:30<00:00, 87.34it/s]\n",
            "100%|██████████| 2625/2625 [00:30<00:00, 87.16it/s]\n",
            "100%|██████████| 2625/2625 [00:30<00:00, 86.96it/s]\n",
            "100%|██████████| 2625/2625 [00:30<00:00, 86.94it/s]\n",
            "100%|██████████| 2625/2625 [00:30<00:00, 86.93it/s]\n",
            "100%|██████████| 2625/2625 [00:30<00:00, 86.55it/s]\n",
            "100%|██████████| 2625/2625 [00:30<00:00, 87.05it/s]\n",
            "100%|██████████| 2625/2625 [00:30<00:00, 87.04it/s]\n",
            "100%|██████████| 2625/2625 [00:30<00:00, 86.96it/s]\n",
            "100%|██████████| 2625/2625 [00:30<00:00, 87.25it/s]\n",
            "100%|██████████| 2625/2625 [00:30<00:00, 87.04it/s]\n",
            "100%|██████████| 2625/2625 [00:30<00:00, 87.22it/s]\n",
            "100%|██████████| 2625/2625 [00:30<00:00, 86.98it/s]\n",
            "100%|██████████| 2625/2625 [00:30<00:00, 86.39it/s]\n",
            "100%|██████████| 2625/2625 [00:30<00:00, 87.19it/s]\n",
            "100%|██████████| 2625/2625 [00:30<00:00, 87.02it/s]\n",
            "100%|██████████| 2625/2625 [00:30<00:00, 87.25it/s]\n",
            "100%|██████████| 2625/2625 [00:30<00:00, 86.95it/s]\n",
            "100%|██████████| 2625/2625 [00:30<00:00, 87.17it/s]\n",
            "100%|██████████| 2625/2625 [00:30<00:00, 86.87it/s]\n",
            "100%|██████████| 2625/2625 [00:30<00:00, 86.94it/s]\n",
            "100%|██████████| 2625/2625 [00:30<00:00, 87.05it/s]\n",
            "100%|██████████| 2625/2625 [00:30<00:00, 87.04it/s]\n",
            "100%|██████████| 2625/2625 [00:30<00:00, 86.98it/s]\n",
            "100%|██████████| 2625/2625 [00:30<00:00, 87.09it/s]\n",
            "100%|██████████| 2625/2625 [00:30<00:00, 87.14it/s]\n",
            "100%|██████████| 2625/2625 [00:30<00:00, 87.20it/s]\n"
          ]
        }
      ]
    },
    {
      "cell_type": "code",
      "source": [
        "def generate_image(gen_network, num_images, choice):\n",
        "  for i in range(num_images):\n",
        "    noise_vector = (noise_gen(1,100,choice)/255.0).cuda().float()\n",
        "    output = gen_network(noise_vector)\n",
        "    plt.figure()\n",
        "    plt.imshow(output.data.cpu().numpy().reshape(28,28), cmap='Greys')"
      ],
      "metadata": {
        "id": "zSckXu6nv9zh"
      },
      "execution_count": null,
      "outputs": []
    },
    {
      "cell_type": "code",
      "source": [
        "generate_image(G, 10, 'gaussian')"
      ],
      "metadata": {
        "colab": {
          "base_uri": "https://localhost:8080/",
          "height": 1000
        },
        "id": "zjwSE0PjxPMP",
        "outputId": "ecee8632-e08f-44fe-e38b-a67b1d8e0cc4"
      },
      "execution_count": null,
      "outputs": [
        {
          "output_type": "display_data",
          "data": {
            "text/plain": [
              "<Figure size 432x288 with 1 Axes>"
            ],
            "image/png": "[encoded data removed]"
          },
          "metadata": {
            "needs_background": "light"
          }
        },
        {
          "output_type": "display_data",
          "data": {
            "text/plain": [
              "<Figure size 432x288 with 1 Axes>"
            ],
            "image/png": "[encoded data removed]"
          },
          "metadata": {
            "needs_background": "light"
          }
        },
        {
          "output_type": "display_data",
          "data": {
            "text/plain": [
              "<Figure size 432x288 with 1 Axes>"
            ],
            "image/png": "[encoded data removed]"
          },
          "metadata": {
            "needs_background": "light"
          }
        },
        {
          "output_type": "display_data",
          "data": {
            "text/plain": [
              "<Figure size 432x288 with 1 Axes>"
            ],
            "image/png": "[encoded data removed]"
          },
          "metadata": {
            "needs_background": "light"
          }
        },
        {
          "output_type": "display_data",
          "data": {
            "text/plain": [
              "<Figure size 432x288 with 1 Axes>"
            ],
            "image/png": "[encoded data removed]"
          },
          "metadata": {
            "needs_background": "light"
          }
        },
        {
          "output_type": "display_data",
          "data": {
            "text/plain": [
              "<Figure size 432x288 with 1 Axes>"
            ],
            "image/png": "[encoded data removed]"
          },
          "metadata": {
            "needs_background": "light"
          }
        },
        {
          "output_type": "display_data",
          "data": {
            "text/plain": [
              "<Figure size 432x288 with 1 Axes>"
            ],
            "image/png": "[encoded data removed]"
          },
          "metadata": {
            "needs_background": "light"
          }
        },
        {
          "output_type": "display_data",
          "data": {
            "text/plain": [
              "<Figure size 432x288 with 1 Axes>"
            ],
            "image/png": "[encoded data removed]"
          },
          "metadata": {
            "needs_background": "light"
          }
        },
        {
          "output_type": "display_data",
          "data": {
            "text/plain": [
              "<Figure size 432x288 with 1 Axes>"
            ],
            "image/png": "[encoded data removed]"
          },
          "metadata": {
            "needs_background": "light"
          }
        },
        {
          "output_type": "display_data",
          "data": {
            "text/plain": [
              "<Figure size 432x288 with 1 Axes>"
            ],
            "image/png": "[encoded data removed]"
          },
          "metadata": {
            "needs_background": "light"
          }
        }
      ]
    },
    {
      "cell_type": "code",
      "source": [
        "generate_image(G1, 10, 'random')"
      ],
      "metadata": {
        "colab": {
          "base_uri": "https://localhost:8080/",
          "height": 1000
        },
        "id": "BQdzX6j_yh1d",
        "outputId": "7ef8c175-1e30-4b21-cedf-4bf3d64ac538"
      },
      "execution_count": null,
      "outputs": [
        {
          "output_type": "display_data",
          "data": {
            "text/plain": [
              "<Figure size 432x288 with 1 Axes>"
            ],
            "image/png": "[encoded data removed]"
          },
          "metadata": {
            "needs_background": "light"
          }
        },
        {
          "output_type": "display_data",
          "data": {
            "text/plain": [
              "<Figure size 432x288 with 1 Axes>"
            ],
            "image/png": "[encoded data removed]"
          },
          "metadata": {
            "needs_background": "light"
          }
        },
        {
          "output_type": "display_data",
          "data": {
            "text/plain": [
              "<Figure size 432x288 with 1 Axes>"
            ],
            "image/png": "[encoded data removed]"
          },
          "metadata": {
            "needs_background": "light"
          }
        },
        {
          "output_type": "display_data",
          "data": {
            "text/plain": [
              "<Figure size 432x288 with 1 Axes>"
            ],
            "image/png": "[encoded data removed]"
          },
          "metadata": {
            "needs_background": "light"
          }
        },
        {
          "output_type": "display_data",
          "data": {
            "text/plain": [
              "<Figure size 432x288 with 1 Axes>"
            ],
            "image/png": "[encoded data removed]"
          },
          "metadata": {
            "needs_background": "light"
          }
        },
        {
          "output_type": "display_data",
          "data": {
            "text/plain": [
              "<Figure size 432x288 with 1 Axes>"
            ],
            "image/png": "[encoded data removed]"
          },
          "metadata": {
            "needs_background": "light"
          }
        },
        {
          "output_type": "display_data",
          "data": {
            "text/plain": [
              "<Figure size 432x288 with 1 Axes>"
            ],
            "image/png": "[encoded data removed]"
          },
          "metadata": {
            "needs_background": "light"
          }
        },
        {
          "output_type": "display_data",
          "data": {
            "text/plain": [
              "<Figure size 432x288 with 1 Axes>"
            ],
            "image/png": "[encoded data removed]"
          },
          "metadata": {
            "needs_background": "light"
          }
        },
        {
          "output_type": "display_data",
          "data": {
            "text/plain": [
              "<Figure size 432x288 with 1 Axes>"
            ],
            "image/png": "[encoded data removed]"
          },
          "metadata": {
            "needs_background": "light"
          }
        },
        {
          "output_type": "display_data",
          "data": {
            "text/plain": [
              "<Figure size 432x288 with 1 Axes>"
            ],
            "image/png": "[encoded data removed]"
          },
          "metadata": {
            "needs_background": "light"
          }
        }
      ]
    },
    {
      "cell_type": "code",
      "source": [
        "generate_image(G2, 10, 'gaussian')"
      ],
      "metadata": {
        "colab": {
          "base_uri": "https://localhost:8080/",
          "height": 1000
        },
        "id": "ucPah91S3xfy",
        "outputId": "eeecf40a-c40d-4f85-ba6e-9de347118c7b"
      },
      "execution_count": null,
      "outputs": [
        {
          "output_type": "display_data",
          "data": {
            "text/plain": [
              "<Figure size 432x288 with 1 Axes>"
            ],
            "image/png": "[encoded data removed]"
          },
          "metadata": {
            "needs_background": "light"
          }
        },
        {
          "output_type": "display_data",
          "data": {
            "text/plain": [
              "<Figure size 432x288 with 1 Axes>"
            ],
            "image/png": "[encoded data removed]"
          },
          "metadata": {
            "needs_background": "light"
          }
        },
        {
          "output_type": "display_data",
          "data": {
            "text/plain": [
              "<Figure size 432x288 with 1 Axes>"
            ],
            "image/png": "[encoded data removed]"
          },
          "metadata": {
            "needs_background": "light"
          }
        },
        {
          "output_type": "display_data",
          "data": {
            "text/plain": [
              "<Figure size 432x288 with 1 Axes>"
            ],
            "image/png": "[encoded data removed]"
          },
          "metadata": {
            "needs_background": "light"
          }
        },
        {
          "output_type": "display_data",
          "data": {
            "text/plain": [
              "<Figure size 432x288 with 1 Axes>"
            ],
            "image/png": "[encoded data removed]"
          },
          "metadata": {
            "needs_background": "light"
          }
        },
        {
          "output_type": "display_data",
          "data": {
            "text/plain": [
              "<Figure size 432x288 with 1 Axes>"
            ],
            "image/png": "[encoded data removed]"
          },
          "metadata": {
            "needs_background": "light"
          }
        },
        {
          "output_type": "display_data",
          "data": {
            "text/plain": [
              "<Figure size 432x288 with 1 Axes>"
            ],
            "image/png": "[encoded data removed]"
          },
          "metadata": {
            "needs_background": "light"
          }
        },
        {
          "output_type": "display_data",
          "data": {
            "text/plain": [
              "<Figure size 432x288 with 1 Axes>"
            ],
            "image/png": "[encoded data removed]"
          },
          "metadata": {
            "needs_background": "light"
          }
        },
        {
          "output_type": "display_data",
          "data": {
            "text/plain": [
              "<Figure size 432x288 with 1 Axes>"
            ],
            "image/png": "[encoded data removed]"
          },
          "metadata": {
            "needs_background": "light"
          }
        },
        {
          "output_type": "display_data",
          "data": {
            "text/plain": [
              "<Figure size 432x288 with 1 Axes>"
            ],
            "image/png": "[encoded data removed]"
          },
          "metadata": {
            "needs_background": "light"
          }
        }
      ]
    },
    {
      "cell_type": "code",
      "source": [
        "generate_image(G3, 10, 'random')"
      ],
      "metadata": {
        "colab": {
          "base_uri": "https://localhost:8080/",
          "height": 1000
        },
        "id": "ESbyiYCb3xmX",
        "outputId": "e0cdffef-6544-4f00-8c35-2994b1af077e"
      },
      "execution_count": null,
      "outputs": [
        {
          "output_type": "display_data",
          "data": {
            "text/plain": [
              "<Figure size 432x288 with 1 Axes>"
            ],
            "image/png": "[encoded data removed]"
          },
          "metadata": {
            "needs_background": "light"
          }
        },
        {
          "output_type": "display_data",
          "data": {
            "text/plain": [
              "<Figure size 432x288 with 1 Axes>"
            ],
            "image/png": "[encoded data removed]"
          },
          "metadata": {
            "needs_background": "light"
          }
        },
        {
          "output_type": "display_data",
          "data": {
            "text/plain": [
              "<Figure size 432x288 with 1 Axes>"
            ],
            "image/png": "[encoded data removed]"
          },
          "metadata": {
            "needs_background": "light"
          }
        },
        {
          "output_type": "display_data",
          "data": {
            "text/plain": [
              "<Figure size 432x288 with 1 Axes>"
            ],
            "image/png": "[encoded data removed]"
          },
          "metadata": {
            "needs_background": "light"
          }
        },
        {
          "output_type": "display_data",
          "data": {
            "text/plain": [
              "<Figure size 432x288 with 1 Axes>"
            ],
            "image/png": "[encoded data removed]"
          },
          "metadata": {
            "needs_background": "light"
          }
        },
        {
          "output_type": "display_data",
          "data": {
            "text/plain": [
              "<Figure size 432x288 with 1 Axes>"
            ],
            "image/png": "[encoded data removed]"
          },
          "metadata": {
            "needs_background": "light"
          }
        },
        {
          "output_type": "display_data",
          "data": {
            "text/plain": [
              "<Figure size 432x288 with 1 Axes>"
            ],
            "image/png": "[encoded data removed]"
          },
          "metadata": {
            "needs_background": "light"
          }
        },
        {
          "output_type": "display_data",
          "data": {
            "text/plain": [
              "<Figure size 432x288 with 1 Axes>"
            ],
            "image/png": "[encoded data removed]"
          },
          "metadata": {
            "needs_background": "light"
          }
        },
        {
          "output_type": "display_data",
          "data": {
            "text/plain": [
              "<Figure size 432x288 with 1 Axes>"
            ],
            "image/png": "[encoded data removed]"
          },
          "metadata": {
            "needs_background": "light"
          }
        },
        {
          "output_type": "display_data",
          "data": {
            "text/plain": [
              "<Figure size 432x288 with 1 Axes>"
            ],
            "image/png": "[encoded data removed]"
          },
          "metadata": {
            "needs_background": "light"
          }
        }
      ]
    },
    {
      "cell_type": "code",
      "source": [
        "generate_image(G4, 10, 'gaussian')"
      ],
      "metadata": {
        "colab": {
          "base_uri": "https://localhost:8080/",
          "height": 1000
        },
        "id": "nxZ3Y9VtEOfF",
        "outputId": "51e44951-790f-4fe7-c2e9-f47803070fdd"
      },
      "execution_count": null,
      "outputs": [
        {
          "output_type": "display_data",
          "data": {
            "text/plain": [
              "<Figure size 432x288 with 1 Axes>"
            ],
            "image/png": "[encoded data removed]"
          },
          "metadata": {
            "needs_background": "light"
          }
        },
        {
          "output_type": "display_data",
          "data": {
            "text/plain": [
              "<Figure size 432x288 with 1 Axes>"
            ],
            "image/png": "[encoded data removed]"
          },
          "metadata": {
            "needs_background": "light"
          }
        },
        {
          "output_type": "display_data",
          "data": {
            "text/plain": [
              "<Figure size 432x288 with 1 Axes>"
            ],
            "image/png": "[encoded data removed]"
          },
          "metadata": {
            "needs_background": "light"
          }
        },
        {
          "output_type": "display_data",
          "data": {
            "text/plain": [
              "<Figure size 432x288 with 1 Axes>"
            ],
            "image/png": "[encoded data removed]"
          },
          "metadata": {
            "needs_background": "light"
          }
        },
        {
          "output_type": "display_data",
          "data": {
            "text/plain": [
              "<Figure size 432x288 with 1 Axes>"
            ],
            "image/png": "[encoded data removed]"
          },
          "metadata": {
            "needs_background": "light"
          }
        },
        {
          "output_type": "display_data",
          "data": {
            "text/plain": [
              "<Figure size 432x288 with 1 Axes>"
            ],
            "image/png": "[encoded data removed]"
          },
          "metadata": {
            "needs_background": "light"
          }
        },
        {
          "output_type": "display_data",
          "data": {
            "text/plain": [
              "<Figure size 432x288 with 1 Axes>"
            ],
            "image/png": "[encoded data removed]"
          },
          "metadata": {
            "needs_background": "light"
          }
        },
        {
          "output_type": "display_data",
          "data": {
            "text/plain": [
              "<Figure size 432x288 with 1 Axes>"
            ],
            "image/png": "[encoded data removed]"
          },
          "metadata": {
            "needs_background": "light"
          }
        },
        {
          "output_type": "display_data",
          "data": {
            "text/plain": [
              "<Figure size 432x288 with 1 Axes>"
            ],
            "image/png": "[encoded data removed]"
          },
          "metadata": {
            "needs_background": "light"
          }
        },
        {
          "output_type": "display_data",
          "data": {
            "text/plain": [
              "<Figure size 432x288 with 1 Axes>"
            ],
            "image/png": "[encoded data removed]"
          },
          "metadata": {
            "needs_background": "light"
          }
        }
      ]
    },
    {
      "cell_type": "code",
      "source": [
        "generate_image(G5, 10, 'random')"
      ],
      "metadata": {
        "colab": {
          "base_uri": "https://localhost:8080/",
          "height": 1000
        },
        "id": "JYg7W0qREO8G",
        "outputId": "ff567589-1ccc-4af3-d918-1e16faa160f7"
      },
      "execution_count": null,
      "outputs": [
        {
          "output_type": "display_data",
          "data": {
            "text/plain": [
              "<Figure size 432x288 with 1 Axes>"
            ],
            "image/png": "[encoded data removed]"
          },
          "metadata": {
            "needs_background": "light"
          }
        },
        {
          "output_type": "display_data",
          "data": {
            "text/plain": [
              "<Figure size 432x288 with 1 Axes>"
            ],
            "image/png": "[encoded data removed]"
          },
          "metadata": {
            "needs_background": "light"
          }
        },
        {
          "output_type": "display_data",
          "data": {
            "text/plain": [
              "<Figure size 432x288 with 1 Axes>"
            ],
            "image/png": "[encoded data removed]"
          },
          "metadata": {
            "needs_background": "light"
          }
        },
        {
          "output_type": "display_data",
          "data": {
            "text/plain": [
              "<Figure size 432x288 with 1 Axes>"
            ],
            "image/png": "[encoded data removed]"
          },
          "metadata": {
            "needs_background": "light"
          }
        },
        {
          "output_type": "display_data",
          "data": {
            "text/plain": [
              "<Figure size 432x288 with 1 Axes>"
            ],
            "image/png": "[encoded data removed]"
          },
          "metadata": {
            "needs_background": "light"
          }
        },
        {
          "output_type": "display_data",
          "data": {
            "text/plain": [
              "<Figure size 432x288 with 1 Axes>"
            ],
            "image/png": "[encoded data removed]"
          },
          "metadata": {
            "needs_background": "light"
          }
        },
        {
          "output_type": "display_data",
          "data": {
            "text/plain": [
              "<Figure size 432x288 with 1 Axes>"
            ],
            "image/png": "[encoded data removed]"
          },
          "metadata": {
            "needs_background": "light"
          }
        },
        {
          "output_type": "display_data",
          "data": {
            "text/plain": [
              "<Figure size 432x288 with 1 Axes>"
            ],
            "image/png": "[encoded data removed]"
          },
          "metadata": {
            "needs_background": "light"
          }
        },
        {
          "output_type": "display_data",
          "data": {
            "text/plain": [
              "<Figure size 432x288 with 1 Axes>"
            ],
            "image/png": "[encoded data removed]"
          },
          "metadata": {
            "needs_background": "light"
          }
        },
        {
          "output_type": "display_data",
          "data": {
            "text/plain": [
              "<Figure size 432x288 with 1 Axes>"
            ],
            "image/png": "[encoded data removed]"
          },
          "metadata": {
            "needs_background": "light"
          }
        }
      ]
    },
    {
      "cell_type": "code",
      "source": [
        "plt.title(\"Loss v/s Iterations curve for 25 epochs of Gaussian Noise\")\n",
        "plt.plot([n for n in range(0,len(G_losses_g1))], G_losses_g1)\n",
        "plt.plot([n for n in range(0,len(D_losses_g1))], D_losses_g1)\n",
        "plt.xlabel(\"Iterations\")\n",
        "plt.ylabel(\"Loss\")\n",
        "plt.legend([\"Generator\",\"Discriminator\"])\n",
        "plt.show()"
      ],
      "metadata": {
        "colab": {
          "base_uri": "https://localhost:8080/",
          "height": 295
        },
        "id": "-IGy9rUP04wt",
        "outputId": "3b4c6880-8059-4b38-e19a-a663c80aad08"
      },
      "execution_count": null,
      "outputs": [
        {
          "output_type": "display_data",
          "data": {
            "text/plain": [
              "<Figure size 432x288 with 1 Axes>"
            ],
            "image/png": "[encoded data removed]"
          },
          "metadata": {
            "needs_background": "light"
          }
        }
      ]
    },
    {
      "cell_type": "code",
      "source": [
        "plt.title(\"Loss v/s Iterations curve for 25 epochs of Random Noise\")\n",
        "plt.plot([n for n in range(0,len(G_losses_r1))], G_losses_r1)\n",
        "plt.plot([n for n in range(0,len(D_losses_r1))], D_losses_r1)\n",
        "plt.xlabel(\"Iterations\")\n",
        "plt.ylabel(\"Loss\")\n",
        "plt.legend([\"Generator\",\"Discriminator\"])\n",
        "plt.show()"
      ],
      "metadata": {
        "colab": {
          "base_uri": "https://localhost:8080/",
          "height": 295
        },
        "id": "YZHO2EQC041s",
        "outputId": "86f8a404-b633-4064-a933-38267bcc720e"
      },
      "execution_count": null,
      "outputs": [
        {
          "output_type": "display_data",
          "data": {
            "text/plain": [
              "<Figure size 432x288 with 1 Axes>"
            ],
            "image/png": "[encoded data removed]"
          },
          "metadata": {
            "needs_background": "light"
          }
        }
      ]
    },
    {
      "cell_type": "code",
      "source": [
        "plt.title(\"Loss v/s Iterations curve for 50 epochs of Gaussian Noise\")\n",
        "plt.plot([n for n in range(0,len(G_losses_g2))], G_losses_g2)\n",
        "plt.plot([n for n in range(0,len(D_losses_g2))], D_losses_g2)\n",
        "plt.xlabel(\"Iterations\")\n",
        "plt.ylabel(\"Loss\")\n",
        "plt.legend([\"Generator\",\"Discriminator\"])\n",
        "plt.show()"
      ],
      "metadata": {
        "colab": {
          "base_uri": "https://localhost:8080/",
          "height": 295
        },
        "id": "7mojRD1-32v9",
        "outputId": "0cf81517-5d98-4ca0-fae4-ea059d469ff8"
      },
      "execution_count": null,
      "outputs": [
        {
          "output_type": "display_data",
          "data": {
            "text/plain": [
              "<Figure size 432x288 with 1 Axes>"
            ],
            "image/png": "[encoded data removed]"
          },
          "metadata": {
            "needs_background": "light"
          }
        }
      ]
    },
    {
      "cell_type": "code",
      "source": [
        "plt.title(\"Loss v/s Iterations curve for 50 epochs of Random Noise\")\n",
        "plt.plot([n for n in range(0,len(G_losses_r2))], G_losses_r2)\n",
        "plt.plot([n for n in range(0,len(D_losses_r2))], D_losses_r2)\n",
        "plt.xlabel(\"Iterations\")\n",
        "plt.ylabel(\"Loss\")\n",
        "plt.legend([\"Generator\",\"Discriminator\"])\n",
        "plt.show()"
      ],
      "metadata": {
        "colab": {
          "base_uri": "https://localhost:8080/",
          "height": 295
        },
        "id": "pTR7wf8K322Z",
        "outputId": "e498672c-10f2-45f0-cbd1-94d70735aea1"
      },
      "execution_count": null,
      "outputs": [
        {
          "output_type": "display_data",
          "data": {
            "text/plain": [
              "<Figure size 432x288 with 1 Axes>"
            ],
            "image/png": "[encoded data removed]"
          },
          "metadata": {
            "needs_background": "light"
          }
        }
      ]
    },
    {
      "cell_type": "code",
      "source": [
        "plt.title(\"Loss v/s Iterations curve for 100 epochs of Gaussian Noise\")\n",
        "plt.plot([n for n in range(0,len(G_losses_g3))], G_losses_g3)\n",
        "plt.plot([n for n in range(0,len(D_losses_g3))], D_losses_g3)\n",
        "plt.xlabel(\"Iterations\")\n",
        "plt.ylabel(\"Loss\")\n",
        "plt.legend([\"Generator\",\"Discriminator\"])\n",
        "plt.show()"
      ],
      "metadata": {
        "colab": {
          "base_uri": "https://localhost:8080/",
          "height": 295
        },
        "id": "Jo0C3YWe4Kdr",
        "outputId": "d0d99106-5877-46d7-dd6a-6c1fdbb5c479"
      },
      "execution_count": null,
      "outputs": [
        {
          "output_type": "display_data",
          "data": {
            "text/plain": [
              "<Figure size 432x288 with 1 Axes>"
            ],
            "image/png": "[encoded data removed]"
          },
          "metadata": {
            "needs_background": "light"
          }
        }
      ]
    },
    {
      "cell_type": "code",
      "source": [
        "plt.title(\"Loss v/s Iterations curve for 100 epochs of Random Noise\")\n",
        "plt.plot([n for n in range(0,len(G_losses_r3))], G_losses_r3)\n",
        "plt.plot([n for n in range(0,len(D_losses_r3))], D_losses_r3)\n",
        "plt.xlabel(\"Iterations\")\n",
        "plt.ylabel(\"Loss\")\n",
        "plt.legend([\"Generator\",\"Discriminator\"])\n",
        "plt.show()"
      ],
      "metadata": {
        "colab": {
          "base_uri": "https://localhost:8080/",
          "height": 295
        },
        "id": "m9LFbh43EVu0",
        "outputId": "9f68a64c-550d-4e85-d9ef-8e77499d33f3"
      },
      "execution_count": null,
      "outputs": [
        {
          "output_type": "display_data",
          "data": {
            "text/plain": [
              "<Figure size 432x288 with 1 Axes>"
            ],
            "image/png": "[encoded data removed]"
          },
          "metadata": {
            "needs_background": "light"
          }
        }
      ]
    },
    {
      "cell_type": "code",
      "source": [
        "train_data_class_9 = train[train['label']==9]\n",
        "train_data_class_9"
      ],
      "metadata": {
        "colab": {
          "base_uri": "https://localhost:8080/",
          "height": 424
        },
        "id": "wbBs4hb5FIQc",
        "outputId": "dfcbca8f-df00-4151-bf6f-877d20ab1661"
      },
      "execution_count": null,
      "outputs": [
        {
          "output_type": "execute_result",
          "data": {
            "text/plain": [
              "       label  pixel0  pixel1  pixel2  pixel3  pixel4  pixel5  pixel6  pixel7  \\\n",
              "11         9       0       0       0       0       0       0       0       0   \n",
              "27         9       0       0       0       0       0       0       0       0   \n",
              "28         9       0       0       0       0       0       0       0       0   \n",
              "31         9       0       0       0       0       0       0       0       0   \n",
              "33         9       0       0       0       0       0       0       0       0   \n",
              "...      ...     ...     ...     ...     ...     ...     ...     ...     ...   \n",
              "41962      9       0       0       0       0       0       0       0       0   \n",
              "41969      9       0       0       0       0       0       0       0       0   \n",
              "41975      9       0       0       0       0       0       0       0       0   \n",
              "41992      9       0       0       0       0       0       0       0       0   \n",
              "41999      9       0       0       0       0       0       0       0       0   \n",
              "\n",
              "       pixel8  ...  pixel774  pixel775  pixel776  pixel777  pixel778  \\\n",
              "11          0  ...         0         0         0         0         0   \n",
              "27          0  ...         0         0         0         0         0   \n",
              "28          0  ...         0         0         0         0         0   \n",
              "31          0  ...         0         0         0         0         0   \n",
              "33          0  ...         0         0         0         0         0   \n",
              "...       ...  ...       ...       ...       ...       ...       ...   \n",
              "41962       0  ...         0         0         0         0         0   \n",
              "41969       0  ...         0         0         0         0         0   \n",
              "41975       0  ...         0         0         0         0         0   \n",
              "41992       0  ...         0         0         0         0         0   \n",
              "41999       0  ...         0         0         0         0         0   \n",
              "\n",
              "       pixel779  pixel780  pixel781  pixel782  pixel783  \n",
              "11            0         0         0         0         0  \n",
              "27            0         0         0         0         0  \n",
              "28            0         0         0         0         0  \n",
              "31            0         0         0         0         0  \n",
              "33            0         0         0         0         0  \n",
              "...         ...       ...       ...       ...       ...  \n",
              "41962         0         0         0         0         0  \n",
              "41969         0         0         0         0         0  \n",
              "41975         0         0         0         0         0  \n",
              "41992         0         0         0         0         0  \n",
              "41999         0         0         0         0         0  \n",
              "\n",
              "[4188 rows x 785 columns]"
            ],
            "text/html": [
              "\n",
              "  <div id=\"df-e5361ee8-b8e3-4502-bee8-e5f710fe43d8\">\n",
              "    <div class=\"colab-df-container\">\n",
              "      <div>\n",
              "<style scoped>\n",
              "    .dataframe tbody tr th:only-of-type {\n",
              "        vertical-align: middle;\n",
              "    }\n",
              "\n",
              "    .dataframe tbody tr th {\n",
              "        vertical-align: top;\n",
              "    }\n",
              "\n",
              "    .dataframe thead th {\n",
              "        text-align: right;\n",
              "    }\n",
              "</style>\n",
              "<table border=\"1\" class=\"dataframe\">\n",
              "  <thead>\n",
              "    <tr style=\"text-align: right;\">\n",
              "      <th></th>\n",
              "      <th>label</th>\n",
              "      <th>pixel0</th>\n",
              "      <th>pixel1</th>\n",
              "      <th>pixel2</th>\n",
              "      <th>pixel3</th>\n",
              "      <th>pixel4</th>\n",
              "      <th>pixel5</th>\n",
              "      <th>pixel6</th>\n",
              "      <th>pixel7</th>\n",
              "      <th>pixel8</th>\n",
              "      <th>...</th>\n",
              "      <th>pixel774</th>\n",
              "      <th>pixel775</th>\n",
              "      <th>pixel776</th>\n",
              "      <th>pixel777</th>\n",
              "      <th>pixel778</th>\n",
              "      <th>pixel779</th>\n",
              "      <th>pixel780</th>\n",
              "      <th>pixel781</th>\n",
              "      <th>pixel782</th>\n",
              "      <th>pixel783</th>\n",
              "    </tr>\n",
              "  </thead>\n",
              "  <tbody>\n",
              "    <tr>\n",
              "      <th>11</th>\n",
              "      <td>9</td>\n",
              "      <td>0</td>\n",
              "      <td>0</td>\n",
              "      <td>0</td>\n",
              "      <td>0</td>\n",
              "      <td>0</td>\n",
              "      <td>0</td>\n",
              "      <td>0</td>\n",
              "      <td>0</td>\n",
              "      <td>0</td>\n",
              "      <td>...</td>\n",
              "      <td>0</td>\n",
              "      <td>0</td>\n",
              "      <td>0</td>\n",
              "      <td>0</td>\n",
              "      <td>0</td>\n",
              "      <td>0</td>\n",
              "      <td>0</td>\n",
              "      <td>0</td>\n",
              "      <td>0</td>\n",
              "      <td>0</td>\n",
              "    </tr>\n",
              "    <tr>\n",
              "      <th>27</th>\n",
              "      <td>9</td>\n",
              "      <td>0</td>\n",
              "      <td>0</td>\n",
              "      <td>0</td>\n",
              "      <td>0</td>\n",
              "      <td>0</td>\n",
              "      <td>0</td>\n",
              "      <td>0</td>\n",
              "      <td>0</td>\n",
              "      <td>0</td>\n",
              "      <td>...</td>\n",
              "      <td>0</td>\n",
              "      <td>0</td>\n",
              "      <td>0</td>\n",
              "      <td>0</td>\n",
              "      <td>0</td>\n",
              "      <td>0</td>\n",
              "      <td>0</td>\n",
              "      <td>0</td>\n",
              "      <td>0</td>\n",
              "      <td>0</td>\n",
              "    </tr>\n",
              "    <tr>\n",
              "      <th>28</th>\n",
              "      <td>9</td>\n",
              "      <td>0</td>\n",
              "      <td>0</td>\n",
              "      <td>0</td>\n",
              "      <td>0</td>\n",
              "      <td>0</td>\n",
              "      <td>0</td>\n",
              "      <td>0</td>\n",
              "      <td>0</td>\n",
              "      <td>0</td>\n",
              "      <td>...</td>\n",
              "      <td>0</td>\n",
              "      <td>0</td>\n",
              "      <td>0</td>\n",
              "      <td>0</td>\n",
              "      <td>0</td>\n",
              "      <td>0</td>\n",
              "      <td>0</td>\n",
              "      <td>0</td>\n",
              "      <td>0</td>\n",
              "      <td>0</td>\n",
              "    </tr>\n",
              "    <tr>\n",
              "      <th>31</th>\n",
              "      <td>9</td>\n",
              "      <td>0</td>\n",
              "      <td>0</td>\n",
              "      <td>0</td>\n",
              "      <td>0</td>\n",
              "      <td>0</td>\n",
              "      <td>0</td>\n",
              "      <td>0</td>\n",
              "      <td>0</td>\n",
              "      <td>0</td>\n",
              "      <td>...</td>\n",
              "      <td>0</td>\n",
              "      <td>0</td>\n",
              "      <td>0</td>\n",
              "      <td>0</td>\n",
              "      <td>0</td>\n",
              "      <td>0</td>\n",
              "      <td>0</td>\n",
              "      <td>0</td>\n",
              "      <td>0</td>\n",
              "      <td>0</td>\n",
              "    </tr>\n",
              "    <tr>\n",
              "      <th>33</th>\n",
              "      <td>9</td>\n",
              "      <td>0</td>\n",
              "      <td>0</td>\n",
              "      <td>0</td>\n",
              "      <td>0</td>\n",
              "      <td>0</td>\n",
              "      <td>0</td>\n",
              "      <td>0</td>\n",
              "      <td>0</td>\n",
              "      <td>0</td>\n",
              "      <td>...</td>\n",
              "      <td>0</td>\n",
              "      <td>0</td>\n",
              "      <td>0</td>\n",
              "      <td>0</td>\n",
              "      <td>0</td>\n",
              "      <td>0</td>\n",
              "      <td>0</td>\n",
              "      <td>0</td>\n",
              "      <td>0</td>\n",
              "      <td>0</td>\n",
              "    </tr>\n",
              "    <tr>\n",
              "      <th>...</th>\n",
              "      <td>...</td>\n",
              "      <td>...</td>\n",
              "      <td>...</td>\n",
              "      <td>...</td>\n",
              "      <td>...</td>\n",
              "      <td>...</td>\n",
              "      <td>...</td>\n",
              "      <td>...</td>\n",
              "      <td>...</td>\n",
              "      <td>...</td>\n",
              "      <td>...</td>\n",
              "      <td>...</td>\n",
              "      <td>...</td>\n",
              "      <td>...</td>\n",
              "      <td>...</td>\n",
              "      <td>...</td>\n",
              "      <td>...</td>\n",
              "      <td>...</td>\n",
              "      <td>...</td>\n",
              "      <td>...</td>\n",
              "      <td>...</td>\n",
              "    </tr>\n",
              "    <tr>\n",
              "      <th>41962</th>\n",
              "      <td>9</td>\n",
              "      <td>0</td>\n",
              "      <td>0</td>\n",
              "      <td>0</td>\n",
              "      <td>0</td>\n",
              "      <td>0</td>\n",
              "      <td>0</td>\n",
              "      <td>0</td>\n",
              "      <td>0</td>\n",
              "      <td>0</td>\n",
              "      <td>...</td>\n",
              "      <td>0</td>\n",
              "      <td>0</td>\n",
              "      <td>0</td>\n",
              "      <td>0</td>\n",
              "      <td>0</td>\n",
              "      <td>0</td>\n",
              "      <td>0</td>\n",
              "      <td>0</td>\n",
              "      <td>0</td>\n",
              "      <td>0</td>\n",
              "    </tr>\n",
              "    <tr>\n",
              "      <th>41969</th>\n",
              "      <td>9</td>\n",
              "      <td>0</td>\n",
              "      <td>0</td>\n",
              "      <td>0</td>\n",
              "      <td>0</td>\n",
              "      <td>0</td>\n",
              "      <td>0</td>\n",
              "      <td>0</td>\n",
              "      <td>0</td>\n",
              "      <td>0</td>\n",
              "      <td>...</td>\n",
              "      <td>0</td>\n",
              "      <td>0</td>\n",
              "      <td>0</td>\n",
              "      <td>0</td>\n",
              "      <td>0</td>\n",
              "      <td>0</td>\n",
              "      <td>0</td>\n",
              "      <td>0</td>\n",
              "      <td>0</td>\n",
              "      <td>0</td>\n",
              "    </tr>\n",
              "    <tr>\n",
              "      <th>41975</th>\n",
              "      <td>9</td>\n",
              "      <td>0</td>\n",
              "      <td>0</td>\n",
              "      <td>0</td>\n",
              "      <td>0</td>\n",
              "      <td>0</td>\n",
              "      <td>0</td>\n",
              "      <td>0</td>\n",
              "      <td>0</td>\n",
              "      <td>0</td>\n",
              "      <td>...</td>\n",
              "      <td>0</td>\n",
              "      <td>0</td>\n",
              "      <td>0</td>\n",
              "      <td>0</td>\n",
              "      <td>0</td>\n",
              "      <td>0</td>\n",
              "      <td>0</td>\n",
              "      <td>0</td>\n",
              "      <td>0</td>\n",
              "      <td>0</td>\n",
              "    </tr>\n",
              "    <tr>\n",
              "      <th>41992</th>\n",
              "      <td>9</td>\n",
              "      <td>0</td>\n",
              "      <td>0</td>\n",
              "      <td>0</td>\n",
              "      <td>0</td>\n",
              "      <td>0</td>\n",
              "      <td>0</td>\n",
              "      <td>0</td>\n",
              "      <td>0</td>\n",
              "      <td>0</td>\n",
              "      <td>...</td>\n",
              "      <td>0</td>\n",
              "      <td>0</td>\n",
              "      <td>0</td>\n",
              "      <td>0</td>\n",
              "      <td>0</td>\n",
              "      <td>0</td>\n",
              "      <td>0</td>\n",
              "      <td>0</td>\n",
              "      <td>0</td>\n",
              "      <td>0</td>\n",
              "    </tr>\n",
              "    <tr>\n",
              "      <th>41999</th>\n",
              "      <td>9</td>\n",
              "      <td>0</td>\n",
              "      <td>0</td>\n",
              "      <td>0</td>\n",
              "      <td>0</td>\n",
              "      <td>0</td>\n",
              "      <td>0</td>\n",
              "      <td>0</td>\n",
              "      <td>0</td>\n",
              "      <td>0</td>\n",
              "      <td>...</td>\n",
              "      <td>0</td>\n",
              "      <td>0</td>\n",
              "      <td>0</td>\n",
              "      <td>0</td>\n",
              "      <td>0</td>\n",
              "      <td>0</td>\n",
              "      <td>0</td>\n",
              "      <td>0</td>\n",
              "      <td>0</td>\n",
              "      <td>0</td>\n",
              "    </tr>\n",
              "  </tbody>\n",
              "</table>\n",
              "<p>4188 rows × 785 columns</p>\n",
              "</div>\n",
              "      <button class=\"colab-df-convert\" onclick=\"convertToInteractive('df-e5361ee8-b8e3-4502-bee8-e5f710fe43d8')\"\n",
              "              title=\"Convert this dataframe to an interactive table.\"\n",
              "              style=\"display:none;\">\n",
              "        \n",
              "  <svg xmlns=\"http://www.w3.org/2000/svg\" height=\"24px\"viewBox=\"0 0 24 24\"\n",
              "       width=\"24px\">\n",
              "    <path d=\"M0 0h24v24H0V0z\" fill=\"none\"/>\n",
              "    <path d=\"M18.56 5.44l.94 2.06.94-2.06 2.06-.94-2.06-.94-.94-2.06-.94 2.06-2.06.94zm-11 1L8.5 8.5l.94-2.06 2.06-.94-2.06-.94L8.5 2.5l-.94 2.06-2.06.94zm10 10l.94 2.06.94-2.06 2.06-.94-2.06-.94-.94-2.06-.94 2.06-2.06.94z\"/><path d=\"M17.41 7.96l-1.37-1.37c-.4-.4-.92-.59-1.43-.59-.52 0-1.04.2-1.43.59L10.3 9.45l-7.72 7.72c-.78.78-.78 2.05 0 2.83L4 21.41c.39.39.9.59 1.41.59.51 0 1.02-.2 1.41-.59l7.78-7.78 2.81-2.81c.8-.78.8-2.07 0-2.86zM5.41 20L4 18.59l7.72-7.72 1.47 1.35L5.41 20z\"/>\n",
              "  </svg>\n",
              "      </button>\n",
              "      \n",
              "  <style>\n",
              "    .colab-df-container {\n",
              "      display:flex;\n",
              "      flex-wrap:wrap;\n",
              "      gap: 12px;\n",
              "    }\n",
              "\n",
              "    .colab-df-convert {\n",
              "      background-color: #E8F0FE;\n",
              "      border: none;\n",
              "      border-radius: 50%;\n",
              "      cursor: pointer;\n",
              "      display: none;\n",
              "      fill: #1967D2;\n",
              "      height: 32px;\n",
              "      padding: 0 0 0 0;\n",
              "      width: 32px;\n",
              "    }\n",
              "\n",
              "    .colab-df-convert:hover {\n",
              "      background-color: #E2EBFA;\n",
              "      box-shadow: 0px 1px 2px rgba(60, 64, 67, 0.3), 0px 1px 3px 1px rgba(60, 64, 67, 0.15);\n",
              "      fill: #174EA6;\n",
              "    }\n",
              "\n",
              "    [theme=dark] .colab-df-convert {\n",
              "      background-color: #3B4455;\n",
              "      fill: #D2E3FC;\n",
              "    }\n",
              "\n",
              "    [theme=dark] .colab-df-convert:hover {\n",
              "      background-color: #434B5C;\n",
              "      box-shadow: 0px 1px 3px 1px rgba(0, 0, 0, 0.15);\n",
              "      filter: drop-shadow(0px 1px 2px rgba(0, 0, 0, 0.3));\n",
              "      fill: #FFFFFF;\n",
              "    }\n",
              "  </style>\n",
              "\n",
              "      <script>\n",
              "        const buttonEl =\n",
              "          document.querySelector('#df-e5361ee8-b8e3-4502-bee8-e5f710fe43d8 button.colab-df-convert');\n",
              "        buttonEl.style.display =\n",
              "          google.colab.kernel.accessAllowed ? 'block' : 'none';\n",
              "\n",
              "        async function convertToInteractive(key) {\n",
              "          const element = document.querySelector('#df-e5361ee8-b8e3-4502-bee8-e5f710fe43d8');\n",
              "          const dataTable =\n",
              "            await google.colab.kernel.invokeFunction('convertToInteractive',\n",
              "                                                     [key], {});\n",
              "          if (!dataTable) return;\n",
              "\n",
              "          const docLinkHtml = 'Like what you see? Visit the ' +\n",
              "            '<a target=\"_blank\" href=https://colab.research.google.com/notebooks/data_table.ipynb>data table notebook</a>'\n",
              "            + ' to learn more about interactive tables.';\n",
              "          element.innerHTML = '';\n",
              "          dataTable['output_type'] = 'display_data';\n",
              "          await google.colab.output.renderOutput(dataTable, element);\n",
              "          const docLink = document.createElement('div');\n",
              "          docLink.innerHTML = docLinkHtml;\n",
              "          element.appendChild(docLink);\n",
              "        }\n",
              "      </script>\n",
              "    </div>\n",
              "  </div>\n",
              "  "
            ]
          },
          "metadata": {},
          "execution_count": 86
        }
      ]
    },
    {
      "cell_type": "code",
      "source": [
        "#train_data_class_9 = train_data_class_9.drop(columns=['label'])\n",
        "#train_data_class_9 = (train_data_class_9.values.reshape(-1,28,28))/255.0\n",
        "#train_data_class_9 = torch.Tensor(train_data_class_9)\n",
        "batch_size = 12\n",
        "train_dl_9 = DataLoader(train_data_class_9, batch_size, shuffle = True)"
      ],
      "metadata": {
        "id": "m0kLoUvemoUQ"
      },
      "execution_count": null,
      "outputs": []
    },
    {
      "cell_type": "code",
      "source": [
        "D_9 = Discriminator(vgg_model).float().cuda()\n",
        "G_9 = Generator().float().cuda()\n",
        "optimizerD_9 = torch.optim.Adam(D_9.parameters())\n",
        "optimizerG_9 = torch.optim.Adam(G_9.parameters())\n",
        "\n",
        "G_losses_g4 = []\n",
        "D_losses_g4 = []\n",
        "\n",
        "for epoch in range(100):\n",
        "  for inp_img in tqdm(train_dl_9):\n",
        "    inp_img = inp_img.cuda()\n",
        "    fak_img = noise_gen(12,100,'gaussian').cuda().float()\n",
        "    fak_lab = torch.zeros(12,1).cuda()\n",
        "    inp_lab = torch.ones(12,1).cuda()\n",
        "    D_9.zero_grad()\n",
        "    out_real = D_9(inp_img)\n",
        "    error_real = Loss(out_real.type(torch.float32), inp_lab.type(torch.float32))\n",
        "    error_real.backward()\n",
        "    D_x = out_real.mean().item()\n",
        "    out_inp = D_9(G_9(fak_img))\n",
        "    error_inp = Loss(out_inp.type(torch.float32), fak_lab.type(torch.float32))\n",
        "    error_inp.backward()\n",
        "    D_G_z1 = out_inp.mean().item()\n",
        "    error = error_real + error_inp\n",
        "    optimizerD_9.step()\n",
        "    output = D_9(inp_img)\n",
        "    errG = Loss(output.type(torch.float32), inp_lab.type(torch.float32))\n",
        "    errG.backward()\n",
        "    D_G_z2 = output.mean().item()\n",
        "    optimizerG_9.step()\n",
        "    G_losses_g4.append(errG.item())\n",
        "    D_losses_g4.append(error.item())"
      ],
      "metadata": {
        "colab": {
          "base_uri": "https://localhost:8080/"
        },
        "id": "i45iMsLqnRBX",
        "outputId": "0fc279ad-fb22-490f-c731-b114931eaefa"
      },
      "execution_count": null,
      "outputs": [
        {
          "output_type": "stream",
          "name": "stderr",
          "text": [
            "100%|██████████| 349/349 [00:03<00:00, 96.74it/s]\n",
            "100%|██████████| 349/349 [00:03<00:00, 89.41it/s]\n",
            "100%|██████████| 349/349 [00:03<00:00, 92.43it/s]\n",
            "100%|██████████| 349/349 [00:03<00:00, 95.87it/s]\n",
            "100%|██████████| 349/349 [00:03<00:00, 97.44it/s]\n",
            "100%|██████████| 349/349 [00:03<00:00, 97.78it/s]\n",
            "100%|██████████| 349/349 [00:03<00:00, 97.57it/s]\n",
            "100%|██████████| 349/349 [00:03<00:00, 97.86it/s]\n",
            "100%|██████████| 349/349 [00:03<00:00, 98.37it/s] \n",
            "100%|██████████| 349/349 [00:03<00:00, 97.65it/s]\n",
            "100%|██████████| 349/349 [00:03<00:00, 96.66it/s]\n",
            "100%|██████████| 349/349 [00:03<00:00, 96.53it/s]\n",
            "100%|██████████| 349/349 [00:03<00:00, 96.58it/s]\n",
            "100%|██████████| 349/349 [00:03<00:00, 97.12it/s]\n",
            "100%|██████████| 349/349 [00:03<00:00, 96.24it/s]\n",
            "100%|██████████| 349/349 [00:03<00:00, 98.11it/s] \n",
            "100%|██████████| 349/349 [00:03<00:00, 97.76it/s]\n",
            "100%|██████████| 349/349 [00:03<00:00, 97.55it/s]\n",
            "100%|██████████| 349/349 [00:03<00:00, 99.15it/s]\n",
            "100%|██████████| 349/349 [00:03<00:00, 96.90it/s]\n",
            "100%|██████████| 349/349 [00:03<00:00, 98.30it/s]\n",
            "100%|██████████| 349/349 [00:03<00:00, 97.04it/s]\n",
            "100%|██████████| 349/349 [00:03<00:00, 98.50it/s]\n",
            "100%|██████████| 349/349 [00:03<00:00, 97.38it/s]\n",
            "100%|██████████| 349/349 [00:03<00:00, 97.58it/s]\n",
            "100%|██████████| 349/349 [00:03<00:00, 97.58it/s]\n",
            "100%|██████████| 349/349 [00:03<00:00, 97.62it/s]\n",
            "100%|██████████| 349/349 [00:03<00:00, 93.49it/s]\n",
            "100%|██████████| 349/349 [00:03<00:00, 95.94it/s]\n",
            "100%|██████████| 349/349 [00:03<00:00, 92.83it/s]\n",
            "100%|██████████| 349/349 [00:03<00:00, 94.80it/s]\n",
            "100%|██████████| 349/349 [00:03<00:00, 95.49it/s]\n",
            "100%|██████████| 349/349 [00:03<00:00, 98.50it/s]\n",
            "100%|██████████| 349/349 [00:03<00:00, 97.37it/s]\n",
            "100%|██████████| 349/349 [00:03<00:00, 97.44it/s]\n",
            "100%|██████████| 349/349 [00:03<00:00, 97.35it/s]\n",
            "100%|██████████| 349/349 [00:03<00:00, 98.22it/s]\n",
            "100%|██████████| 349/349 [00:03<00:00, 98.88it/s]\n",
            "100%|██████████| 349/349 [00:03<00:00, 97.35it/s]\n",
            "100%|██████████| 349/349 [00:03<00:00, 98.10it/s] \n",
            "100%|██████████| 349/349 [00:03<00:00, 98.21it/s]\n",
            "100%|██████████| 349/349 [00:03<00:00, 96.51it/s]\n",
            "100%|██████████| 349/349 [00:03<00:00, 96.73it/s]\n",
            "100%|██████████| 349/349 [00:03<00:00, 96.80it/s]\n",
            "100%|██████████| 349/349 [00:03<00:00, 97.76it/s]\n",
            "100%|██████████| 349/349 [00:03<00:00, 97.47it/s]\n",
            "100%|██████████| 349/349 [00:03<00:00, 96.55it/s]\n",
            "100%|██████████| 349/349 [00:03<00:00, 97.08it/s]\n",
            "100%|██████████| 349/349 [00:03<00:00, 97.59it/s]\n",
            "100%|██████████| 349/349 [00:03<00:00, 97.08it/s]\n",
            "100%|██████████| 349/349 [00:03<00:00, 97.76it/s]\n",
            "100%|██████████| 349/349 [00:03<00:00, 96.89it/s]\n",
            "100%|██████████| 349/349 [00:03<00:00, 96.80it/s]\n",
            "100%|██████████| 349/349 [00:03<00:00, 97.80it/s]\n",
            "100%|██████████| 349/349 [00:03<00:00, 97.53it/s]\n",
            "100%|██████████| 349/349 [00:03<00:00, 97.68it/s]\n",
            "100%|██████████| 349/349 [00:03<00:00, 96.68it/s]\n",
            "100%|██████████| 349/349 [00:03<00:00, 95.77it/s]\n",
            "100%|██████████| 349/349 [00:03<00:00, 96.97it/s]\n",
            "100%|██████████| 349/349 [00:03<00:00, 98.72it/s] \n",
            "100%|██████████| 349/349 [00:03<00:00, 98.24it/s]\n",
            "100%|██████████| 349/349 [00:03<00:00, 97.67it/s]\n",
            "100%|██████████| 349/349 [00:03<00:00, 98.34it/s]\n",
            "100%|██████████| 349/349 [00:03<00:00, 99.03it/s] \n",
            "100%|██████████| 349/349 [00:03<00:00, 97.49it/s]\n",
            "100%|██████████| 349/349 [00:03<00:00, 98.00it/s]\n",
            "100%|██████████| 349/349 [00:03<00:00, 98.05it/s]\n",
            "100%|██████████| 349/349 [00:03<00:00, 98.64it/s]\n",
            "100%|██████████| 349/349 [00:03<00:00, 99.35it/s]\n",
            "100%|██████████| 349/349 [00:03<00:00, 98.83it/s]\n",
            "100%|██████████| 349/349 [00:03<00:00, 98.19it/s] \n",
            "100%|██████████| 349/349 [00:03<00:00, 98.53it/s]\n",
            "100%|██████████| 349/349 [00:03<00:00, 97.72it/s]\n",
            "100%|██████████| 349/349 [00:03<00:00, 98.98it/s]\n",
            "100%|██████████| 349/349 [00:03<00:00, 97.72it/s]\n",
            "100%|██████████| 349/349 [00:03<00:00, 97.55it/s]\n",
            "100%|██████████| 349/349 [00:03<00:00, 98.28it/s]\n",
            "100%|██████████| 349/349 [00:03<00:00, 98.68it/s]\n",
            "100%|██████████| 349/349 [00:03<00:00, 97.06it/s]\n",
            "100%|██████████| 349/349 [00:03<00:00, 97.11it/s]\n",
            "100%|██████████| 349/349 [00:03<00:00, 98.65it/s]\n",
            "100%|██████████| 349/349 [00:03<00:00, 97.50it/s]\n",
            "100%|██████████| 349/349 [00:03<00:00, 97.47it/s]\n",
            "100%|██████████| 349/349 [00:03<00:00, 97.70it/s]\n",
            "100%|██████████| 349/349 [00:03<00:00, 97.60it/s]\n",
            "100%|██████████| 349/349 [00:03<00:00, 96.44it/s]\n",
            "100%|██████████| 349/349 [00:03<00:00, 96.60it/s]\n",
            "100%|██████████| 349/349 [00:03<00:00, 96.45it/s]\n",
            "100%|██████████| 349/349 [00:03<00:00, 96.19it/s]\n",
            "100%|██████████| 349/349 [00:03<00:00, 98.27it/s]\n",
            "100%|██████████| 349/349 [00:03<00:00, 97.66it/s]\n",
            "100%|██████████| 349/349 [00:03<00:00, 97.66it/s]\n",
            "100%|██████████| 349/349 [00:03<00:00, 98.14it/s]\n",
            "100%|██████████| 349/349 [00:03<00:00, 98.34it/s]\n",
            "100%|██████████| 349/349 [00:03<00:00, 98.20it/s]\n",
            "100%|██████████| 349/349 [00:03<00:00, 98.15it/s]\n",
            "100%|██████████| 349/349 [00:03<00:00, 97.17it/s]\n",
            "100%|██████████| 349/349 [00:03<00:00, 98.40it/s]\n",
            "100%|██████████| 349/349 [00:03<00:00, 97.53it/s]\n",
            "100%|██████████| 349/349 [00:03<00:00, 96.21it/s]\n"
          ]
        }
      ]
    },
    {
      "cell_type": "code",
      "source": [
        "generate_image(G_9, 10, 'gaussian')"
      ],
      "metadata": {
        "colab": {
          "base_uri": "https://localhost:8080/",
          "height": 1000
        },
        "id": "sq9YJby7nlOe",
        "outputId": "b11346de-f106-4298-d732-12506f58d334"
      },
      "execution_count": null,
      "outputs": [
        {
          "output_type": "display_data",
          "data": {
            "text/plain": [
              "<Figure size 432x288 with 1 Axes>"
            ],
            "image/png": "[encoded data removed]"
          },
          "metadata": {
            "needs_background": "light"
          }
        },
        {
          "output_type": "display_data",
          "data": {
            "text/plain": [
              "<Figure size 432x288 with 1 Axes>"
            ],
            "image/png": "[encoded data removed]"
          },
          "metadata": {
            "needs_background": "light"
          }
        },
        {
          "output_type": "display_data",
          "data": {
            "text/plain": [
              "<Figure size 432x288 with 1 Axes>"
            ],
            "image/png": "[encoded data removed]"
          },
          "metadata": {
            "needs_background": "light"
          }
        },
        {
          "output_type": "display_data",
          "data": {
            "text/plain": [
              "<Figure size 432x288 with 1 Axes>"
            ],
            "image/png": "[encoded data removed]"
          },
          "metadata": {
            "needs_background": "light"
          }
        },
        {
          "output_type": "display_data",
          "data": {
            "text/plain": [
              "<Figure size 432x288 with 1 Axes>"
            ],
            "image/png": "[encoded data removed]"
          },
          "metadata": {
            "needs_background": "light"
          }
        },
        {
          "output_type": "display_data",
          "data": {
            "text/plain": [
              "<Figure size 432x288 with 1 Axes>"
            ],
            "image/png": "[encoded data removed]"
          },
          "metadata": {
            "needs_background": "light"
          }
        },
        {
          "output_type": "display_data",
          "data": {
            "text/plain": [
              "<Figure size 432x288 with 1 Axes>"
            ],
            "image/png": "[encoded data removed]"
          },
          "metadata": {
            "needs_background": "light"
          }
        },
        {
          "output_type": "display_data",
          "data": {
            "text/plain": [
              "<Figure size 432x288 with 1 Axes>"
            ],
            "image/png": "[encoded data removed]"
          },
          "metadata": {
            "needs_background": "light"
          }
        },
        {
          "output_type": "display_data",
          "data": {
            "text/plain": [
              "<Figure size 432x288 with 1 Axes>"
            ],
            "image/png": "[encoded data removed]"
          },
          "metadata": {
            "needs_background": "light"
          }
        },
        {
          "output_type": "display_data",
          "data": {
            "text/plain": [
              "<Figure size 432x288 with 1 Axes>"
            ],
            "image/png": "[encoded data removed]"
          },
          "metadata": {
            "needs_background": "light"
          }
        }
      ]
    },
    {
      "cell_type": "code",
      "source": [
        "plt.title(\"Loss v/s Iterations curve for 25 epochs of Gaussian Noise\")\n",
        "plt.plot([n for n in range(0,len(G_losses_g4))], G_losses_g4)\n",
        "plt.plot([n for n in range(0,len(D_losses_g4))], D_losses_g4)\n",
        "plt.xlabel(\"Iterations\")\n",
        "plt.ylabel(\"Loss\")\n",
        "plt.legend([\"Generator\",\"Discriminator\"])\n",
        "plt.show()"
      ],
      "metadata": {
        "colab": {
          "base_uri": "https://localhost:8080/",
          "height": 295
        },
        "id": "HFNaCyxwohAR",
        "outputId": "f46e9e44-21e4-498a-b05e-9ff17eed0717"
      },
      "execution_count": null,
      "outputs": [
        {
          "output_type": "display_data",
          "data": {
            "text/plain": [
              "<Figure size 432x288 with 1 Axes>"
            ],
            "image/png": "[encoded data removed]"
          },
          "metadata": {
            "needs_background": "light"
          }
        }
      ]
    }
  ]
}