{
  "nbformat": 4,
  "nbformat_minor": 0,
  "metadata": {
    "colab": {
      "name": "B19EE046_Assignment_1_3.ipynb",
      "provenance": [],
      "collapsed_sections": []
    },
    "kernelspec": {
      "name": "python3",
      "display_name": "Python 3"
    },
    "language_info": {
      "name": "python"
    },
    "accelerator": "GPU",
    "widgets": {
      "application/vnd.jupyter.widget-state+json": {
        "b613e6ac0cdc4ff799eaba8ebee0903f": {
          "model_module": "@jupyter-widgets/controls",
          "model_name": "HBoxModel",
          "model_module_version": "1.5.0",
          "state": {
            "_view_name": "HBoxView",
            "_dom_classes": [],
            "_model_name": "HBoxModel",
            "_view_module": "@jupyter-widgets/controls",
            "_model_module_version": "1.5.0",
            "_view_count": null,
            "_view_module_version": "1.5.0",
            "box_style": "",
            "layout": "IPY_MODEL_254b413068cd4ba4b8ff058a9a4969da",
            "_model_module": "@jupyter-widgets/controls",
            "children": [
              "IPY_MODEL_43611d44e3f94a0d9821bdfa379040b9",
              "IPY_MODEL_16429e2a23ae4c41a764b1659b81cc04",
              "IPY_MODEL_bb7e22db470649cd8119ed727c37b4f1"
            ]
          }
        },
        "254b413068cd4ba4b8ff058a9a4969da": {
          "model_module": "@jupyter-widgets/base",
          "model_name": "LayoutModel",
          "model_module_version": "1.2.0",
          "state": {
            "_view_name": "LayoutView",
            "grid_template_rows": null,
            "right": null,
            "justify_content": null,
            "_view_module": "@jupyter-widgets/base",
            "overflow": null,
            "_model_module_version": "1.2.0",
            "_view_count": null,
            "flex_flow": null,
            "width": null,
            "min_width": null,
            "border": null,
            "align_items": null,
            "bottom": null,
            "_model_module": "@jupyter-widgets/base",
            "top": null,
            "grid_column": null,
            "overflow_y": null,
            "overflow_x": null,
            "grid_auto_flow": null,
            "grid_area": null,
            "grid_template_columns": null,
            "flex": null,
            "_model_name": "LayoutModel",
            "justify_items": null,
            "grid_row": null,
            "max_height": null,
            "align_content": null,
            "visibility": null,
            "align_self": null,
            "height": null,
            "min_height": null,
            "padding": null,
            "grid_auto_rows": null,
            "grid_gap": null,
            "max_width": null,
            "order": null,
            "_view_module_version": "1.2.0",
            "grid_template_areas": null,
            "object_position": null,
            "object_fit": null,
            "grid_auto_columns": null,
            "margin": null,
            "display": null,
            "left": null
          }
        },
        "43611d44e3f94a0d9821bdfa379040b9": {
          "model_module": "@jupyter-widgets/controls",
          "model_name": "HTMLModel",
          "model_module_version": "1.5.0",
          "state": {
            "_view_name": "HTMLView",
            "style": "IPY_MODEL_1b18b177241940a49339010653d06840",
            "_dom_classes": [],
            "description": "",
            "_model_name": "HTMLModel",
            "placeholder": "​",
            "_view_module": "@jupyter-widgets/controls",
            "_model_module_version": "1.5.0",
            "value": "",
            "_view_count": null,
            "_view_module_version": "1.5.0",
            "description_tooltip": null,
            "_model_module": "@jupyter-widgets/controls",
            "layout": "IPY_MODEL_b4b650b4571e4243a32caa223ad6485f"
          }
        },
        "16429e2a23ae4c41a764b1659b81cc04": {
          "model_module": "@jupyter-widgets/controls",
          "model_name": "FloatProgressModel",
          "model_module_version": "1.5.0",
          "state": {
            "_view_name": "ProgressView",
            "style": "IPY_MODEL_055ff82a95a84639b24d4e88c17197ed",
            "_dom_classes": [],
            "description": "",
            "_model_name": "FloatProgressModel",
            "bar_style": "success",
            "max": 170498071,
            "_view_module": "@jupyter-widgets/controls",
            "_model_module_version": "1.5.0",
            "value": 170498071,
            "_view_count": null,
            "_view_module_version": "1.5.0",
            "orientation": "horizontal",
            "min": 0,
            "description_tooltip": null,
            "_model_module": "@jupyter-widgets/controls",
            "layout": "IPY_MODEL_2687ad9421264ca78bc54f56efb12e7e"
          }
        },
        "bb7e22db470649cd8119ed727c37b4f1": {
          "model_module": "@jupyter-widgets/controls",
          "model_name": "HTMLModel",
          "model_module_version": "1.5.0",
          "state": {
            "_view_name": "HTMLView",
            "style": "IPY_MODEL_ae97205a42574d3c869defa2d35632a7",
            "_dom_classes": [],
            "description": "",
            "_model_name": "HTMLModel",
            "placeholder": "​",
            "_view_module": "@jupyter-widgets/controls",
            "_model_module_version": "1.5.0",
            "value": " 170499072/? [00:03&lt;00:00, 51310828.08it/s]",
            "_view_count": null,
            "_view_module_version": "1.5.0",
            "description_tooltip": null,
            "_model_module": "@jupyter-widgets/controls",
            "layout": "IPY_MODEL_d9566d785e684a65ae904cb9c426b496"
          }
        },
        "1b18b177241940a49339010653d06840": {
          "model_module": "@jupyter-widgets/controls",
          "model_name": "DescriptionStyleModel",
          "model_module_version": "1.5.0",
          "state": {
            "_view_name": "StyleView",
            "_model_name": "DescriptionStyleModel",
            "description_width": "",
            "_view_module": "@jupyter-widgets/base",
            "_model_module_version": "1.5.0",
            "_view_count": null,
            "_view_module_version": "1.2.0",
            "_model_module": "@jupyter-widgets/controls"
          }
        },
        "b4b650b4571e4243a32caa223ad6485f": {
          "model_module": "@jupyter-widgets/base",
          "model_name": "LayoutModel",
          "model_module_version": "1.2.0",
          "state": {
            "_view_name": "LayoutView",
            "grid_template_rows": null,
            "right": null,
            "justify_content": null,
            "_view_module": "@jupyter-widgets/base",
            "overflow": null,
            "_model_module_version": "1.2.0",
            "_view_count": null,
            "flex_flow": null,
            "width": null,
            "min_width": null,
            "border": null,
            "align_items": null,
            "bottom": null,
            "_model_module": "@jupyter-widgets/base",
            "top": null,
            "grid_column": null,
            "overflow_y": null,
            "overflow_x": null,
            "grid_auto_flow": null,
            "grid_area": null,
            "grid_template_columns": null,
            "flex": null,
            "_model_name": "LayoutModel",
            "justify_items": null,
            "grid_row": null,
            "max_height": null,
            "align_content": null,
            "visibility": null,
            "align_self": null,
            "height": null,
            "min_height": null,
            "padding": null,
            "grid_auto_rows": null,
            "grid_gap": null,
            "max_width": null,
            "order": null,
            "_view_module_version": "1.2.0",
            "grid_template_areas": null,
            "object_position": null,
            "object_fit": null,
            "grid_auto_columns": null,
            "margin": null,
            "display": null,
            "left": null
          }
        },
        "055ff82a95a84639b24d4e88c17197ed": {
          "model_module": "@jupyter-widgets/controls",
          "model_name": "ProgressStyleModel",
          "model_module_version": "1.5.0",
          "state": {
            "_view_name": "StyleView",
            "_model_name": "ProgressStyleModel",
            "description_width": "",
            "_view_module": "@jupyter-widgets/base",
            "_model_module_version": "1.5.0",
            "_view_count": null,
            "_view_module_version": "1.2.0",
            "bar_color": null,
            "_model_module": "@jupyter-widgets/controls"
          }
        },
        "2687ad9421264ca78bc54f56efb12e7e": {
          "model_module": "@jupyter-widgets/base",
          "model_name": "LayoutModel",
          "model_module_version": "1.2.0",
          "state": {
            "_view_name": "LayoutView",
            "grid_template_rows": null,
            "right": null,
            "justify_content": null,
            "_view_module": "@jupyter-widgets/base",
            "overflow": null,
            "_model_module_version": "1.2.0",
            "_view_count": null,
            "flex_flow": null,
            "width": null,
            "min_width": null,
            "border": null,
            "align_items": null,
            "bottom": null,
            "_model_module": "@jupyter-widgets/base",
            "top": null,
            "grid_column": null,
            "overflow_y": null,
            "overflow_x": null,
            "grid_auto_flow": null,
            "grid_area": null,
            "grid_template_columns": null,
            "flex": null,
            "_model_name": "LayoutModel",
            "justify_items": null,
            "grid_row": null,
            "max_height": null,
            "align_content": null,
            "visibility": null,
            "align_self": null,
            "height": null,
            "min_height": null,
            "padding": null,
            "grid_auto_rows": null,
            "grid_gap": null,
            "max_width": null,
            "order": null,
            "_view_module_version": "1.2.0",
            "grid_template_areas": null,
            "object_position": null,
            "object_fit": null,
            "grid_auto_columns": null,
            "margin": null,
            "display": null,
            "left": null
          }
        },
        "ae97205a42574d3c869defa2d35632a7": {
          "model_module": "@jupyter-widgets/controls",
          "model_name": "DescriptionStyleModel",
          "model_module_version": "1.5.0",
          "state": {
            "_view_name": "StyleView",
            "_model_name": "DescriptionStyleModel",
            "description_width": "",
            "_view_module": "@jupyter-widgets/base",
            "_model_module_version": "1.5.0",
            "_view_count": null,
            "_view_module_version": "1.2.0",
            "_model_module": "@jupyter-widgets/controls"
          }
        },
        "d9566d785e684a65ae904cb9c426b496": {
          "model_module": "@jupyter-widgets/base",
          "model_name": "LayoutModel",
          "model_module_version": "1.2.0",
          "state": {
            "_view_name": "LayoutView",
            "grid_template_rows": null,
            "right": null,
            "justify_content": null,
            "_view_module": "@jupyter-widgets/base",
            "overflow": null,
            "_model_module_version": "1.2.0",
            "_view_count": null,
            "flex_flow": null,
            "width": null,
            "min_width": null,
            "border": null,
            "align_items": null,
            "bottom": null,
            "_model_module": "@jupyter-widgets/base",
            "top": null,
            "grid_column": null,
            "overflow_y": null,
            "overflow_x": null,
            "grid_auto_flow": null,
            "grid_area": null,
            "grid_template_columns": null,
            "flex": null,
            "_model_name": "LayoutModel",
            "justify_items": null,
            "grid_row": null,
            "max_height": null,
            "align_content": null,
            "visibility": null,
            "align_self": null,
            "height": null,
            "min_height": null,
            "padding": null,
            "grid_auto_rows": null,
            "grid_gap": null,
            "max_width": null,
            "order": null,
            "_view_module_version": "1.2.0",
            "grid_template_areas": null,
            "object_position": null,
            "object_fit": null,
            "grid_auto_columns": null,
            "margin": null,
            "display": null,
            "left": null
          }
        }
      }
    }
  },
  "cells": [
    {
      "cell_type": "code",
      "execution_count": 1,
      "metadata": {
        "id": "ZMiLtjylNjKo"
      },
      "outputs": [],
      "source": [
        "import numpy\n",
        "import torch\n",
        "from torchvision import datasets, transforms\n",
        "from tqdm import tqdm\n",
        "import matplotlib.pyplot as plt"
      ]
    },
    {
      "cell_type": "code",
      "source": [
        "device = torch.device('cuda' if torch.cuda.is_available() else 'cpu')\n",
        "device"
      ],
      "metadata": {
        "colab": {
          "base_uri": "https://localhost:8080/"
        },
        "id": "OBC3sJf9OK1g",
        "outputId": "7a2b80da-3407-44c1-80b3-68720c75eded"
      },
      "execution_count": 2,
      "outputs": [
        {
          "output_type": "execute_result",
          "data": {
            "text/plain": [
              "device(type='cuda')"
            ]
          },
          "metadata": {},
          "execution_count": 2
        }
      ]
    },
    {
      "cell_type": "code",
      "source": [
        "class CNN_1(torch.nn.Module):\n",
        "  def __init__(self, output_classes, pool_type, pool_size):\n",
        "    super().__init__()\n",
        "    self.sequential = torch.nn.Sequential(\n",
        "        torch.nn.Conv2d(3,6,3),\n",
        "        torch.nn.Conv2d(6,12,3),\n",
        "        pool_type(pool_size,pool_size),\n",
        "        torch.nn.Conv2d(12,24,3),\n",
        "        torch.nn.Conv2d(24,48,3),\n",
        "        pool_type(pool_size,pool_size))\n",
        "    self.classify = torch.nn.Sequential(\n",
        "        torch.nn.Linear(48 * 5 * 5, 600),\n",
        "        torch.nn.Linear(600, 300),\n",
        "        torch.nn.Linear(300, output_classes),\n",
        "        torch.nn.Softmax())\n",
        "    \n",
        "  def forward(self, x):\n",
        "    output = self.sequential(x)\n",
        "    output = output.view(-1,48*5*5)\n",
        "    output = self.classify(output)\n",
        "    return output\n",
        "\n",
        "class CNN_2(torch.nn.Module):\n",
        "  def __init__(self, output_classes, pool_type, pool_size):\n",
        "    super().__init__()\n",
        "    self.sequential = torch.nn.Sequential(\n",
        "        torch.nn.Conv2d(3,6,3),\n",
        "        pool_type(pool_size,pool_size),\n",
        "        torch.nn.BatchNorm2d(6),\n",
        "        torch.nn.ReLU(),\n",
        "        torch.nn.Conv2d(6,9,4),\n",
        "        pool_type(pool_size,pool_size),\n",
        "        torch.nn.BatchNorm2d(9),\n",
        "        torch.nn.ReLU())\n",
        "    self.classify = torch.nn.Sequential(\n",
        "        torch.nn.Linear(9 * 6 * 6, 243),\n",
        "        torch.nn.Linear(243, output_classes),\n",
        "        torch.nn.Softmax())\n",
        "    \n",
        "  def forward(self, x):\n",
        "    output = self.sequential(x)\n",
        "    output = output.view(-1,9*6*6)\n",
        "    output = self.classify(output)\n",
        "    return output\n",
        "\n",
        "class CNN_3(torch.nn.Module):\n",
        "  def __init__(self, output_classes):\n",
        "    super().__init__()\n",
        "    self.sequential = torch.nn.Sequential(\n",
        "        torch.nn.Conv2d(3,6,5),\n",
        "        torch.nn.BatchNorm2d(6),\n",
        "        torch.nn.ReLU(),\n",
        "        torch.nn.Conv2d(6,9,5),\n",
        "        torch.nn.BatchNorm2d(9),\n",
        "        torch.nn.ReLU())\n",
        "    self.classify = torch.nn.Sequential(\n",
        "        torch.nn.Linear(9 * 24 * 24, 2592),\n",
        "        torch.nn.Linear(2592, output_classes),\n",
        "        torch.nn.Softmax())\n",
        "    \n",
        "  def forward(self, x):\n",
        "    output = self.sequential(x)\n",
        "    output = output.view(-1,9*24*24)\n",
        "    output = self.classify(output)\n",
        "    return output"
      ],
      "metadata": {
        "id": "4_9ypQVCQd9L"
      },
      "execution_count": 3,
      "outputs": []
    },
    {
      "cell_type": "code",
      "source": [
        "def data_preparation(Dataset_Class, Mean, Std, Kernel, Batch_Size = 128, Shuffle = False):\n",
        "  transform = transforms.Compose([transforms.ToTensor(),transforms.Normalize(Mean, Std),transforms.GaussianBlur(Kernel)])\n",
        "  train_dataset = Dataset_Class(root = \"./data\", train = True, download = True, transform = transform)\n",
        "  train_loader = torch.utils.data.DataLoader(dataset = train_dataset, batch_size = Batch_Size, shuffle = Shuffle)\n",
        "  test_dataset = Dataset_Class(root = \"./data\", train = False, download = True, transform = transform)\n",
        "  test_loader = torch.utils.data.DataLoader(dataset = test_dataset, batch_size = Batch_Size, shuffle = Shuffle)\n",
        "  return train_loader, test_loader"
      ],
      "metadata": {
        "id": "Oc-_wi2LOM7q"
      },
      "execution_count": 4,
      "outputs": []
    },
    {
      "cell_type": "code",
      "source": [
        "def grad_change(Loss_Function, Optimizer, Supervised=False, Label = None, Predicted = None):\n",
        "  Optimizer.zero_grad()\n",
        "  loss = Loss_Function(Predicted, Label)\n",
        "  loss.backward()\n",
        "  Optimizer.step()\n",
        "  return loss, Optimizer\n",
        "\n",
        "def train_model(Train_Loader, Epochs, Model_Class=None, Loss_Function=None, Optimizer=None):\n",
        "  outputs=[]\n",
        "  for Epoch in tqdm(range(Epochs)):\n",
        "    running_loss=0\n",
        "    for (image, label) in Train_Loader:\n",
        "      image = image.cuda()\n",
        "      label = label.cuda()\n",
        "      out = Model_Class(image)\n",
        "      loss, Optimizer = grad_change(Loss_Function = Loss_Function, Optimizer = Optimizer, Label = label, Predicted = out)\n",
        "      running_loss += loss.item()\n",
        "    predicted = out.data.max(1, keepdim=True)[1]\n",
        "    outputs.append((Epoch, running_loss, label, predicted))\n",
        "  return Model_Class, outputs\n",
        "\n",
        "def evaluate_model(Test_Loader, Model_Class=None, Loss_Function=None):\n",
        "  outputs=[]\n",
        "  running_loss=0\n",
        "  correct=0\n",
        "  with torch.no_grad():\n",
        "    for (image, label) in Test_Loader:\n",
        "      image = image.cuda()\n",
        "      label = label.cuda()\n",
        "      out = Model_Class(image)\n",
        "      loss = Loss_Function(out,label)\n",
        "      running_loss += loss.item()\n",
        "      predicted = out.data.max(1, keepdim=True)[1]\n",
        "      correct += predicted.eq(label.data.view_as(predicted)).sum()\n",
        "    outputs.append((running_loss/len(Test_Loader), 100*correct/len(Test_Loader.dataset)))\n",
        "  return outputs"
      ],
      "metadata": {
        "id": "pv3AT4S4OZaJ"
      },
      "execution_count": 5,
      "outputs": []
    },
    {
      "cell_type": "code",
      "source": [
        "train, test = data_preparation(datasets.CIFAR10, (0,0,0), (1,1,1), (3,3), 256, Shuffle=False)"
      ],
      "metadata": {
        "colab": {
          "base_uri": "https://localhost:8080/",
          "height": 101,
          "referenced_widgets": [
            "b613e6ac0cdc4ff799eaba8ebee0903f",
            "254b413068cd4ba4b8ff058a9a4969da",
            "43611d44e3f94a0d9821bdfa379040b9",
            "16429e2a23ae4c41a764b1659b81cc04",
            "bb7e22db470649cd8119ed727c37b4f1",
            "1b18b177241940a49339010653d06840",
            "b4b650b4571e4243a32caa223ad6485f",
            "055ff82a95a84639b24d4e88c17197ed",
            "2687ad9421264ca78bc54f56efb12e7e",
            "ae97205a42574d3c869defa2d35632a7",
            "d9566d785e684a65ae904cb9c426b496"
          ]
        },
        "id": "4tNKFJZKPwNq",
        "outputId": "912cdfa3-c9d5-4b9a-a6f5-806aefa210d9"
      },
      "execution_count": 6,
      "outputs": [
        {
          "output_type": "stream",
          "name": "stdout",
          "text": [
            "Downloading https://www.cs.toronto.edu/~kriz/cifar-10-python.tar.gz to ./data/cifar-10-python.tar.gz\n"
          ]
        },
        {
          "output_type": "display_data",
          "data": {
            "application/vnd.jupyter.widget-view+json": {
              "model_id": "b613e6ac0cdc4ff799eaba8ebee0903f",
              "version_minor": 0,
              "version_major": 2
            },
            "text/plain": [
              "  0%|          | 0/170498071 [00:00<?, ?it/s]"
            ]
          },
          "metadata": {}
        },
        {
          "output_type": "stream",
          "name": "stdout",
          "text": [
            "Extracting ./data/cifar-10-python.tar.gz to ./data\n",
            "Files already downloaded and verified\n"
          ]
        }
      ]
    },
    {
      "cell_type": "code",
      "source": [
        "model_11 = CNN_1(output_classes=10, pool_type = torch.nn.MaxPool2d, pool_size=2).cuda()\n",
        "loss_function_11 = torch.nn.CrossEntropyLoss().cuda()\n",
        "optimizer_11 = torch.optim.Adam(model_11.parameters())\n",
        "model_21 = CNN_2(output_classes=10, pool_type = torch.nn.MaxPool2d, pool_size=2).cuda()\n",
        "loss_function_21 = torch.nn.CrossEntropyLoss().cuda()\n",
        "optimizer_21 = torch.optim.Adam(model_21.parameters())\n",
        "model_12 = CNN_1(output_classes=10, pool_type = torch.nn.AvgPool2d, pool_size=2).cuda()\n",
        "loss_function_12 = torch.nn.CrossEntropyLoss().cuda()\n",
        "optimizer_12 = torch.optim.Adam(model_12.parameters()) \n",
        "model_22 = CNN_2(output_classes=10, pool_type = torch.nn.AvgPool2d, pool_size=2).cuda()\n",
        "loss_function_22 = torch.nn.CrossEntropyLoss().cuda()\n",
        "optimizer_22 = torch.optim.Adam(model_22.parameters())\n",
        "model_13 = CNN_1(output_classes=10, pool_type = torch.nn.LPPool2d, pool_size=2).cuda()\n",
        "loss_function_13 = torch.nn.CrossEntropyLoss().cuda()\n",
        "optimizer_13 = torch.optim.Adam(model_13.parameters())\n",
        "model_23 = CNN_2(output_classes=10, pool_type = torch.nn.LPPool2d, pool_size=2).cuda()\n",
        "loss_function_23 = torch.nn.CrossEntropyLoss().cuda()\n",
        "optimizer_23 = torch.optim.Adam(model_23.parameters())\n",
        "model_3 = CNN_3(output_classes=10).cuda()\n",
        "loss_function_3 = torch.nn.CrossEntropyLoss().cuda()\n",
        "optimizer_3 = torch.optim.Adam(model_3.parameters())"
      ],
      "metadata": {
        "id": "nsb1iCRqQCRP"
      },
      "execution_count": 7,
      "outputs": []
    },
    {
      "cell_type": "code",
      "source": [
        "model_11, outputs_t11 = train_model(train,10,model_11,loss_function_11,optimizer_11)\n",
        "model_21, outputs_t21 = train_model(train,10,model_21,loss_function_21,optimizer_21)\n",
        "model_3, outputs_t3 = train_model(train,10,model_3,loss_function_3,optimizer_3)\n",
        "model_12, outputs_t12 = train_model(train,10,model_12,loss_function_12,optimizer_12)\n",
        "model_22, outputs_t22 = train_model(train,10,model_22,loss_function_22,optimizer_22)\n",
        "model_13, outputs_t13 = train_model(train,10,model_13,loss_function_13,optimizer_13)\n",
        "model_23, outputs_t23 = train_model(train,10,model_23,loss_function_23,optimizer_23)"
      ],
      "metadata": {
        "id": "iNxtZuA5SVah",
        "colab": {
          "base_uri": "https://localhost:8080/"
        },
        "outputId": "a3d8797d-f078-4067-f597-cd60aaa93377"
      },
      "execution_count": 8,
      "outputs": [
        {
          "output_type": "stream",
          "name": "stderr",
          "text": [
            "\r  0%|          | 0/10 [00:00<?, ?it/s]/usr/local/lib/python3.7/dist-packages/torch/nn/modules/container.py:141: UserWarning: Implicit dimension choice for softmax has been deprecated. Change the call to include dim=X as an argument.\n",
            "  input = module(input)\n",
            "100%|██████████| 10/10 [05:26<00:00, 32.61s/it]\n",
            "100%|██████████| 10/10 [05:23<00:00, 32.37s/it]\n",
            "100%|██████████| 10/10 [05:36<00:00, 33.60s/it]\n",
            "100%|██████████| 10/10 [05:25<00:00, 32.58s/it]\n",
            "100%|██████████| 10/10 [05:26<00:00, 32.63s/it]\n",
            "100%|██████████| 10/10 [05:29<00:00, 32.92s/it]\n",
            "100%|██████████| 10/10 [05:28<00:00, 32.83s/it]\n"
          ]
        }
      ]
    },
    {
      "cell_type": "code",
      "source": [
        "outputs_et11 = evaluate_model(train,model_11,loss_function_11)\n",
        "outputs_et21 = evaluate_model(train,model_21,loss_function_21)\n",
        "outputs_et3 = evaluate_model(train,model_3,loss_function_3)\n",
        "outputs_et12 = evaluate_model(train,model_12,loss_function_12)\n",
        "outputs_et22 = evaluate_model(train,model_22,loss_function_22)\n",
        "outputs_et13 = evaluate_model(train,model_13,loss_function_13)\n",
        "outputs_et23 = evaluate_model(train,model_23,loss_function_23)"
      ],
      "metadata": {
        "colab": {
          "base_uri": "https://localhost:8080/"
        },
        "id": "9hWXMk2JUgjp",
        "outputId": "878b9c52-8525-4cb1-f1fb-d0d5e26f23ad"
      },
      "execution_count": 9,
      "outputs": [
        {
          "output_type": "stream",
          "name": "stderr",
          "text": [
            "/usr/local/lib/python3.7/dist-packages/torch/nn/modules/container.py:141: UserWarning: Implicit dimension choice for softmax has been deprecated. Change the call to include dim=X as an argument.\n",
            "  input = module(input)\n"
          ]
        }
      ]
    },
    {
      "cell_type": "code",
      "source": [
        "outputs_ef11 = evaluate_model(test,model_11,loss_function_11)\n",
        "outputs_ef21 = evaluate_model(test,model_21,loss_function_21)\n",
        "outputs_ef3 = evaluate_model(test,model_3,loss_function_3)\n",
        "outputs_ef12 = evaluate_model(test,model_12,loss_function_12)\n",
        "outputs_ef22 = evaluate_model(test,model_22,loss_function_22)\n",
        "outputs_ef13 = evaluate_model(test,model_13,loss_function_13)\n",
        "outputs_ef23 = evaluate_model(test,model_23,loss_function_23)"
      ],
      "metadata": {
        "colab": {
          "base_uri": "https://localhost:8080/"
        },
        "id": "f4YOQHacU5CX",
        "outputId": "498953fb-64cf-4e47-c380-cb221b667cb4"
      },
      "execution_count": 10,
      "outputs": [
        {
          "output_type": "stream",
          "name": "stderr",
          "text": [
            "/usr/local/lib/python3.7/dist-packages/torch/nn/modules/container.py:141: UserWarning: Implicit dimension choice for softmax has been deprecated. Change the call to include dim=X as an argument.\n",
            "  input = module(input)\n"
          ]
        }
      ]
    },
    {
      "cell_type": "code",
      "source": [
        "class CNN_11(torch.nn.Module):\n",
        "  def __init__(self, output_classes, pool_type):\n",
        "    super().__init__()\n",
        "    self.sequential = torch.nn.Sequential(\n",
        "        torch.nn.Conv2d(3,6,3),\n",
        "        torch.nn.Conv2d(6,12,3),\n",
        "        pool_type(4,4),\n",
        "        torch.nn.Conv2d(12,24,3),\n",
        "        torch.nn.Conv2d(24,48,3),\n",
        "        pool_type(3,3))\n",
        "    self.classify = torch.nn.Sequential(\n",
        "        torch.nn.Linear(48 * 1 * 1, 24),\n",
        "        torch.nn.Linear(24, 12),\n",
        "        torch.nn.Linear(12, output_classes),\n",
        "        torch.nn.Softmax())\n",
        "    \n",
        "  def forward(self, x):\n",
        "    output = self.sequential(x)\n",
        "    output = output.view(-1,48*1*1)\n",
        "    output = self.classify(output)\n",
        "    return output\n",
        "\n",
        "class CNN_12(torch.nn.Module):\n",
        "  def __init__(self, output_classes, pool_type):\n",
        "    super().__init__()\n",
        "    self.sequential = torch.nn.Sequential(\n",
        "        torch.nn.Conv2d(3,6,3),\n",
        "        torch.nn.Conv2d(6,12,3),\n",
        "        pool_type(2,2),\n",
        "        torch.nn.Conv2d(12,24,3),\n",
        "        torch.nn.Conv2d(24,48,3),\n",
        "        pool_type(5,5))\n",
        "    self.classify = torch.nn.Sequential(\n",
        "        torch.nn.Linear(48 * 2 * 2, 96),\n",
        "        torch.nn.Linear(96, 48),\n",
        "        torch.nn.Linear(48, output_classes),\n",
        "        torch.nn.Softmax())\n",
        "    \n",
        "  def forward(self, x):\n",
        "    output = self.sequential(x)\n",
        "    output = output.view(-1,48*2*2)\n",
        "    output = self.classify(output)\n",
        "    return output"
      ],
      "metadata": {
        "id": "DMWaaIknk80y"
      },
      "execution_count": 13,
      "outputs": []
    },
    {
      "cell_type": "code",
      "source": [
        "model_112 = CNN_11(output_classes=10, pool_type = torch.nn.MaxPool2d).cuda()\n",
        "loss_function_112 = torch.nn.CrossEntropyLoss().cuda()\n",
        "optimizer_112 = torch.optim.Adam(model_112.parameters())\n",
        "model_113 = CNN_12(output_classes=10, pool_type = torch.nn.MaxPool2d).cuda()\n",
        "loss_function_113 = torch.nn.CrossEntropyLoss().cuda()\n",
        "optimizer_113 = torch.optim.Adam(model_113.parameters())"
      ],
      "metadata": {
        "id": "8B47rh7OnjyL"
      },
      "execution_count": 14,
      "outputs": []
    },
    {
      "cell_type": "code",
      "source": [
        "model_112, outputs_t112 = train_model(train,10,model_112,loss_function_112,optimizer_112)\n",
        "model_113, outputs_t113 = train_model(train,10,model_113,loss_function_113,optimizer_113)\n",
        "outputs_et112 = evaluate_model(train,model_112,loss_function_112)\n",
        "outputs_et113 = evaluate_model(train,model_113,loss_function_113)\n",
        "outputs_ef112 = evaluate_model(train,model_112,loss_function_112)\n",
        "outputs_ef113 = evaluate_model(train,model_113,loss_function_113)"
      ],
      "metadata": {
        "colab": {
          "base_uri": "https://localhost:8080/"
        },
        "id": "sq0K4KlZoSJq",
        "outputId": "c5a28f86-b0f8-4c4c-dd89-828aa45dcd20"
      },
      "execution_count": 15,
      "outputs": [
        {
          "output_type": "stream",
          "name": "stderr",
          "text": [
            "  0%|          | 0/10 [00:00<?, ?it/s]/usr/local/lib/python3.7/dist-packages/torch/nn/modules/container.py:141: UserWarning: Implicit dimension choice for softmax has been deprecated. Change the call to include dim=X as an argument.\n",
            "  input = module(input)\n",
            "100%|██████████| 10/10 [05:26<00:00, 32.60s/it]\n",
            "100%|██████████| 10/10 [05:18<00:00, 31.89s/it]\n"
          ]
        }
      ]
    },
    {
      "cell_type": "code",
      "source": [
        "class CNN_31(torch.nn.Module):\n",
        "  def __init__(self, output_classes):\n",
        "    super().__init__()\n",
        "    self.sequential = torch.nn.Sequential(\n",
        "        torch.nn.Conv2d(3,6,5,stride=2),\n",
        "        torch.nn.BatchNorm2d(6),\n",
        "        torch.nn.ReLU(),\n",
        "        torch.nn.Conv2d(6,9,5,stride=2),\n",
        "        torch.nn.BatchNorm2d(9),\n",
        "        torch.nn.ReLU())\n",
        "    self.classify = torch.nn.Sequential(\n",
        "        torch.nn.Linear(9 * 5 * 5, 128),\n",
        "        torch.nn.Linear(128, output_classes),\n",
        "        torch.nn.Softmax())\n",
        "    \n",
        "  def forward(self, x):\n",
        "    output = self.sequential(x)\n",
        "    output = output.view(-1,9*5*5)\n",
        "    output = self.classify(output)\n",
        "    return output"
      ],
      "metadata": {
        "id": "yWONirshqqrl"
      },
      "execution_count": 16,
      "outputs": []
    },
    {
      "cell_type": "code",
      "source": [
        "model_31 = CNN_31(output_classes=10).cuda()\n",
        "loss_function_31 = torch.nn.CrossEntropyLoss().cuda()\n",
        "optimizer_31 = torch.optim.Adam(model_31.parameters())"
      ],
      "metadata": {
        "id": "IbPljOqpqq2M"
      },
      "execution_count": 17,
      "outputs": []
    },
    {
      "cell_type": "code",
      "source": [
        "model_31, outputs_t31 = train_model(train,10,model_31,loss_function_31,optimizer_31)\n",
        "outputs_et31 = evaluate_model(train,model_31,loss_function_31)\n",
        "outputs_ef31 = evaluate_model(train,model_31,loss_function_31)"
      ],
      "metadata": {
        "colab": {
          "base_uri": "https://localhost:8080/"
        },
        "id": "fxLCkPoLrC5e",
        "outputId": "cb11867f-baf6-48bd-9f06-ec99c857d8e8"
      },
      "execution_count": 18,
      "outputs": [
        {
          "output_type": "stream",
          "name": "stderr",
          "text": [
            "\r  0%|          | 0/10 [00:00<?, ?it/s]/usr/local/lib/python3.7/dist-packages/torch/nn/modules/container.py:141: UserWarning: Implicit dimension choice for softmax has been deprecated. Change the call to include dim=X as an argument.\n",
            "  input = module(input)\n",
            "100%|██████████| 10/10 [06:00<00:00, 36.09s/it]\n"
          ]
        }
      ]
    },
    {
      "cell_type": "code",
      "source": [
        "plt.figure(figsize=(10,5))\n",
        "plt.bar([\"Architecture-1\",\"Architecture-2\",\"Architecture-3\"],[outputs_et11[0][0],outputs_et21[0][0],outputs_et3[0][0]])\n",
        "plt.ylabel(\"Total Loss\")\n",
        "plt.title(\"Training Loss for Varied Architectures\")\n",
        "plt.show()"
      ],
      "metadata": {
        "colab": {
          "base_uri": "https://localhost:8080/",
          "height": 336
        },
        "id": "nUxil7lwuDQh",
        "outputId": "a0b5c7ad-55ac-452f-9182-37cf4a4d61dc"
      },
      "execution_count": 57,
      "outputs": [
        {
          "output_type": "display_data",
          "data": {
            "image/png": "[encoded data removed]",
            "text/plain": [
              "<Figure size 720x360 with 1 Axes>"
            ]
          },
          "metadata": {
            "needs_background": "light"
          }
        }
      ]
    },
    {
      "cell_type": "code",
      "source": [
        "plt.figure(figsize=(10,5))\n",
        "plt.bar([\"Architecture-1\",\"Architecture-2\",\"Architecture-3\"],[outputs_ef11[0][0],outputs_ef21[0][0],outputs_ef3[0][0]])\n",
        "plt.ylabel(\"Total Loss\")\n",
        "plt.title(\"Test Loss for Varied Architectures\")\n",
        "plt.show()"
      ],
      "metadata": {
        "colab": {
          "base_uri": "https://localhost:8080/",
          "height": 336
        },
        "id": "W7OCn_XFuoCy",
        "outputId": "74cf72e7-1006-415b-d5d9-68f82dba0590"
      },
      "execution_count": 58,
      "outputs": [
        {
          "output_type": "display_data",
          "data": {
            "image/png": "[encoded data removed]",
            "text/plain": [
              "<Figure size 720x360 with 1 Axes>"
            ]
          },
          "metadata": {
            "needs_background": "light"
          }
        }
      ]
    },
    {
      "cell_type": "code",
      "source": [
        "plt.figure(figsize=(10,5))\n",
        "plt.bar([\"Architecture-1\",\"Architecture-2\",\"Architecture-3\"],[outputs_et11[0][1],outputs_et21[0][1],outputs_et3[0][1]])\n",
        "plt.ylabel(\"Accuracy %\")\n",
        "plt.title(\"Training Accuracy for Varied Architectures\")\n",
        "plt.show()"
      ],
      "metadata": {
        "colab": {
          "base_uri": "https://localhost:8080/",
          "height": 336
        },
        "id": "FQ0G6p3HsZJH",
        "outputId": "d6b802ae-9594-4e5d-e550-dd09fc5c648a"
      },
      "execution_count": 59,
      "outputs": [
        {
          "output_type": "display_data",
          "data": {
            "image/png": "[encoded data removed]",
            "text/plain": [
              "<Figure size 720x360 with 1 Axes>"
            ]
          },
          "metadata": {
            "needs_background": "light"
          }
        }
      ]
    },
    {
      "cell_type": "code",
      "source": [
        "plt.figure(figsize=(10,5))\n",
        "plt.bar([\"Architecture-1\",\"Architecture-2\",\"Architecture-3\"],[outputs_ef11[0][1],outputs_ef21[0][1],outputs_ef3[0][1]])\n",
        "plt.ylabel(\"Accuracy %\")\n",
        "plt.title(\"Test Accuracy for Varied Architectures\")\n",
        "plt.show()"
      ],
      "metadata": {
        "colab": {
          "base_uri": "https://localhost:8080/",
          "height": 336
        },
        "id": "hh7dGOlluq94",
        "outputId": "3977a73f-0596-4534-9396-0084a3b1f4fe"
      },
      "execution_count": 60,
      "outputs": [
        {
          "output_type": "display_data",
          "data": {
            "image/png": "[encoded data removed]",
            "text/plain": [
              "<Figure size 720x360 with 1 Axes>"
            ]
          },
          "metadata": {
            "needs_background": "light"
          }
        }
      ]
    },
    {
      "cell_type": "code",
      "source": [
        "plt.figure(figsize=(20,5))\n",
        "plt.bar([\"Architecture-1 (MaxPool)\",\"Architecture-2 (MaxPool)\",\"Architecture-1 (AvgPool)\",\"Architecture-2 (AvgPool)\",\"Architecture-1 (LPPool)\",\"Architecture-2 (LPPool)\"],[outputs_et11[0][0],outputs_et21[0][0],outputs_et12[0][0],outputs_et22[0][0],outputs_et13[0][0],outputs_et23[0][0]])\n",
        "plt.ylabel(\"Total Loss\")\n",
        "plt.title(\"Training Loss for Varied Architectures with different Pooling Methods\")\n",
        "plt.show()"
      ],
      "metadata": {
        "colab": {
          "base_uri": "https://localhost:8080/",
          "height": 336
        },
        "id": "zNybqF77vRQx",
        "outputId": "16188f0b-6b16-4796-8320-3d42e53abdf9"
      },
      "execution_count": 61,
      "outputs": [
        {
          "output_type": "display_data",
          "data": {
            "image/png": "[encoded data removed]",
            "text/plain": [
              "<Figure size 1440x360 with 1 Axes>"
            ]
          },
          "metadata": {
            "needs_background": "light"
          }
        }
      ]
    },
    {
      "cell_type": "code",
      "source": [
        "plt.figure(figsize=(20,5))\n",
        "plt.bar([\"Architecture-1 (MaxPool)\",\"Architecture-2 (MaxPool)\",\"Architecture-1 (AvgPool)\",\"Architecture-2 (AvgPool)\",\"Architecture-1 (LPPool)\",\"Architecture-2 (LPPool)\"],[outputs_ef11[0][0],outputs_ef21[0][0],outputs_ef12[0][0],outputs_ef22[0][0],outputs_ef13[0][0],outputs_ef23[0][0]])\n",
        "plt.ylabel(\"Total Loss\")\n",
        "plt.title(\"Test Loss for Varied Architectures with different Pooling Methods\")\n",
        "plt.show()"
      ],
      "metadata": {
        "colab": {
          "base_uri": "https://localhost:8080/",
          "height": 336
        },
        "id": "i1LSVP-ov37b",
        "outputId": "76535aa2-9b4e-4ca1-8083-c766d34a1c92"
      },
      "execution_count": 62,
      "outputs": [
        {
          "output_type": "display_data",
          "data": {
            "image/png": "[encoded data removed]",
            "text/plain": [
              "<Figure size 1440x360 with 1 Axes>"
            ]
          },
          "metadata": {
            "needs_background": "light"
          }
        }
      ]
    },
    {
      "cell_type": "code",
      "source": [
        "plt.figure(figsize=(20,5))\n",
        "plt.bar([\"Architecture-1 (MaxPool)\",\"Architecture-2 (MaxPool)\",\"Architecture-1 (AvgPool)\",\"Architecture-2 (AvgPool)\",\"Architecture-1 (LPPool)\",\"Architecture-2 (LPPool)\"],[outputs_et11[0][1],outputs_et21[0][1],outputs_et12[0][1],outputs_et22[0][1],outputs_et13[0][1],outputs_et23[0][1]])\n",
        "plt.ylabel(\"Accuracy %\")\n",
        "plt.title(\"Training Accuracy for Varied Architectures with different Pooling Methods\")\n",
        "plt.show()"
      ],
      "metadata": {
        "colab": {
          "base_uri": "https://localhost:8080/",
          "height": 336
        },
        "id": "_2ScOboKv4O1",
        "outputId": "c20bb26a-6b77-4032-a11c-25858a585f05"
      },
      "execution_count": 63,
      "outputs": [
        {
          "output_type": "display_data",
          "data": {
            "image/png": "[encoded data removed]",
            "text/plain": [
              "<Figure size 1440x360 with 1 Axes>"
            ]
          },
          "metadata": {
            "needs_background": "light"
          }
        }
      ]
    },
    {
      "cell_type": "code",
      "source": [
        "plt.figure(figsize=(20,5))\n",
        "plt.bar([\"Architecture-1 (MaxPool)\",\"Architecture-2 (MaxPool)\",\"Architecture-1 (AvgPool)\",\"Architecture-2 (AvgPool)\",\"Architecture-1 (LPPool)\",\"Architecture-2 (LPPool)\"],[outputs_ef11[0][1],outputs_ef21[0][1],outputs_ef12[0][1],outputs_ef22[0][1],outputs_ef13[0][1],outputs_ef23[0][1]])\n",
        "plt.ylabel(\"Accuracy %\")\n",
        "plt.title(\"Test Accuracy for Varied Architectures with different Pooling Methods\")\n",
        "plt.show()"
      ],
      "metadata": {
        "colab": {
          "base_uri": "https://localhost:8080/",
          "height": 336
        },
        "id": "Vy7UuwqMv4a9",
        "outputId": "4ad94be2-5dd9-484b-9354-6bff190d5224"
      },
      "execution_count": 64,
      "outputs": [
        {
          "output_type": "display_data",
          "data": {
            "image/png": "[encoded data removed]",
            "text/plain": [
              "<Figure size 1440x360 with 1 Axes>"
            ]
          },
          "metadata": {
            "needs_background": "light"
          }
        }
      ]
    },
    {
      "cell_type": "code",
      "source": [
        "plt.figure(figsize=(15,5))\n",
        "plt.bar([\"Architecture-1\",\"Architecture-1 (Both Kernels Increased)\",\"Architecture-1 (Last Kernel Increased)\"],[outputs_et11[0][0],outputs_et112[0][0],outputs_et113[0][0]])\n",
        "plt.ylabel(\"Total Loss\")\n",
        "plt.title(\"Training Loss for Varied Kernel Improvisations\")\n",
        "plt.show()"
      ],
      "metadata": {
        "colab": {
          "base_uri": "https://localhost:8080/",
          "height": 336
        },
        "id": "o6al9hJAw2ei",
        "outputId": "13e30bdf-56f6-4998-b29b-99859b38dad1"
      },
      "execution_count": 65,
      "outputs": [
        {
          "output_type": "display_data",
          "data": {
            "image/png": "[encoded data removed]",
            "text/plain": [
              "<Figure size 1080x360 with 1 Axes>"
            ]
          },
          "metadata": {
            "needs_background": "light"
          }
        }
      ]
    },
    {
      "cell_type": "code",
      "source": [
        "plt.figure(figsize=(15,5))\n",
        "plt.bar([\"Architecture-1\",\"Architecture-1 (Both Kernels Increased)\",\"Architecture-1 (Last Kernel Increased)\"],[outputs_ef11[0][0],outputs_ef112[0][0],outputs_ef113[0][0]])\n",
        "plt.ylabel(\"Total Loss\")\n",
        "plt.title(\"Test Loss for Varied Kernel Improvisations\")\n",
        "plt.show()"
      ],
      "metadata": {
        "colab": {
          "base_uri": "https://localhost:8080/",
          "height": 336
        },
        "id": "ty4V9VRLw2sq",
        "outputId": "6564a162-74ed-4477-f83a-1d06a3a59cd9"
      },
      "execution_count": 66,
      "outputs": [
        {
          "output_type": "display_data",
          "data": {
            "image/png": "[encoded data removed]",
            "text/plain": [
              "<Figure size 1080x360 with 1 Axes>"
            ]
          },
          "metadata": {
            "needs_background": "light"
          }
        }
      ]
    },
    {
      "cell_type": "code",
      "source": [
        "plt.figure(figsize=(15,5))\n",
        "plt.bar([\"Architecture-1\",\"Architecture-1 (Both Kernels Increased)\",\"Architecture-1 (Last Kernel Increased)\"],[outputs_et11[0][1],outputs_et112[0][1],outputs_et113[0][1]])\n",
        "plt.ylabel(\"Accuracy %\")\n",
        "plt.title(\"Training Accuracy for Varied Kernel Improvisations\")\n",
        "plt.show()"
      ],
      "metadata": {
        "colab": {
          "base_uri": "https://localhost:8080/",
          "height": 336
        },
        "id": "JtVl-nWdw2uR",
        "outputId": "d339492a-4100-44d8-a07b-574d9955a2d3"
      },
      "execution_count": 67,
      "outputs": [
        {
          "output_type": "display_data",
          "data": {
            "image/png": "[encoded data removed]",
            "text/plain": [
              "<Figure size 1080x360 with 1 Axes>"
            ]
          },
          "metadata": {
            "needs_background": "light"
          }
        }
      ]
    },
    {
      "cell_type": "code",
      "source": [
        "plt.figure(figsize=(15,5))\n",
        "plt.bar([\"Architecture-1\",\"Architecture-1 (Both Kernels Increased)\",\"Architecture-1 (Last Kernel Increased)\"],[outputs_ef11[0][1],outputs_ef112[0][1],outputs_ef113[0][1]])\n",
        "plt.ylabel(\"Accuracy %\")\n",
        "plt.title(\"Test Accuracy for Varied Kernel Improvisations\")\n",
        "plt.show()"
      ],
      "metadata": {
        "colab": {
          "base_uri": "https://localhost:8080/",
          "height": 336
        },
        "id": "DQBP4exFw238",
        "outputId": "db1723b2-ac0a-4d56-b7c5-19f859b02817"
      },
      "execution_count": 68,
      "outputs": [
        {
          "output_type": "display_data",
          "data": {
            "image/png": "[encoded data removed]",
            "text/plain": [
              "<Figure size 1080x360 with 1 Axes>"
            ]
          },
          "metadata": {
            "needs_background": "light"
          }
        }
      ]
    },
    {
      "cell_type": "code",
      "source": [
        "plt.figure(figsize=(7,10))\n",
        "plt.bar([\"Architecture-3 (Stride=1)\",\"Architecture-3 (Stride=2)\"],[outputs_et3[0][0],outputs_et31[0][0]])\n",
        "plt.ylabel(\"Total Loss\")\n",
        "plt.title(\"Training Loss for Varied Stride Values\")\n",
        "plt.show()"
      ],
      "metadata": {
        "colab": {
          "base_uri": "https://localhost:8080/",
          "height": 607
        },
        "id": "Ncccqaj8xfwr",
        "outputId": "12d79345-7916-431f-98ec-53272f4284e9"
      },
      "execution_count": 69,
      "outputs": [
        {
          "output_type": "display_data",
          "data": {
            "image/png": "[encoded data removed]",
            "text/plain": [
              "<Figure size 504x720 with 1 Axes>"
            ]
          },
          "metadata": {
            "needs_background": "light"
          }
        }
      ]
    },
    {
      "cell_type": "code",
      "source": [
        "plt.figure(figsize=(7,10))\n",
        "plt.bar([\"Architecture-3 (Stride=1)\",\"Architecture-3 (Stride=2)\"],[outputs_ef3[0][0],outputs_ef31[0][0]])\n",
        "plt.ylabel(\"Total Loss\")\n",
        "plt.title(\"Test Loss for Varied Stride Values\")\n",
        "plt.show()"
      ],
      "metadata": {
        "colab": {
          "base_uri": "https://localhost:8080/",
          "height": 607
        },
        "id": "Qk9IN1-hxf5D",
        "outputId": "54ffdb81-5a20-4595-fa7a-89b08e177e80"
      },
      "execution_count": 70,
      "outputs": [
        {
          "output_type": "display_data",
          "data": {
            "image/png": "[encoded data removed]",
            "text/plain": [
              "<Figure size 504x720 with 1 Axes>"
            ]
          },
          "metadata": {
            "needs_background": "light"
          }
        }
      ]
    },
    {
      "cell_type": "code",
      "source": [
        "plt.figure(figsize=(7,10))\n",
        "plt.bar([\"Architecture-3 (Stride=1)\",\"Architecture-3 (Stride=2)\"],[outputs_ef3[0][1],outputs_ef31[0][1]])\n",
        "plt.ylabel(\"Accuracy %\")\n",
        "plt.title(\"Training Accuracy for Varied Stride Values\")\n",
        "plt.show()"
      ],
      "metadata": {
        "colab": {
          "base_uri": "https://localhost:8080/",
          "height": 607
        },
        "id": "cN415QplxgP4",
        "outputId": "5c9a0dd7-eeed-4491-9d92-deb54053de0f"
      },
      "execution_count": 71,
      "outputs": [
        {
          "output_type": "display_data",
          "data": {
            "image/png": "[encoded data removed]",
            "text/plain": [
              "<Figure size 504x720 with 1 Axes>"
            ]
          },
          "metadata": {
            "needs_background": "light"
          }
        }
      ]
    },
    {
      "cell_type": "code",
      "source": [
        "plt.figure(figsize=(7,10))\n",
        "plt.bar([\"Architecture-3 (Stride=1)\",\"Architecture-3 (Stride=2)\"],[outputs_ef3[0][1],outputs_ef31[0][1]])\n",
        "plt.ylabel(\"Accuracy %\")\n",
        "plt.title(\"Test Accuracy for Varied Stride Values\")\n",
        "plt.show()"
      ],
      "metadata": {
        "colab": {
          "base_uri": "https://localhost:8080/",
          "height": 607
        },
        "id": "pm9N4KKwxgV-",
        "outputId": "46b168be-3388-4f3e-fafc-4d50ccf6dfe4"
      },
      "execution_count": 72,
      "outputs": [
        {
          "output_type": "display_data",
          "data": {
            "image/png": "[encoded data removed]",
            "text/plain": [
              "<Figure size 504x720 with 1 Axes>"
            ]
          },
          "metadata": {
            "needs_background": "light"
          }
        }
      ]
    }
  ]
}